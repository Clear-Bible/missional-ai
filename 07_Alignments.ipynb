{
 "cells": [
  {
   "cell_type": "markdown",
   "id": "7f09ec36-67cd-4d13-b370-84acea16d684",
   "metadata": {
    "tags": []
   },
   "source": [
    "<a href=\"https://colab.research.google.com/github/Clear-Bible/missional-ai/blob/main/07_Alignments.ipynb\" target=\"_parent\">\n",
    "<img src=\"https://colab.research.google.com/assets/colab-badge.svg\" alt=\"Open In Colab\"/></a>\n"
   ]
  },
  {
   "cell_type": "markdown",
   "id": "eab8bfb6-9f0b-4a77-ad67-4ec16040628a",
   "metadata": {},
   "source": [
    "# Bible Alignments\n",
    "\n",
    "Clear Bible is building a repository of Bible alignments and supporting Python code at https://github.com/Clear-Bible/bible-alignments. \n",
    "\n",
    "This notebook shows a simple example of loading and displaying the alignment data for Mark 1-2.\n",
    "\n",
    "A subset of the data has been included in this repository for the NA27 Greek New Testament, and the Lexham English Bible. Full data is not included because of copyright. "
   ]
  },
  {
   "cell_type": "code",
   "execution_count": 1,
   "id": "9216cfa2-cf7a-46fa-bf42-a8313298fa34",
   "metadata": {},
   "outputs": [
    {
     "name": "stdout",
     "output_type": "stream",
     "text": [
      "Requirement already satisfied: bible-alignments==0.2.3 in /usr/local/lib/python3.10/site-packages (0.2.3)\n",
      "Requirement already satisfied: jupyterlab<4.0.0,>=3.6.1 in /usr/local/lib/python3.10/site-packages (from bible-alignments==0.2.3) (3.6.3)\n",
      "Requirement already satisfied: tomli<3.0.0,>=2.0.1 in /usr/local/lib/python3.10/site-packages (from bible-alignments==0.2.3) (2.0.1)\n",
      "Requirement already satisfied: jsonlines<4.0.0,>=3.1.0 in /usr/local/lib/python3.10/site-packages (from bible-alignments==0.2.3) (3.1.0)\n",
      "Requirement already satisfied: attrs>=19.2.0 in /usr/local/lib/python3.10/site-packages (from jsonlines<4.0.0,>=3.1.0->bible-alignments==0.2.3) (22.2.0)\n",
      "Requirement already satisfied: notebook<7 in /usr/local/lib/python3.10/site-packages (from jupyterlab<4.0.0,>=3.6.1->bible-alignments==0.2.3) (6.5.4)\n",
      "Requirement already satisfied: jupyter-server-ydoc~=0.8.0 in /usr/local/lib/python3.10/site-packages (from jupyterlab<4.0.0,>=3.6.1->bible-alignments==0.2.3) (0.8.0)\n",
      "Requirement already satisfied: jupyter-ydoc~=0.2.3 in /usr/local/lib/python3.10/site-packages (from jupyterlab<4.0.0,>=3.6.1->bible-alignments==0.2.3) (0.2.3)\n",
      "Requirement already satisfied: ipython in /usr/local/lib/python3.10/site-packages (from jupyterlab<4.0.0,>=3.6.1->bible-alignments==0.2.3) (8.12.0)\n",
      "Requirement already satisfied: jupyter-core in /usr/local/lib/python3.10/site-packages (from jupyterlab<4.0.0,>=3.6.1->bible-alignments==0.2.3) (5.3.0)\n",
      "Requirement already satisfied: tornado>=6.1.0 in /usr/local/lib/python3.10/site-packages (from jupyterlab<4.0.0,>=3.6.1->bible-alignments==0.2.3) (6.2)\n",
      "Requirement already satisfied: jupyter-server<3,>=1.16.0 in /usr/local/lib/python3.10/site-packages (from jupyterlab<4.0.0,>=3.6.1->bible-alignments==0.2.3) (2.5.0)\n",
      "Requirement already satisfied: jinja2>=2.1 in /usr/local/lib/python3.10/site-packages (from jupyterlab<4.0.0,>=3.6.1->bible-alignments==0.2.3) (3.1.2)\n",
      "Requirement already satisfied: packaging in /Users/sboisen/Library/Python/3.10/lib/python/site-packages (from jupyterlab<4.0.0,>=3.6.1->bible-alignments==0.2.3) (21.3)\n",
      "Requirement already satisfied: nbclassic in /usr/local/lib/python3.10/site-packages (from jupyterlab<4.0.0,>=3.6.1->bible-alignments==0.2.3) (0.5.5)\n",
      "Requirement already satisfied: jupyterlab-server~=2.19 in /usr/local/lib/python3.10/site-packages (from jupyterlab<4.0.0,>=3.6.1->bible-alignments==0.2.3) (2.22.0)\n",
      "Requirement already satisfied: MarkupSafe>=2.0 in /usr/local/lib/python3.10/site-packages (from jinja2>=2.1->jupyterlab<4.0.0,>=3.6.1->bible-alignments==0.2.3) (2.1.1)\n",
      "Requirement already satisfied: anyio>=3.1.0 in /usr/local/lib/python3.10/site-packages (from jupyter-server<3,>=1.16.0->jupyterlab<4.0.0,>=3.6.1->bible-alignments==0.2.3) (3.6.2)\n",
      "Requirement already satisfied: jupyter-client>=7.4.4 in /usr/local/lib/python3.10/site-packages (from jupyter-server<3,>=1.16.0->jupyterlab<4.0.0,>=3.6.1->bible-alignments==0.2.3) (8.1.0)\n",
      "Requirement already satisfied: prometheus-client in /usr/local/lib/python3.10/site-packages (from jupyter-server<3,>=1.16.0->jupyterlab<4.0.0,>=3.6.1->bible-alignments==0.2.3) (0.16.0)\n",
      "Requirement already satisfied: pyzmq>=24 in /usr/local/lib/python3.10/site-packages (from jupyter-server<3,>=1.16.0->jupyterlab<4.0.0,>=3.6.1->bible-alignments==0.2.3) (25.0.2)\n",
      "Requirement already satisfied: send2trash in /usr/local/lib/python3.10/site-packages (from jupyter-server<3,>=1.16.0->jupyterlab<4.0.0,>=3.6.1->bible-alignments==0.2.3) (1.8.0)\n",
      "Requirement already satisfied: terminado>=0.8.3 in /usr/local/lib/python3.10/site-packages (from jupyter-server<3,>=1.16.0->jupyterlab<4.0.0,>=3.6.1->bible-alignments==0.2.3) (0.17.1)\n",
      "Requirement already satisfied: nbconvert>=6.4.4 in /usr/local/lib/python3.10/site-packages (from jupyter-server<3,>=1.16.0->jupyterlab<4.0.0,>=3.6.1->bible-alignments==0.2.3) (7.3.1)\n",
      "Requirement already satisfied: jupyter-events>=0.4.0 in /usr/local/lib/python3.10/site-packages (from jupyter-server<3,>=1.16.0->jupyterlab<4.0.0,>=3.6.1->bible-alignments==0.2.3) (0.6.3)\n",
      "Requirement already satisfied: websocket-client in /usr/local/lib/python3.10/site-packages (from jupyter-server<3,>=1.16.0->jupyterlab<4.0.0,>=3.6.1->bible-alignments==0.2.3) (1.5.1)\n",
      "Requirement already satisfied: traitlets>=5.6.0 in /usr/local/lib/python3.10/site-packages (from jupyter-server<3,>=1.16.0->jupyterlab<4.0.0,>=3.6.1->bible-alignments==0.2.3) (5.9.0)\n",
      "Requirement already satisfied: nbformat>=5.3.0 in /usr/local/lib/python3.10/site-packages (from jupyter-server<3,>=1.16.0->jupyterlab<4.0.0,>=3.6.1->bible-alignments==0.2.3) (5.8.0)\n",
      "Requirement already satisfied: jupyter-server-terminals in /usr/local/lib/python3.10/site-packages (from jupyter-server<3,>=1.16.0->jupyterlab<4.0.0,>=3.6.1->bible-alignments==0.2.3) (0.4.4)\n",
      "Requirement already satisfied: argon2-cffi in /usr/local/lib/python3.10/site-packages (from jupyter-server<3,>=1.16.0->jupyterlab<4.0.0,>=3.6.1->bible-alignments==0.2.3) (21.3.0)\n",
      "Requirement already satisfied: platformdirs>=2.5 in /usr/local/lib/python3.10/site-packages (from jupyter-core->jupyterlab<4.0.0,>=3.6.1->bible-alignments==0.2.3) (2.5.2)\n",
      "Requirement already satisfied: jupyter-server-fileid<1,>=0.6.0 in /usr/local/lib/python3.10/site-packages (from jupyter-server-ydoc~=0.8.0->jupyterlab<4.0.0,>=3.6.1->bible-alignments==0.2.3) (0.9.0)\n",
      "Requirement already satisfied: ypy-websocket<0.9.0,>=0.8.2 in /usr/local/lib/python3.10/site-packages (from jupyter-server-ydoc~=0.8.0->jupyterlab<4.0.0,>=3.6.1->bible-alignments==0.2.3) (0.8.2)\n",
      "Requirement already satisfied: y-py<0.6.0,>=0.5.3 in /usr/local/lib/python3.10/site-packages (from jupyter-ydoc~=0.2.3->jupyterlab<4.0.0,>=3.6.1->bible-alignments==0.2.3) (0.5.9)\n",
      "Requirement already satisfied: requests>=2.28 in /usr/local/lib/python3.10/site-packages (from jupyterlab-server~=2.19->jupyterlab<4.0.0,>=3.6.1->bible-alignments==0.2.3) (2.28.1)\n",
      "Requirement already satisfied: json5>=0.9.0 in /usr/local/lib/python3.10/site-packages (from jupyterlab-server~=2.19->jupyterlab<4.0.0,>=3.6.1->bible-alignments==0.2.3) (0.9.11)\n",
      "Requirement already satisfied: babel>=2.10 in /usr/local/lib/python3.10/site-packages (from jupyterlab-server~=2.19->jupyterlab<4.0.0,>=3.6.1->bible-alignments==0.2.3) (2.12.1)\n",
      "Requirement already satisfied: jsonschema>=4.17.3 in /usr/local/lib/python3.10/site-packages (from jupyterlab-server~=2.19->jupyterlab<4.0.0,>=3.6.1->bible-alignments==0.2.3) (4.17.3)\n",
      "Requirement already satisfied: ipykernel in /usr/local/lib/python3.10/site-packages (from notebook<7->jupyterlab<4.0.0,>=3.6.1->bible-alignments==0.2.3) (6.22.0)\n",
      "Requirement already satisfied: ipython-genutils in /usr/local/lib/python3.10/site-packages (from notebook<7->jupyterlab<4.0.0,>=3.6.1->bible-alignments==0.2.3) (0.2.0)\n",
      "Requirement already satisfied: nest-asyncio>=1.5 in /usr/local/lib/python3.10/site-packages (from notebook<7->jupyterlab<4.0.0,>=3.6.1->bible-alignments==0.2.3) (1.5.6)\n",
      "Requirement already satisfied: notebook-shim>=0.1.0 in /usr/local/lib/python3.10/site-packages (from nbclassic->jupyterlab<4.0.0,>=3.6.1->bible-alignments==0.2.3) (0.2.2)\n",
      "Requirement already satisfied: pyparsing!=3.0.5,>=2.0.2 in /Users/sboisen/Library/Python/3.10/lib/python/site-packages (from packaging->jupyterlab<4.0.0,>=3.6.1->bible-alignments==0.2.3) (3.0.9)\n",
      "Requirement already satisfied: pygments>=2.4.0 in /usr/local/Cellar/pygments/2.14.0/libexec/lib/python3.10/site-packages (from ipython->jupyterlab<4.0.0,>=3.6.1->bible-alignments==0.2.3) (2.14.0)\n",
      "Requirement already satisfied: pexpect>4.3 in /usr/local/lib/python3.10/site-packages (from ipython->jupyterlab<4.0.0,>=3.6.1->bible-alignments==0.2.3) (4.8.0)\n",
      "Requirement already satisfied: backcall in /usr/local/lib/python3.10/site-packages (from ipython->jupyterlab<4.0.0,>=3.6.1->bible-alignments==0.2.3) (0.2.0)\n",
      "Requirement already satisfied: prompt-toolkit!=3.0.37,<3.1.0,>=3.0.30 in /usr/local/lib/python3.10/site-packages (from ipython->jupyterlab<4.0.0,>=3.6.1->bible-alignments==0.2.3) (3.0.38)\n",
      "Requirement already satisfied: decorator in /usr/local/lib/python3.10/site-packages (from ipython->jupyterlab<4.0.0,>=3.6.1->bible-alignments==0.2.3) (5.1.1)\n",
      "Requirement already satisfied: jedi>=0.16 in /usr/local/lib/python3.10/site-packages (from ipython->jupyterlab<4.0.0,>=3.6.1->bible-alignments==0.2.3) (0.17.2)\n",
      "Requirement already satisfied: pickleshare in /usr/local/lib/python3.10/site-packages (from ipython->jupyterlab<4.0.0,>=3.6.1->bible-alignments==0.2.3) (0.7.5)\n",
      "Requirement already satisfied: stack-data in /usr/local/lib/python3.10/site-packages (from ipython->jupyterlab<4.0.0,>=3.6.1->bible-alignments==0.2.3) (0.6.2)\n",
      "Requirement already satisfied: appnope in /usr/local/lib/python3.10/site-packages (from ipython->jupyterlab<4.0.0,>=3.6.1->bible-alignments==0.2.3) (0.1.3)\n",
      "Requirement already satisfied: matplotlib-inline in /usr/local/lib/python3.10/site-packages (from ipython->jupyterlab<4.0.0,>=3.6.1->bible-alignments==0.2.3) (0.1.6)\n",
      "Requirement already satisfied: sniffio>=1.1 in /usr/local/lib/python3.10/site-packages (from anyio>=3.1.0->jupyter-server<3,>=1.16.0->jupyterlab<4.0.0,>=3.6.1->bible-alignments==0.2.3) (1.3.0)\n",
      "Requirement already satisfied: idna>=2.8 in /usr/local/lib/python3.10/site-packages (from anyio>=3.1.0->jupyter-server<3,>=1.16.0->jupyterlab<4.0.0,>=3.6.1->bible-alignments==0.2.3) (3.4)\n",
      "Requirement already satisfied: parso<0.8.0,>=0.7.0 in /usr/local/lib/python3.10/site-packages (from jedi>=0.16->ipython->jupyterlab<4.0.0,>=3.6.1->bible-alignments==0.2.3) (0.7.1)\n",
      "Requirement already satisfied: pyrsistent!=0.17.0,!=0.17.1,!=0.17.2,>=0.14.0 in /usr/local/lib/python3.10/site-packages (from jsonschema>=4.17.3->jupyterlab-server~=2.19->jupyterlab<4.0.0,>=3.6.1->bible-alignments==0.2.3) (0.19.3)\n",
      "Requirement already satisfied: python-dateutil>=2.8.2 in /usr/local/lib/python3.10/site-packages (from jupyter-client>=7.4.4->jupyter-server<3,>=1.16.0->jupyterlab<4.0.0,>=3.6.1->bible-alignments==0.2.3) (2.8.2)\n",
      "Requirement already satisfied: rfc3339-validator in /usr/local/lib/python3.10/site-packages (from jupyter-events>=0.4.0->jupyter-server<3,>=1.16.0->jupyterlab<4.0.0,>=3.6.1->bible-alignments==0.2.3) (0.1.4)\n",
      "Requirement already satisfied: rfc3986-validator>=0.1.1 in /usr/local/lib/python3.10/site-packages (from jupyter-events>=0.4.0->jupyter-server<3,>=1.16.0->jupyterlab<4.0.0,>=3.6.1->bible-alignments==0.2.3) (0.1.1)\n",
      "Requirement already satisfied: pyyaml>=5.3 in /usr/local/lib/python3.10/site-packages (from jupyter-events>=0.4.0->jupyter-server<3,>=1.16.0->jupyterlab<4.0.0,>=3.6.1->bible-alignments==0.2.3) (6.0)\n",
      "Requirement already satisfied: python-json-logger>=2.0.4 in /usr/local/lib/python3.10/site-packages (from jupyter-events>=0.4.0->jupyter-server<3,>=1.16.0->jupyterlab<4.0.0,>=3.6.1->bible-alignments==0.2.3) (2.0.7)\n",
      "Requirement already satisfied: bleach in /usr/local/lib/python3.10/site-packages (from nbconvert>=6.4.4->jupyter-server<3,>=1.16.0->jupyterlab<4.0.0,>=3.6.1->bible-alignments==0.2.3) (6.0.0)\n",
      "Requirement already satisfied: defusedxml in /usr/local/lib/python3.10/site-packages (from nbconvert>=6.4.4->jupyter-server<3,>=1.16.0->jupyterlab<4.0.0,>=3.6.1->bible-alignments==0.2.3) (0.7.1)\n",
      "Requirement already satisfied: beautifulsoup4 in /usr/local/lib/python3.10/site-packages (from nbconvert>=6.4.4->jupyter-server<3,>=1.16.0->jupyterlab<4.0.0,>=3.6.1->bible-alignments==0.2.3) (4.12.2)\n",
      "Requirement already satisfied: nbclient>=0.5.0 in /usr/local/lib/python3.10/site-packages (from nbconvert>=6.4.4->jupyter-server<3,>=1.16.0->jupyterlab<4.0.0,>=3.6.1->bible-alignments==0.2.3) (0.7.3)\n",
      "Requirement already satisfied: pandocfilters>=1.4.1 in /usr/local/lib/python3.10/site-packages (from nbconvert>=6.4.4->jupyter-server<3,>=1.16.0->jupyterlab<4.0.0,>=3.6.1->bible-alignments==0.2.3) (1.5.0)\n",
      "Requirement already satisfied: mistune<3,>=2.0.3 in /usr/local/lib/python3.10/site-packages (from nbconvert>=6.4.4->jupyter-server<3,>=1.16.0->jupyterlab<4.0.0,>=3.6.1->bible-alignments==0.2.3) (2.0.5)\n",
      "Requirement already satisfied: tinycss2 in /usr/local/lib/python3.10/site-packages (from nbconvert>=6.4.4->jupyter-server<3,>=1.16.0->jupyterlab<4.0.0,>=3.6.1->bible-alignments==0.2.3) (1.2.1)\n",
      "Requirement already satisfied: jupyterlab-pygments in /usr/local/lib/python3.10/site-packages (from nbconvert>=6.4.4->jupyter-server<3,>=1.16.0->jupyterlab<4.0.0,>=3.6.1->bible-alignments==0.2.3) (0.2.2)\n",
      "Requirement already satisfied: fastjsonschema in /usr/local/lib/python3.10/site-packages (from nbformat>=5.3.0->jupyter-server<3,>=1.16.0->jupyterlab<4.0.0,>=3.6.1->bible-alignments==0.2.3) (2.16.3)\n",
      "Requirement already satisfied: ptyprocess>=0.5 in /usr/local/lib/python3.10/site-packages (from pexpect>4.3->ipython->jupyterlab<4.0.0,>=3.6.1->bible-alignments==0.2.3) (0.7.0)\n",
      "Requirement already satisfied: wcwidth in /usr/local/lib/python3.10/site-packages (from prompt-toolkit!=3.0.37,<3.1.0,>=3.0.30->ipython->jupyterlab<4.0.0,>=3.6.1->bible-alignments==0.2.3) (0.2.6)\n",
      "Requirement already satisfied: urllib3<1.27,>=1.21.1 in /usr/local/lib/python3.10/site-packages (from requests>=2.28->jupyterlab-server~=2.19->jupyterlab<4.0.0,>=3.6.1->bible-alignments==0.2.3) (1.26.12)\n",
      "Requirement already satisfied: certifi>=2017.4.17 in /usr/local/lib/python3.10/site-packages (from requests>=2.28->jupyterlab-server~=2.19->jupyterlab<4.0.0,>=3.6.1->bible-alignments==0.2.3) (2022.9.24)\n",
      "Requirement already satisfied: charset-normalizer<3,>=2 in /usr/local/lib/python3.10/site-packages (from requests>=2.28->jupyterlab-server~=2.19->jupyterlab<4.0.0,>=3.6.1->bible-alignments==0.2.3) (2.1.1)\n",
      "Requirement already satisfied: aiosqlite<1,>=0.17.0 in /usr/local/lib/python3.10/site-packages (from ypy-websocket<0.9.0,>=0.8.2->jupyter-server-ydoc~=0.8.0->jupyterlab<4.0.0,>=3.6.1->bible-alignments==0.2.3) (0.18.0)\n",
      "Requirement already satisfied: aiofiles<23,>=22.1.0 in /usr/local/lib/python3.10/site-packages (from ypy-websocket<0.9.0,>=0.8.2->jupyter-server-ydoc~=0.8.0->jupyterlab<4.0.0,>=3.6.1->bible-alignments==0.2.3) (22.1.0)\n",
      "Requirement already satisfied: argon2-cffi-bindings in /usr/local/lib/python3.10/site-packages (from argon2-cffi->jupyter-server<3,>=1.16.0->jupyterlab<4.0.0,>=3.6.1->bible-alignments==0.2.3) (21.2.0)\n",
      "Requirement already satisfied: psutil in /usr/local/lib/python3.10/site-packages (from ipykernel->notebook<7->jupyterlab<4.0.0,>=3.6.1->bible-alignments==0.2.3) (5.9.4)\n",
      "Requirement already satisfied: debugpy>=1.6.5 in /usr/local/lib/python3.10/site-packages (from ipykernel->notebook<7->jupyterlab<4.0.0,>=3.6.1->bible-alignments==0.2.3) (1.6.7)\n",
      "Requirement already satisfied: comm>=0.1.1 in /usr/local/lib/python3.10/site-packages (from ipykernel->notebook<7->jupyterlab<4.0.0,>=3.6.1->bible-alignments==0.2.3) (0.1.3)\n",
      "Requirement already satisfied: executing>=1.2.0 in /usr/local/lib/python3.10/site-packages (from stack-data->ipython->jupyterlab<4.0.0,>=3.6.1->bible-alignments==0.2.3) (1.2.0)\n",
      "Requirement already satisfied: pure-eval in /usr/local/lib/python3.10/site-packages (from stack-data->ipython->jupyterlab<4.0.0,>=3.6.1->bible-alignments==0.2.3) (0.2.2)\n",
      "Requirement already satisfied: asttokens>=2.1.0 in /usr/local/lib/python3.10/site-packages (from stack-data->ipython->jupyterlab<4.0.0,>=3.6.1->bible-alignments==0.2.3) (2.2.1)\n",
      "Requirement already satisfied: six in /usr/local/lib/python3.10/site-packages (from asttokens>=2.1.0->stack-data->ipython->jupyterlab<4.0.0,>=3.6.1->bible-alignments==0.2.3) (1.16.0)\n",
      "Requirement already satisfied: webcolors>=1.11 in /usr/local/lib/python3.10/site-packages (from jsonschema>=4.17.3->jupyterlab-server~=2.19->jupyterlab<4.0.0,>=3.6.1->bible-alignments==0.2.3) (1.13)\n",
      "Requirement already satisfied: isoduration in /usr/local/lib/python3.10/site-packages (from jsonschema>=4.17.3->jupyterlab-server~=2.19->jupyterlab<4.0.0,>=3.6.1->bible-alignments==0.2.3) (20.11.0)\n",
      "Requirement already satisfied: fqdn in /usr/local/lib/python3.10/site-packages (from jsonschema>=4.17.3->jupyterlab-server~=2.19->jupyterlab<4.0.0,>=3.6.1->bible-alignments==0.2.3) (1.5.1)\n",
      "Requirement already satisfied: uri-template in /usr/local/lib/python3.10/site-packages (from jsonschema>=4.17.3->jupyterlab-server~=2.19->jupyterlab<4.0.0,>=3.6.1->bible-alignments==0.2.3) (1.2.0)\n",
      "Requirement already satisfied: jsonpointer>1.13 in /usr/local/lib/python3.10/site-packages (from jsonschema>=4.17.3->jupyterlab-server~=2.19->jupyterlab<4.0.0,>=3.6.1->bible-alignments==0.2.3) (2.3)\n",
      "Requirement already satisfied: cffi>=1.0.1 in /usr/local/lib/python3.10/site-packages (from argon2-cffi-bindings->argon2-cffi->jupyter-server<3,>=1.16.0->jupyterlab<4.0.0,>=3.6.1->bible-alignments==0.2.3) (1.15.1)\n",
      "Requirement already satisfied: soupsieve>1.2 in /usr/local/lib/python3.10/site-packages (from beautifulsoup4->nbconvert>=6.4.4->jupyter-server<3,>=1.16.0->jupyterlab<4.0.0,>=3.6.1->bible-alignments==0.2.3) (2.4)\n",
      "Requirement already satisfied: webencodings in /usr/local/lib/python3.10/site-packages (from bleach->nbconvert>=6.4.4->jupyter-server<3,>=1.16.0->jupyterlab<4.0.0,>=3.6.1->bible-alignments==0.2.3) (0.5.1)\n",
      "Requirement already satisfied: pycparser in /usr/local/lib/python3.10/site-packages (from cffi>=1.0.1->argon2-cffi-bindings->argon2-cffi->jupyter-server<3,>=1.16.0->jupyterlab<4.0.0,>=3.6.1->bible-alignments==0.2.3) (2.21)\n",
      "Requirement already satisfied: arrow>=0.15.0 in /usr/local/lib/python3.10/site-packages (from isoduration->jsonschema>=4.17.3->jupyterlab-server~=2.19->jupyterlab<4.0.0,>=3.6.1->bible-alignments==0.2.3) (1.2.3)\n",
      "\n",
      "\u001b[1m[\u001b[0m\u001b[34;49mnotice\u001b[0m\u001b[1;39;49m]\u001b[0m\u001b[39;49m A new release of pip is available: \u001b[0m\u001b[31;49m23.0\u001b[0m\u001b[39;49m -> \u001b[0m\u001b[32;49m23.0.1\u001b[0m\n",
      "\u001b[1m[\u001b[0m\u001b[34;49mnotice\u001b[0m\u001b[1;39;49m]\u001b[0m\u001b[39;49m To update, run: \u001b[0m\u001b[32;49mpython3.10 -m pip install --upgrade pip\u001b[0m\n"
     ]
    }
   ],
   "source": [
    "# install the code and dependencies\n",
    "!pip install bible-alignments==0.2.3"
   ]
  },
  {
   "cell_type": "code",
   "execution_count": 2,
   "id": "e14d333f-70c1-4b5c-aa85-de96d8d0ec83",
   "metadata": {
    "tags": []
   },
   "outputs": [],
   "source": [
    "from src import grapecity\n",
    "from src import config\n",
    "\n",
    "# reset paths for the notebook\n",
    "# this overwrites the values from bible-alignments\n",
    "import os\n",
    "from pathlib import Path\n",
    "config.ROOT = Path(os.getcwd())\n",
    "DATAPATH = config.ROOT / \"data\"\n",
    "\n",
    "config.ALIGNMENTS = DATAPATH / \"alignments\"\n",
    "config.SOURCES = DATAPATH / \"sources\"\n",
    "config.TARGETS = DATAPATH / \"targets\"\n",
    "config.NAMES = DATAPATH / \"names\"\n"
   ]
  },
  {
   "cell_type": "code",
   "execution_count": 3,
   "id": "e0cc099f-ac32-4174-a9a1-a7c380fe08c3",
   "metadata": {},
   "outputs": [],
   "source": [
    "rd = grapecity.Reader(sourceid=\"NA27\", targetid=\"LEB\", languageid=\"eng\", processid=\"manual\")"
   ]
  },
  {
   "cell_type": "code",
   "execution_count": 4,
   "id": "d59d69c2-c62b-4740-8736-f34cbc770dff",
   "metadata": {
    "tags": []
   },
   "outputs": [
    {
     "name": "stdout",
     "output_type": "stream",
     "text": [
      "Source:\tNA27\t(1249 words)\n",
      "Target:\tLEB\t(2034 words)\n",
      "Process:\tmanual\n",
      "1130 alignments\n"
     ]
    }
   ],
   "source": [
    "# show an overview of the loaded alignment data\n",
    "# note there are about 50% more English tokens than Greek ones: many of these are likely to be punctuation.\n",
    "rd.display()"
   ]
  },
  {
   "cell_type": "code",
   "execution_count": 5,
   "id": "7b06a561-5852-426a-a42d-c4340c221381",
   "metadata": {
    "tags": []
   },
   "outputs": [
    {
     "name": "stdout",
     "output_type": "stream",
     "text": [
      "41001001.1: ['Ἀρχὴ']\t['beginning']\n",
      "41001001.2: ['τοῦ']\t['the']\n",
      "41001001.3: ['εὐαγγελίου']\t['gospel', 'of']\n",
      "41001001.4: ['Ἰησοῦ']\t['Jesus', 'of']\n",
      "41001001.5: ['Χριστοῦ']\t['Christ']\n"
     ]
    }
   ],
   "source": [
    "# display the alignments for Mark 1:1\n",
    "for k in rd.keys():\n",
    "    if k.startswith(\"41001001\"):\n",
    "        rd[k].display()"
   ]
  },
  {
   "cell_type": "code",
   "execution_count": 6,
   "id": "318af9e1-d995-4592-832f-3c55d8c89bb8",
   "metadata": {
    "tags": []
   },
   "outputs": [
    {
     "name": "stdout",
     "output_type": "stream",
     "text": [
      "41001002.1: ['Καθὼς']\t['Just', 'as']\n",
      "41001002.2: ['γέγραπται']\t['written', 'it', 'is']\n",
      "41001002.3: ['ἐν']\t['in']\n",
      "41001002.4: ['Ἠσαΐᾳ']\t['Isaiah']\n",
      "41001002.5: ['τῷ']\t['the']\n",
      "41001002.6: ['προφήτῃ']\t['prophet']\n",
      "41001002.7: ['ἰδοὺ']\t['Behold']\n",
      "41001002.8: ['ἀποστέλλω']\t['sending', 'I', 'am']\n",
      "41001002.9: ['ἄγγελόν']\t['messenger']\n",
      "41001002.10: ['μου']\t['my']\n",
      "41001002.11: ['πρὸ']\t['before']\n",
      "41001002.12: ['προσώπου']\t['face']\n",
      "41001002.13: ['σου']\t['your']\n",
      "41001002.14: ['ὃς']\t['who']\n",
      "41001002.15: ['κατασκευάσει']\t['prepare', 'will']\n",
      "41001002.16: ['ὁδόν']\t['way']\n",
      "41001002.17: ['σου']\t['your']\n"
     ]
    }
   ],
   "source": [
    "# display the alignments for Mark 1:2\n",
    "for k in rd.keys():\n",
    "    if k.startswith(\"41001002\"):\n",
    "        rd[k].display()"
   ]
  },
  {
   "cell_type": "code",
   "execution_count": null,
   "id": "0ac886db-6836-4668-abee-6a82642c49a9",
   "metadata": {},
   "outputs": [],
   "source": []
  }
 ],
 "metadata": {
  "kernelspec": {
   "display_name": "Python 3 (ipykernel)",
   "language": "python",
   "name": "python3"
  },
  "language_info": {
   "codemirror_mode": {
    "name": "ipython",
    "version": 3
   },
   "file_extension": ".py",
   "mimetype": "text/x-python",
   "name": "python",
   "nbconvert_exporter": "python",
   "pygments_lexer": "ipython3",
   "version": "3.11.2"
  }
 },
 "nbformat": 4,
 "nbformat_minor": 5
}
