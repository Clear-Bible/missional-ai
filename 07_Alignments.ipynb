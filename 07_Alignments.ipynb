{
 "cells": [
  {
   "cell_type": "markdown",
   "id": "7f09ec36-67cd-4d13-b370-84acea16d684",
   "metadata": {
    "tags": []
   },
   "source": [
    "<a href=\"https://colab.research.google.com/github/Clear-Bible/missional-ai/blob/main/07_Alignments.ipynb\" target=\"_parent\">\n",
    "<img src=\"https://colab.research.google.com/assets/colab-badge.svg\" alt=\"Open In Colab\"/></a>\n"
   ]
  },
  {
   "cell_type": "markdown",
   "id": "eab8bfb6-9f0b-4a77-ad67-4ec16040628a",
   "metadata": {},
   "source": [
    "# Bible Alignments\n",
    "\n",
    "Clear Bible is building a repository of Bible alignments and supporting Python code at https://github.com/Clear-Bible/alignments. \n",
    "\n",
    "This notebook shows a simple example of loading and displaying the alignment data for Mark 1-2.\n",
    "\n",
    "A subset of the data has been included in this repository for the NA27 Greek New Testament, and the Lexham English Bible. Full data is not included because of copyright restrictions."
   ]
  },
  {
   "cell_type": "code",
   "execution_count": 9,
   "id": "9216cfa2-cf7a-46fa-bf42-a8313298fa34",
   "metadata": {
    "tags": []
   },
   "outputs": [],
   "source": [
    "%%capture\n",
    "# quietly install the code and dependencies\n",
    "# comment out the capture line for debugging information\n",
    "!pip install \"bible-alignments>=0.2.10\""
   ]
  },
  {
   "cell_type": "code",
   "execution_count": 13,
   "id": "e14d333f-70c1-4b5c-aa85-de96d8d0ec83",
   "metadata": {
    "tags": []
   },
   "outputs": [
    {
     "name": "stdout",
     "output_type": "stream",
     "text": [
      "Cloning into 'missional-ai'...\n",
      "remote: Enumerating objects: 174, done.\u001b[K\n",
      "remote: Counting objects: 100% (174/174), done.\u001b[K\n",
      "remote: Compressing objects: 100% (108/108), done.\u001b[K\n",
      "remote: Total 174 (delta 82), reused 115 (delta 49), pack-reused 0\u001b[K\n",
      "Receiving objects: 100% (174/174), 9.27 MiB | 6.48 MiB/s, done.\n",
      "Resolving deltas: 100% (82/82), done.\n",
      "DATAPATH = /Users/sboisen/git/Clear-Bible/missional-ai/missional-ai/data\n"
     ]
    }
   ],
   "source": [
    "from bible_alignments import grapecity\n",
    "from bible_alignments import config\n",
    "\n",
    "# reset paths for the notebook\n",
    "# this overwrites the values from bible-alignments\n",
    "import os\n",
    "from pathlib import Path\n",
    "\n",
    "# reset paths for the notebook\n",
    "# this overwrites the values from bible-alignments\n",
    "config.ROOT = Path(os.getcwd())\n",
    "\n",
    "# these four lines are for Colab use: you can comment them out for running locally\n",
    "if \"missional-ai\" not in os.listdir():\n",
    "  !git clone https://github.com/Clear-Bible/missional-ai.git\n",
    "if \"missional-ai\" in os.listdir():\n",
    "  config.ROOT = Path(os.getcwd()) / \"missional-ai\"\n",
    "\n",
    "DATAPATH = config.ROOT / \"data\"\n",
    "print(f\"DATAPATH = {DATAPATH}\")\n",
    "\n",
    "config.ALIGNMENTS = DATAPATH / \"alignments\"\n",
    "config.SOURCES = DATAPATH / \"sources\"\n",
    "config.TARGETS = DATAPATH / \"targets\"\n",
    "config.NAMES = DATAPATH / \"names\"\n"
   ]
  },
  {
   "cell_type": "code",
   "execution_count": 14,
   "id": "4944b152-1f9c-4b28-bcf9-08d4f63b5883",
   "metadata": {
    "tags": []
   },
   "outputs": [
    {
     "name": "stdout",
     "output_type": "stream",
     "text": [
      "identifier\t     text\t     lemma\t     pos\t     morph\t     gloss\n",
      "410010010011\t     Ἀρχὴ      \t     ἀρχή      \t     noun      \t     n- -nsf-  \t     [the] beginning\n",
      "410010010021\t     τοῦ       \t     ὁ         \t     det       \t     ra -gsn-  \t     of the    \n",
      "410010010031\t     εὐαγγελίου\t     εὐαγγέλιον\t     noun      \t     n- -gsn-  \t     good news \n",
      "410010010041\t     Ἰησοῦ     \t     Ἰησοῦς    \t     Name      \t     nr -gsm-  \t     of Jesus  \n",
      "410010010051\t     Χριστοῦ   \t     Χριστός   \t     Name      \t     nr -gsm-  \t     Christ    \n",
      "410010010061\t     υἱοῦ      \t     υἱός      \t     noun      \t     n- -gsm-  \t     [the] son \n",
      "410010010071\t     θεοῦ      \t     θεός      \t     noun      \t     n- -gsm-  \t     of God.   \n"
     ]
    }
   ],
   "source": [
    "# display the source data for Mark 1:1\n",
    "from bible_alignments import gcsource\n",
    "sourcerd = gcsource.Reader(sourceid=\"NA27\", targetid=\"LEB\")\n",
    "\n",
    "_fields: tuple = (\"identifier\", \"text\", \"lemma\", \"pos\", \"morph\", \"gloss\")\n",
    "print(\"\\t     \".join(_fields))\n",
    "for k in sourcerd.keys():\n",
    "    if k.startswith(\"41001001\"):\n",
    "        s = sourcerd[k]\n",
    "        print(\"\\t     \".join(f\"{getattr(s, f):10}\" for f in _fields))"
   ]
  },
  {
   "cell_type": "code",
   "execution_count": 16,
   "id": "1e42d666-4b64-4416-a3f5-558e028f4b2d",
   "metadata": {
    "tags": []
   },
   "outputs": [
    {
     "name": "stdout",
     "output_type": "stream",
     "text": [
      "identifier\t     text\t     transType\t     isPunc\t     isPrimary\n",
      "41001001001\t     The       \t               \t              0\t              0\n",
      "41001001002\t     beginning \t     k         \t              0\t              1\n",
      "41001001003\t     of        \t     m         \t              0\t              0\n",
      "41001001004\t     the       \t     k         \t              0\t              1\n",
      "41001001005\t     gospel    \t     k         \t              0\t              1\n",
      "41001001006\t     of        \t     m         \t              0\t              0\n",
      "41001001007\t     Jesus     \t     k         \t              0\t              1\n",
      "41001001008\t     Christ    \t     k         \t              0\t              1\n",
      "41001001009\t     .         \t               \t              1\t              0\n"
     ]
    }
   ],
   "source": [
    "# likewise with the target data\n",
    "from bible_alignments import gctarget\n",
    "targetrd = gctarget.Reader(sourceid=\"NA27\", targetid=\"LEB\")\n",
    "\n",
    "_fields: tuple = (\"identifier\", \"text\", \"transType\", \"isPunc\", \"isPrimary\")\n",
    "print(\"\\t     \".join(_fields))\n",
    "for k in targetrd.keys():\n",
    "    if k.startswith(\"41001001\"):\n",
    "        s = targetrd[k]\n",
    "        print(\"\\t     \".join(f\"{getattr(s, f):10}\" for f in _fields))"
   ]
  },
  {
   "cell_type": "code",
   "execution_count": 17,
   "id": "e0cc099f-ac32-4174-a9a1-a7c380fe08c3",
   "metadata": {},
   "outputs": [],
   "source": [
    "rd = grapecity.Reader(sourceid=\"NA27\", targetid=\"LEB\", languageid=\"eng\", processid=\"manual\")"
   ]
  },
  {
   "cell_type": "code",
   "execution_count": 18,
   "id": "d59d69c2-c62b-4740-8736-f34cbc770dff",
   "metadata": {
    "tags": []
   },
   "outputs": [
    {
     "name": "stdout",
     "output_type": "stream",
     "text": [
      "Source:\tNA27\t(1249 words)\n",
      "Target:\tLEB\t(2034 words)\n",
      "Process:\tmanual\n",
      "1130 alignments\n"
     ]
    }
   ],
   "source": [
    "# show an overview of the loaded alignment data\n",
    "# note there are about 50% more English tokens than Greek ones: many of these are likely to be punctuation.\n",
    "rd.display()"
   ]
  },
  {
   "cell_type": "code",
   "execution_count": 19,
   "id": "7b06a561-5852-426a-a42d-c4340c221381",
   "metadata": {
    "tags": []
   },
   "outputs": [
    {
     "name": "stdout",
     "output_type": "stream",
     "text": [
      "41001001.1: ['Ἀρχὴ']\t['beginning']\n",
      "41001001.2: ['τοῦ']\t['the']\n",
      "41001001.3: ['εὐαγγελίου']\t['gospel', 'of']\n",
      "41001001.4: ['Ἰησοῦ']\t['Jesus', 'of']\n",
      "41001001.5: ['Χριστοῦ']\t['Christ']\n"
     ]
    }
   ],
   "source": [
    "# display the alignments for Mark 1:1\n",
    "for k in rd.keys():\n",
    "    if k.startswith(\"41001001\"):\n",
    "        rd[k].display()"
   ]
  },
  {
   "cell_type": "code",
   "execution_count": 20,
   "id": "318af9e1-d995-4592-832f-3c55d8c89bb8",
   "metadata": {
    "tags": []
   },
   "outputs": [
    {
     "name": "stdout",
     "output_type": "stream",
     "text": [
      "41001002.1: ['Καθὼς']\t['Just', 'as']\n",
      "41001002.2: ['γέγραπται']\t['written', 'it', 'is']\n",
      "41001002.3: ['ἐν']\t['in']\n",
      "41001002.4: ['Ἠσαΐᾳ']\t['Isaiah']\n",
      "41001002.5: ['τῷ']\t['the']\n",
      "41001002.6: ['προφήτῃ']\t['prophet']\n",
      "41001002.7: ['ἰδοὺ']\t['Behold']\n",
      "41001002.8: ['ἀποστέλλω']\t['sending', 'I', 'am']\n",
      "41001002.9: ['ἄγγελόν']\t['messenger']\n",
      "41001002.10: ['μου']\t['my']\n",
      "41001002.11: ['πρὸ']\t['before']\n",
      "41001002.12: ['προσώπου']\t['face']\n",
      "41001002.13: ['σου']\t['your']\n",
      "41001002.14: ['ὃς']\t['who']\n",
      "41001002.15: ['κατασκευάσει']\t['prepare', 'will']\n",
      "41001002.16: ['ὁδόν']\t['way']\n",
      "41001002.17: ['σου']\t['your']\n"
     ]
    }
   ],
   "source": [
    "# display the alignments for Mark 1:2\n",
    "for k in rd.keys():\n",
    "    if k.startswith(\"41001002\"):\n",
    "        rd[k].display()"
   ]
  },
  {
   "cell_type": "code",
   "execution_count": null,
   "id": "7d784ca2-ce73-4cf5-a609-bac8574de88f",
   "metadata": {},
   "outputs": [],
   "source": []
  }
 ],
 "metadata": {
  "kernelspec": {
   "display_name": "Python 3 (ipykernel)",
   "language": "python",
   "name": "python3"
  },
  "language_info": {
   "codemirror_mode": {
    "name": "ipython",
    "version": 3
   },
   "file_extension": ".py",
   "mimetype": "text/x-python",
   "name": "python",
   "nbconvert_exporter": "python",
   "pygments_lexer": "ipython3",
   "version": "3.11.2"
  }
 },
 "nbformat": 4,
 "nbformat_minor": 5
}
