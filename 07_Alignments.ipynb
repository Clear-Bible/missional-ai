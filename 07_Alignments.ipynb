{
 "cells": [
  {
   "cell_type": "code",
   "execution_count": 1,
   "id": "9216cfa2-cf7a-46fa-bf42-a8313298fa34",
   "metadata": {},
   "outputs": [
    {
     "name": "stdout",
     "output_type": "stream",
     "text": [
      "Requirement already satisfied: bible-alignments in /usr/local/lib/python3.10/site-packages (0.2.2)\n",
      "Requirement already satisfied: tomli<3.0.0,>=2.0.1 in /usr/local/lib/python3.10/site-packages (from bible-alignments) (2.0.1)\n",
      "Requirement already satisfied: jsonlines<4.0.0,>=3.1.0 in /usr/local/lib/python3.10/site-packages (from bible-alignments) (3.1.0)\n",
      "Requirement already satisfied: jupyterlab<4.0.0,>=3.6.1 in /usr/local/lib/python3.10/site-packages (from bible-alignments) (3.6.3)\n",
      "Requirement already satisfied: attrs>=19.2.0 in /usr/local/lib/python3.10/site-packages (from jsonlines<4.0.0,>=3.1.0->bible-alignments) (22.2.0)\n",
      "Requirement already satisfied: jinja2>=2.1 in /usr/local/lib/python3.10/site-packages (from jupyterlab<4.0.0,>=3.6.1->bible-alignments) (3.1.2)\n",
      "Requirement already satisfied: jupyterlab-server~=2.19 in /usr/local/lib/python3.10/site-packages (from jupyterlab<4.0.0,>=3.6.1->bible-alignments) (2.22.0)\n",
      "Requirement already satisfied: tornado>=6.1.0 in /usr/local/lib/python3.10/site-packages (from jupyterlab<4.0.0,>=3.6.1->bible-alignments) (6.2)\n",
      "Requirement already satisfied: ipython in /usr/local/lib/python3.10/site-packages (from jupyterlab<4.0.0,>=3.6.1->bible-alignments) (8.12.0)\n",
      "Requirement already satisfied: packaging in /Users/sboisen/Library/Python/3.10/lib/python/site-packages (from jupyterlab<4.0.0,>=3.6.1->bible-alignments) (21.3)\n",
      "Requirement already satisfied: jupyter-core in /usr/local/lib/python3.10/site-packages (from jupyterlab<4.0.0,>=3.6.1->bible-alignments) (5.3.0)\n",
      "Requirement already satisfied: jupyter-server<3,>=1.16.0 in /usr/local/lib/python3.10/site-packages (from jupyterlab<4.0.0,>=3.6.1->bible-alignments) (2.5.0)\n",
      "Requirement already satisfied: notebook<7 in /usr/local/lib/python3.10/site-packages (from jupyterlab<4.0.0,>=3.6.1->bible-alignments) (6.5.4)\n",
      "Requirement already satisfied: nbclassic in /usr/local/lib/python3.10/site-packages (from jupyterlab<4.0.0,>=3.6.1->bible-alignments) (0.5.5)\n",
      "Requirement already satisfied: jupyter-ydoc~=0.2.3 in /usr/local/lib/python3.10/site-packages (from jupyterlab<4.0.0,>=3.6.1->bible-alignments) (0.2.3)\n",
      "Requirement already satisfied: jupyter-server-ydoc~=0.8.0 in /usr/local/lib/python3.10/site-packages (from jupyterlab<4.0.0,>=3.6.1->bible-alignments) (0.8.0)\n",
      "Requirement already satisfied: MarkupSafe>=2.0 in /usr/local/lib/python3.10/site-packages (from jinja2>=2.1->jupyterlab<4.0.0,>=3.6.1->bible-alignments) (2.1.1)\n",
      "Requirement already satisfied: traitlets>=5.6.0 in /usr/local/lib/python3.10/site-packages (from jupyter-server<3,>=1.16.0->jupyterlab<4.0.0,>=3.6.1->bible-alignments) (5.9.0)\n",
      "Requirement already satisfied: prometheus-client in /usr/local/lib/python3.10/site-packages (from jupyter-server<3,>=1.16.0->jupyterlab<4.0.0,>=3.6.1->bible-alignments) (0.16.0)\n",
      "Requirement already satisfied: websocket-client in /usr/local/lib/python3.10/site-packages (from jupyter-server<3,>=1.16.0->jupyterlab<4.0.0,>=3.6.1->bible-alignments) (1.5.1)\n",
      "Requirement already satisfied: anyio>=3.1.0 in /usr/local/lib/python3.10/site-packages (from jupyter-server<3,>=1.16.0->jupyterlab<4.0.0,>=3.6.1->bible-alignments) (3.6.2)\n",
      "Requirement already satisfied: argon2-cffi in /usr/local/lib/python3.10/site-packages (from jupyter-server<3,>=1.16.0->jupyterlab<4.0.0,>=3.6.1->bible-alignments) (21.3.0)\n",
      "Requirement already satisfied: send2trash in /usr/local/lib/python3.10/site-packages (from jupyter-server<3,>=1.16.0->jupyterlab<4.0.0,>=3.6.1->bible-alignments) (1.8.0)\n",
      "Requirement already satisfied: jupyter-events>=0.4.0 in /usr/local/lib/python3.10/site-packages (from jupyter-server<3,>=1.16.0->jupyterlab<4.0.0,>=3.6.1->bible-alignments) (0.6.3)\n",
      "Requirement already satisfied: jupyter-client>=7.4.4 in /usr/local/lib/python3.10/site-packages (from jupyter-server<3,>=1.16.0->jupyterlab<4.0.0,>=3.6.1->bible-alignments) (8.1.0)\n",
      "Requirement already satisfied: nbformat>=5.3.0 in /usr/local/lib/python3.10/site-packages (from jupyter-server<3,>=1.16.0->jupyterlab<4.0.0,>=3.6.1->bible-alignments) (5.8.0)\n",
      "Requirement already satisfied: terminado>=0.8.3 in /usr/local/lib/python3.10/site-packages (from jupyter-server<3,>=1.16.0->jupyterlab<4.0.0,>=3.6.1->bible-alignments) (0.17.1)\n",
      "Requirement already satisfied: pyzmq>=24 in /usr/local/lib/python3.10/site-packages (from jupyter-server<3,>=1.16.0->jupyterlab<4.0.0,>=3.6.1->bible-alignments) (25.0.2)\n",
      "Requirement already satisfied: jupyter-server-terminals in /usr/local/lib/python3.10/site-packages (from jupyter-server<3,>=1.16.0->jupyterlab<4.0.0,>=3.6.1->bible-alignments) (0.4.4)\n",
      "Requirement already satisfied: nbconvert>=6.4.4 in /usr/local/lib/python3.10/site-packages (from jupyter-server<3,>=1.16.0->jupyterlab<4.0.0,>=3.6.1->bible-alignments) (7.3.1)\n",
      "Requirement already satisfied: platformdirs>=2.5 in /usr/local/lib/python3.10/site-packages (from jupyter-core->jupyterlab<4.0.0,>=3.6.1->bible-alignments) (2.5.2)\n",
      "Requirement already satisfied: jupyter-server-fileid<1,>=0.6.0 in /usr/local/lib/python3.10/site-packages (from jupyter-server-ydoc~=0.8.0->jupyterlab<4.0.0,>=3.6.1->bible-alignments) (0.9.0)\n",
      "Requirement already satisfied: ypy-websocket<0.9.0,>=0.8.2 in /usr/local/lib/python3.10/site-packages (from jupyter-server-ydoc~=0.8.0->jupyterlab<4.0.0,>=3.6.1->bible-alignments) (0.8.2)\n",
      "Requirement already satisfied: y-py<0.6.0,>=0.5.3 in /usr/local/lib/python3.10/site-packages (from jupyter-ydoc~=0.2.3->jupyterlab<4.0.0,>=3.6.1->bible-alignments) (0.5.9)\n",
      "Requirement already satisfied: babel>=2.10 in /usr/local/lib/python3.10/site-packages (from jupyterlab-server~=2.19->jupyterlab<4.0.0,>=3.6.1->bible-alignments) (2.12.1)\n",
      "Requirement already satisfied: requests>=2.28 in /usr/local/lib/python3.10/site-packages (from jupyterlab-server~=2.19->jupyterlab<4.0.0,>=3.6.1->bible-alignments) (2.28.1)\n",
      "Requirement already satisfied: jsonschema>=4.17.3 in /usr/local/lib/python3.10/site-packages (from jupyterlab-server~=2.19->jupyterlab<4.0.0,>=3.6.1->bible-alignments) (4.17.3)\n",
      "Requirement already satisfied: json5>=0.9.0 in /usr/local/lib/python3.10/site-packages (from jupyterlab-server~=2.19->jupyterlab<4.0.0,>=3.6.1->bible-alignments) (0.9.11)\n",
      "Requirement already satisfied: ipython-genutils in /usr/local/lib/python3.10/site-packages (from notebook<7->jupyterlab<4.0.0,>=3.6.1->bible-alignments) (0.2.0)\n",
      "Requirement already satisfied: nest-asyncio>=1.5 in /usr/local/lib/python3.10/site-packages (from notebook<7->jupyterlab<4.0.0,>=3.6.1->bible-alignments) (1.5.6)\n",
      "Requirement already satisfied: ipykernel in /usr/local/lib/python3.10/site-packages (from notebook<7->jupyterlab<4.0.0,>=3.6.1->bible-alignments) (6.22.0)\n",
      "Requirement already satisfied: notebook-shim>=0.1.0 in /usr/local/lib/python3.10/site-packages (from nbclassic->jupyterlab<4.0.0,>=3.6.1->bible-alignments) (0.2.2)\n",
      "Requirement already satisfied: pyparsing!=3.0.5,>=2.0.2 in /Users/sboisen/Library/Python/3.10/lib/python/site-packages (from packaging->jupyterlab<4.0.0,>=3.6.1->bible-alignments) (3.0.9)\n",
      "Requirement already satisfied: matplotlib-inline in /usr/local/lib/python3.10/site-packages (from ipython->jupyterlab<4.0.0,>=3.6.1->bible-alignments) (0.1.6)\n",
      "Requirement already satisfied: stack-data in /usr/local/lib/python3.10/site-packages (from ipython->jupyterlab<4.0.0,>=3.6.1->bible-alignments) (0.6.2)\n",
      "Requirement already satisfied: prompt-toolkit!=3.0.37,<3.1.0,>=3.0.30 in /usr/local/lib/python3.10/site-packages (from ipython->jupyterlab<4.0.0,>=3.6.1->bible-alignments) (3.0.38)\n",
      "Requirement already satisfied: pygments>=2.4.0 in /usr/local/Cellar/pygments/2.14.0/libexec/lib/python3.10/site-packages (from ipython->jupyterlab<4.0.0,>=3.6.1->bible-alignments) (2.14.0)\n",
      "Requirement already satisfied: decorator in /usr/local/lib/python3.10/site-packages (from ipython->jupyterlab<4.0.0,>=3.6.1->bible-alignments) (5.1.1)\n",
      "Requirement already satisfied: backcall in /usr/local/lib/python3.10/site-packages (from ipython->jupyterlab<4.0.0,>=3.6.1->bible-alignments) (0.2.0)\n",
      "Requirement already satisfied: appnope in /usr/local/lib/python3.10/site-packages (from ipython->jupyterlab<4.0.0,>=3.6.1->bible-alignments) (0.1.3)\n",
      "Requirement already satisfied: pexpect>4.3 in /usr/local/lib/python3.10/site-packages (from ipython->jupyterlab<4.0.0,>=3.6.1->bible-alignments) (4.8.0)\n",
      "Requirement already satisfied: pickleshare in /usr/local/lib/python3.10/site-packages (from ipython->jupyterlab<4.0.0,>=3.6.1->bible-alignments) (0.7.5)\n",
      "Requirement already satisfied: jedi>=0.16 in /usr/local/lib/python3.10/site-packages (from ipython->jupyterlab<4.0.0,>=3.6.1->bible-alignments) (0.17.2)\n",
      "Requirement already satisfied: sniffio>=1.1 in /usr/local/lib/python3.10/site-packages (from anyio>=3.1.0->jupyter-server<3,>=1.16.0->jupyterlab<4.0.0,>=3.6.1->bible-alignments) (1.3.0)\n",
      "Requirement already satisfied: idna>=2.8 in /usr/local/lib/python3.10/site-packages (from anyio>=3.1.0->jupyter-server<3,>=1.16.0->jupyterlab<4.0.0,>=3.6.1->bible-alignments) (3.4)\n",
      "Requirement already satisfied: parso<0.8.0,>=0.7.0 in /usr/local/lib/python3.10/site-packages (from jedi>=0.16->ipython->jupyterlab<4.0.0,>=3.6.1->bible-alignments) (0.7.1)\n",
      "Requirement already satisfied: pyrsistent!=0.17.0,!=0.17.1,!=0.17.2,>=0.14.0 in /usr/local/lib/python3.10/site-packages (from jsonschema>=4.17.3->jupyterlab-server~=2.19->jupyterlab<4.0.0,>=3.6.1->bible-alignments) (0.19.3)\n",
      "Requirement already satisfied: python-dateutil>=2.8.2 in /usr/local/lib/python3.10/site-packages (from jupyter-client>=7.4.4->jupyter-server<3,>=1.16.0->jupyterlab<4.0.0,>=3.6.1->bible-alignments) (2.8.2)\n",
      "Requirement already satisfied: python-json-logger>=2.0.4 in /usr/local/lib/python3.10/site-packages (from jupyter-events>=0.4.0->jupyter-server<3,>=1.16.0->jupyterlab<4.0.0,>=3.6.1->bible-alignments) (2.0.7)\n",
      "Requirement already satisfied: rfc3986-validator>=0.1.1 in /usr/local/lib/python3.10/site-packages (from jupyter-events>=0.4.0->jupyter-server<3,>=1.16.0->jupyterlab<4.0.0,>=3.6.1->bible-alignments) (0.1.1)\n",
      "Requirement already satisfied: rfc3339-validator in /usr/local/lib/python3.10/site-packages (from jupyter-events>=0.4.0->jupyter-server<3,>=1.16.0->jupyterlab<4.0.0,>=3.6.1->bible-alignments) (0.1.4)\n",
      "Requirement already satisfied: pyyaml>=5.3 in /usr/local/lib/python3.10/site-packages (from jupyter-events>=0.4.0->jupyter-server<3,>=1.16.0->jupyterlab<4.0.0,>=3.6.1->bible-alignments) (6.0)\n",
      "Requirement already satisfied: nbclient>=0.5.0 in /usr/local/lib/python3.10/site-packages (from nbconvert>=6.4.4->jupyter-server<3,>=1.16.0->jupyterlab<4.0.0,>=3.6.1->bible-alignments) (0.7.3)\n",
      "Requirement already satisfied: beautifulsoup4 in /usr/local/lib/python3.10/site-packages (from nbconvert>=6.4.4->jupyter-server<3,>=1.16.0->jupyterlab<4.0.0,>=3.6.1->bible-alignments) (4.12.2)\n",
      "Requirement already satisfied: tinycss2 in /usr/local/lib/python3.10/site-packages (from nbconvert>=6.4.4->jupyter-server<3,>=1.16.0->jupyterlab<4.0.0,>=3.6.1->bible-alignments) (1.2.1)\n",
      "Requirement already satisfied: bleach in /usr/local/lib/python3.10/site-packages (from nbconvert>=6.4.4->jupyter-server<3,>=1.16.0->jupyterlab<4.0.0,>=3.6.1->bible-alignments) (6.0.0)\n",
      "Requirement already satisfied: mistune<3,>=2.0.3 in /usr/local/lib/python3.10/site-packages (from nbconvert>=6.4.4->jupyter-server<3,>=1.16.0->jupyterlab<4.0.0,>=3.6.1->bible-alignments) (2.0.5)\n",
      "Requirement already satisfied: pandocfilters>=1.4.1 in /usr/local/lib/python3.10/site-packages (from nbconvert>=6.4.4->jupyter-server<3,>=1.16.0->jupyterlab<4.0.0,>=3.6.1->bible-alignments) (1.5.0)\n",
      "Requirement already satisfied: defusedxml in /usr/local/lib/python3.10/site-packages (from nbconvert>=6.4.4->jupyter-server<3,>=1.16.0->jupyterlab<4.0.0,>=3.6.1->bible-alignments) (0.7.1)\n",
      "Requirement already satisfied: jupyterlab-pygments in /usr/local/lib/python3.10/site-packages (from nbconvert>=6.4.4->jupyter-server<3,>=1.16.0->jupyterlab<4.0.0,>=3.6.1->bible-alignments) (0.2.2)\n",
      "Requirement already satisfied: fastjsonschema in /usr/local/lib/python3.10/site-packages (from nbformat>=5.3.0->jupyter-server<3,>=1.16.0->jupyterlab<4.0.0,>=3.6.1->bible-alignments) (2.16.3)\n",
      "Requirement already satisfied: ptyprocess>=0.5 in /usr/local/lib/python3.10/site-packages (from pexpect>4.3->ipython->jupyterlab<4.0.0,>=3.6.1->bible-alignments) (0.7.0)\n",
      "Requirement already satisfied: wcwidth in /usr/local/lib/python3.10/site-packages (from prompt-toolkit!=3.0.37,<3.1.0,>=3.0.30->ipython->jupyterlab<4.0.0,>=3.6.1->bible-alignments) (0.2.6)\n",
      "Requirement already satisfied: urllib3<1.27,>=1.21.1 in /usr/local/lib/python3.10/site-packages (from requests>=2.28->jupyterlab-server~=2.19->jupyterlab<4.0.0,>=3.6.1->bible-alignments) (1.26.12)\n",
      "Requirement already satisfied: certifi>=2017.4.17 in /usr/local/lib/python3.10/site-packages (from requests>=2.28->jupyterlab-server~=2.19->jupyterlab<4.0.0,>=3.6.1->bible-alignments) (2022.9.24)\n",
      "Requirement already satisfied: charset-normalizer<3,>=2 in /usr/local/lib/python3.10/site-packages (from requests>=2.28->jupyterlab-server~=2.19->jupyterlab<4.0.0,>=3.6.1->bible-alignments) (2.1.1)\n",
      "Requirement already satisfied: aiosqlite<1,>=0.17.0 in /usr/local/lib/python3.10/site-packages (from ypy-websocket<0.9.0,>=0.8.2->jupyter-server-ydoc~=0.8.0->jupyterlab<4.0.0,>=3.6.1->bible-alignments) (0.18.0)\n",
      "Requirement already satisfied: aiofiles<23,>=22.1.0 in /usr/local/lib/python3.10/site-packages (from ypy-websocket<0.9.0,>=0.8.2->jupyter-server-ydoc~=0.8.0->jupyterlab<4.0.0,>=3.6.1->bible-alignments) (22.1.0)\n",
      "Requirement already satisfied: argon2-cffi-bindings in /usr/local/lib/python3.10/site-packages (from argon2-cffi->jupyter-server<3,>=1.16.0->jupyterlab<4.0.0,>=3.6.1->bible-alignments) (21.2.0)\n",
      "Requirement already satisfied: debugpy>=1.6.5 in /usr/local/lib/python3.10/site-packages (from ipykernel->notebook<7->jupyterlab<4.0.0,>=3.6.1->bible-alignments) (1.6.7)\n",
      "Requirement already satisfied: psutil in /usr/local/lib/python3.10/site-packages (from ipykernel->notebook<7->jupyterlab<4.0.0,>=3.6.1->bible-alignments) (5.9.4)\n",
      "Requirement already satisfied: comm>=0.1.1 in /usr/local/lib/python3.10/site-packages (from ipykernel->notebook<7->jupyterlab<4.0.0,>=3.6.1->bible-alignments) (0.1.3)\n",
      "Requirement already satisfied: executing>=1.2.0 in /usr/local/lib/python3.10/site-packages (from stack-data->ipython->jupyterlab<4.0.0,>=3.6.1->bible-alignments) (1.2.0)\n",
      "Requirement already satisfied: asttokens>=2.1.0 in /usr/local/lib/python3.10/site-packages (from stack-data->ipython->jupyterlab<4.0.0,>=3.6.1->bible-alignments) (2.2.1)\n",
      "Requirement already satisfied: pure-eval in /usr/local/lib/python3.10/site-packages (from stack-data->ipython->jupyterlab<4.0.0,>=3.6.1->bible-alignments) (0.2.2)\n",
      "Requirement already satisfied: six in /usr/local/lib/python3.10/site-packages (from asttokens>=2.1.0->stack-data->ipython->jupyterlab<4.0.0,>=3.6.1->bible-alignments) (1.16.0)\n",
      "Requirement already satisfied: jsonpointer>1.13 in /usr/local/lib/python3.10/site-packages (from jsonschema>=4.17.3->jupyterlab-server~=2.19->jupyterlab<4.0.0,>=3.6.1->bible-alignments) (2.3)\n",
      "Requirement already satisfied: uri-template in /usr/local/lib/python3.10/site-packages (from jsonschema>=4.17.3->jupyterlab-server~=2.19->jupyterlab<4.0.0,>=3.6.1->bible-alignments) (1.2.0)\n",
      "Requirement already satisfied: webcolors>=1.11 in /usr/local/lib/python3.10/site-packages (from jsonschema>=4.17.3->jupyterlab-server~=2.19->jupyterlab<4.0.0,>=3.6.1->bible-alignments) (1.13)\n",
      "Requirement already satisfied: isoduration in /usr/local/lib/python3.10/site-packages (from jsonschema>=4.17.3->jupyterlab-server~=2.19->jupyterlab<4.0.0,>=3.6.1->bible-alignments) (20.11.0)\n",
      "Requirement already satisfied: fqdn in /usr/local/lib/python3.10/site-packages (from jsonschema>=4.17.3->jupyterlab-server~=2.19->jupyterlab<4.0.0,>=3.6.1->bible-alignments) (1.5.1)\n",
      "Requirement already satisfied: cffi>=1.0.1 in /usr/local/lib/python3.10/site-packages (from argon2-cffi-bindings->argon2-cffi->jupyter-server<3,>=1.16.0->jupyterlab<4.0.0,>=3.6.1->bible-alignments) (1.15.1)\n",
      "Requirement already satisfied: soupsieve>1.2 in /usr/local/lib/python3.10/site-packages (from beautifulsoup4->nbconvert>=6.4.4->jupyter-server<3,>=1.16.0->jupyterlab<4.0.0,>=3.6.1->bible-alignments) (2.4)\n",
      "Requirement already satisfied: webencodings in /usr/local/lib/python3.10/site-packages (from bleach->nbconvert>=6.4.4->jupyter-server<3,>=1.16.0->jupyterlab<4.0.0,>=3.6.1->bible-alignments) (0.5.1)\n",
      "Requirement already satisfied: pycparser in /usr/local/lib/python3.10/site-packages (from cffi>=1.0.1->argon2-cffi-bindings->argon2-cffi->jupyter-server<3,>=1.16.0->jupyterlab<4.0.0,>=3.6.1->bible-alignments) (2.21)\n",
      "Requirement already satisfied: arrow>=0.15.0 in /usr/local/lib/python3.10/site-packages (from isoduration->jsonschema>=4.17.3->jupyterlab-server~=2.19->jupyterlab<4.0.0,>=3.6.1->bible-alignments) (1.2.3)\n",
      "\n",
      "\u001b[1m[\u001b[0m\u001b[34;49mnotice\u001b[0m\u001b[1;39;49m]\u001b[0m\u001b[39;49m A new release of pip is available: \u001b[0m\u001b[31;49m23.0\u001b[0m\u001b[39;49m -> \u001b[0m\u001b[32;49m23.0.1\u001b[0m\n",
      "\u001b[1m[\u001b[0m\u001b[34;49mnotice\u001b[0m\u001b[1;39;49m]\u001b[0m\u001b[39;49m To update, run: \u001b[0m\u001b[32;49mpython3.10 -m pip install --upgrade pip\u001b[0m\n"
     ]
    }
   ],
   "source": [
    "!pip install bible-alignments"
   ]
  },
  {
   "cell_type": "code",
   "execution_count": 2,
   "id": "3c2dd401-78db-442a-bb9f-0c880f615696",
   "metadata": {
    "tags": []
   },
   "outputs": [],
   "source": [
    "from src import grapecity\n"
   ]
  },
  {
   "cell_type": "code",
   "execution_count": 3,
   "id": "e14d333f-70c1-4b5c-aa85-de96d8d0ec83",
   "metadata": {
    "tags": []
   },
   "outputs": [],
   "source": [
    "from src import config\n",
    "# reset paths for the notebook\n",
    "import os\n",
    "from pathlib import Path\n",
    "config.ROOT = Path(os.getcwd())\n",
    "DATAPATH = config.ROOT / \"data\"\n",
    "\n",
    "config.ALIGNMENTS = DATAPATH / \"alignments\"\n",
    "config.SOURCES = DATAPATH / \"sources\"\n",
    "config.TARGETS = DATAPATH / \"targets\"\n",
    "config.NAMES = DATAPATH / \"names\"\n"
   ]
  },
  {
   "cell_type": "code",
   "execution_count": 8,
   "id": "46dbedf9-f001-4fe2-8d74-40538a998e39",
   "metadata": {
    "tags": []
   },
   "outputs": [
    {
     "data": {
      "text/plain": [
       "True"
      ]
     },
     "execution_count": 8,
     "metadata": {},
     "output_type": "execute_result"
    }
   ],
   "source": [
    "alignmentdir = config.ALIGNMENTS / \"eng\" / \"LEB\"\n",
    "alignmentdir.exists()"
   ]
  },
  {
   "cell_type": "code",
   "execution_count": 10,
   "id": "ea320729-9127-40d8-a551-c96d9d90afac",
   "metadata": {
    "tags": []
   },
   "outputs": [
    {
     "data": {
      "text/plain": [
       "True"
      ]
     },
     "execution_count": 10,
     "metadata": {},
     "output_type": "execute_result"
    }
   ],
   "source": [
    "(alignmentdir / f\"NA27-LEB-manual.json\").exists()"
   ]
  },
  {
   "cell_type": "code",
   "execution_count": 4,
   "id": "e0cc099f-ac32-4174-a9a1-a7c380fe08c3",
   "metadata": {},
   "outputs": [
    {
     "ename": "JSONDecodeError",
     "evalue": "Expecting value: line 790 column 1 (char 83586)",
     "output_type": "error",
     "traceback": [
      "\u001b[0;31m---------------------------------------------------------------------------\u001b[0m",
      "\u001b[0;31mJSONDecodeError\u001b[0m                           Traceback (most recent call last)",
      "Cell \u001b[0;32mIn[4], line 1\u001b[0m\n\u001b[0;32m----> 1\u001b[0m rd \u001b[38;5;241m=\u001b[39m \u001b[43mgrapecity\u001b[49m\u001b[38;5;241;43m.\u001b[39;49m\u001b[43mReader\u001b[49m\u001b[43m(\u001b[49m\u001b[43msourceid\u001b[49m\u001b[38;5;241;43m=\u001b[39;49m\u001b[38;5;124;43m\"\u001b[39;49m\u001b[38;5;124;43mNA27\u001b[39;49m\u001b[38;5;124;43m\"\u001b[39;49m\u001b[43m,\u001b[49m\u001b[43m \u001b[49m\u001b[43mtargetid\u001b[49m\u001b[38;5;241;43m=\u001b[39;49m\u001b[38;5;124;43m\"\u001b[39;49m\u001b[38;5;124;43mLEB\u001b[39;49m\u001b[38;5;124;43m\"\u001b[39;49m\u001b[43m,\u001b[49m\u001b[43m \u001b[49m\u001b[43mlanguageid\u001b[49m\u001b[38;5;241;43m=\u001b[39;49m\u001b[38;5;124;43m\"\u001b[39;49m\u001b[38;5;124;43meng\u001b[39;49m\u001b[38;5;124;43m\"\u001b[39;49m\u001b[43m,\u001b[49m\u001b[43m \u001b[49m\u001b[43mprocessid\u001b[49m\u001b[38;5;241;43m=\u001b[39;49m\u001b[38;5;124;43m\"\u001b[39;49m\u001b[38;5;124;43mmanual\u001b[39;49m\u001b[38;5;124;43m\"\u001b[39;49m\u001b[43m)\u001b[49m\n",
      "File \u001b[0;32m~/git/sillsdev/machine.py/machine/missional-ai-TnQYOVsT-py3.11/lib/python3.11/site-packages/src/grapecity.py:101\u001b[0m, in \u001b[0;36mReader.__init__\u001b[0;34m(self, sourceid, targetid, languageid, processid)\u001b[0m\n\u001b[1;32m     97\u001b[0m \u001b[38;5;66;03m# load all the alignments: not grouped by verse\u001b[39;00m\n\u001b[1;32m     98\u001b[0m \u001b[38;5;28;01mwith\u001b[39;00m (alignmentdir \u001b[38;5;241m/\u001b[39m \u001b[38;5;124mf\u001b[39m\u001b[38;5;124m\"\u001b[39m\u001b[38;5;132;01m{\u001b[39;00msourceid\u001b[38;5;132;01m}\u001b[39;00m\u001b[38;5;124m-\u001b[39m\u001b[38;5;132;01m{\u001b[39;00mtargetid\u001b[38;5;132;01m}\u001b[39;00m\u001b[38;5;124m-\u001b[39m\u001b[38;5;132;01m{\u001b[39;00mprocessid\u001b[38;5;132;01m}\u001b[39;00m\u001b[38;5;124m.json\u001b[39m\u001b[38;5;124m\"\u001b[39m)\u001b[38;5;241m.\u001b[39mopen(encoding\u001b[38;5;241m=\u001b[39m\u001b[38;5;124m\"\u001b[39m\u001b[38;5;124mutf-8\u001b[39m\u001b[38;5;124m\"\u001b[39m) \u001b[38;5;28;01mas\u001b[39;00m f:\n\u001b[1;32m     99\u001b[0m     \u001b[38;5;28mself\u001b[39m\u001b[38;5;241m.\u001b[39mdata \u001b[38;5;241m=\u001b[39m {\n\u001b[1;32m    100\u001b[0m         agid: AlignmentGroup(identifier\u001b[38;5;241m=\u001b[39magid, sourceitems\u001b[38;5;241m=\u001b[39msourceitems, targetitems\u001b[38;5;241m=\u001b[39mtargetitems, meta\u001b[38;5;241m=\u001b[39mmetadict)\n\u001b[0;32m--> 101\u001b[0m         \u001b[38;5;28;01mfor\u001b[39;00m aldict \u001b[38;5;129;01min\u001b[39;00m \u001b[43mjson\u001b[49m\u001b[38;5;241;43m.\u001b[39;49m\u001b[43mload\u001b[49m\u001b[43m(\u001b[49m\u001b[43mf\u001b[49m\u001b[43m)\u001b[49m\n\u001b[1;32m    102\u001b[0m         \u001b[38;5;66;03m# only a single key\u001b[39;00m\n\u001b[1;32m    103\u001b[0m         \u001b[38;5;28;01mif\u001b[39;00m (agid \u001b[38;5;241m:=\u001b[39m \u001b[38;5;28mlist\u001b[39m(aldict\u001b[38;5;241m.\u001b[39mkeys())[\u001b[38;5;241m0\u001b[39m])\n\u001b[1;32m    104\u001b[0m         \u001b[38;5;66;03m# map the source identifiers to instances\u001b[39;00m\n\u001b[1;32m    105\u001b[0m         \u001b[38;5;28;01mif\u001b[39;00m (sourceitems \u001b[38;5;241m:=\u001b[39m [\u001b[38;5;28mself\u001b[39m\u001b[38;5;241m.\u001b[39msourcereader[s] \u001b[38;5;28;01mfor\u001b[39;00m s \u001b[38;5;129;01min\u001b[39;00m aldict[agid][sourceid]])\n\u001b[1;32m    106\u001b[0m         \u001b[38;5;66;03m# map the target identifiers to instances\u001b[39;00m\n\u001b[1;32m    107\u001b[0m         \u001b[38;5;28;01mif\u001b[39;00m (targetitems \u001b[38;5;241m:=\u001b[39m [\u001b[38;5;28mself\u001b[39m\u001b[38;5;241m.\u001b[39mtargetreader[t] \u001b[38;5;28;01mfor\u001b[39;00m t \u001b[38;5;129;01min\u001b[39;00m aldict[agid][targetid]])\n\u001b[1;32m    108\u001b[0m         \u001b[38;5;28;01mif\u001b[39;00m (metadict \u001b[38;5;241m:=\u001b[39m aldict[agid][\u001b[38;5;124m\"\u001b[39m\u001b[38;5;124mmeta\u001b[39m\u001b[38;5;124m\"\u001b[39m])\n\u001b[1;32m    109\u001b[0m     }\n",
      "File \u001b[0;32m/usr/local/Cellar/python@3.11/3.11.2_1/Frameworks/Python.framework/Versions/3.11/lib/python3.11/json/__init__.py:293\u001b[0m, in \u001b[0;36mload\u001b[0;34m(fp, cls, object_hook, parse_float, parse_int, parse_constant, object_pairs_hook, **kw)\u001b[0m\n\u001b[1;32m    274\u001b[0m \u001b[38;5;28;01mdef\u001b[39;00m \u001b[38;5;21mload\u001b[39m(fp, \u001b[38;5;241m*\u001b[39m, \u001b[38;5;28mcls\u001b[39m\u001b[38;5;241m=\u001b[39m\u001b[38;5;28;01mNone\u001b[39;00m, object_hook\u001b[38;5;241m=\u001b[39m\u001b[38;5;28;01mNone\u001b[39;00m, parse_float\u001b[38;5;241m=\u001b[39m\u001b[38;5;28;01mNone\u001b[39;00m,\n\u001b[1;32m    275\u001b[0m         parse_int\u001b[38;5;241m=\u001b[39m\u001b[38;5;28;01mNone\u001b[39;00m, parse_constant\u001b[38;5;241m=\u001b[39m\u001b[38;5;28;01mNone\u001b[39;00m, object_pairs_hook\u001b[38;5;241m=\u001b[39m\u001b[38;5;28;01mNone\u001b[39;00m, \u001b[38;5;241m*\u001b[39m\u001b[38;5;241m*\u001b[39mkw):\n\u001b[1;32m    276\u001b[0m \u001b[38;5;250m    \u001b[39m\u001b[38;5;124;03m\"\"\"Deserialize ``fp`` (a ``.read()``-supporting file-like object containing\u001b[39;00m\n\u001b[1;32m    277\u001b[0m \u001b[38;5;124;03m    a JSON document) to a Python object.\u001b[39;00m\n\u001b[1;32m    278\u001b[0m \n\u001b[0;32m   (...)\u001b[0m\n\u001b[1;32m    291\u001b[0m \u001b[38;5;124;03m    kwarg; otherwise ``JSONDecoder`` is used.\u001b[39;00m\n\u001b[1;32m    292\u001b[0m \u001b[38;5;124;03m    \"\"\"\u001b[39;00m\n\u001b[0;32m--> 293\u001b[0m     \u001b[38;5;28;01mreturn\u001b[39;00m \u001b[43mloads\u001b[49m\u001b[43m(\u001b[49m\u001b[43mfp\u001b[49m\u001b[38;5;241;43m.\u001b[39;49m\u001b[43mread\u001b[49m\u001b[43m(\u001b[49m\u001b[43m)\u001b[49m\u001b[43m,\u001b[49m\n\u001b[1;32m    294\u001b[0m \u001b[43m        \u001b[49m\u001b[38;5;28;43mcls\u001b[39;49m\u001b[38;5;241;43m=\u001b[39;49m\u001b[38;5;28;43mcls\u001b[39;49m\u001b[43m,\u001b[49m\u001b[43m \u001b[49m\u001b[43mobject_hook\u001b[49m\u001b[38;5;241;43m=\u001b[39;49m\u001b[43mobject_hook\u001b[49m\u001b[43m,\u001b[49m\n\u001b[1;32m    295\u001b[0m \u001b[43m        \u001b[49m\u001b[43mparse_float\u001b[49m\u001b[38;5;241;43m=\u001b[39;49m\u001b[43mparse_float\u001b[49m\u001b[43m,\u001b[49m\u001b[43m \u001b[49m\u001b[43mparse_int\u001b[49m\u001b[38;5;241;43m=\u001b[39;49m\u001b[43mparse_int\u001b[49m\u001b[43m,\u001b[49m\n\u001b[1;32m    296\u001b[0m \u001b[43m        \u001b[49m\u001b[43mparse_constant\u001b[49m\u001b[38;5;241;43m=\u001b[39;49m\u001b[43mparse_constant\u001b[49m\u001b[43m,\u001b[49m\u001b[43m \u001b[49m\u001b[43mobject_pairs_hook\u001b[49m\u001b[38;5;241;43m=\u001b[39;49m\u001b[43mobject_pairs_hook\u001b[49m\u001b[43m,\u001b[49m\u001b[43m \u001b[49m\u001b[38;5;241;43m*\u001b[39;49m\u001b[38;5;241;43m*\u001b[39;49m\u001b[43mkw\u001b[49m\u001b[43m)\u001b[49m\n",
      "File \u001b[0;32m/usr/local/Cellar/python@3.11/3.11.2_1/Frameworks/Python.framework/Versions/3.11/lib/python3.11/json/__init__.py:346\u001b[0m, in \u001b[0;36mloads\u001b[0;34m(s, cls, object_hook, parse_float, parse_int, parse_constant, object_pairs_hook, **kw)\u001b[0m\n\u001b[1;32m    341\u001b[0m     s \u001b[38;5;241m=\u001b[39m s\u001b[38;5;241m.\u001b[39mdecode(detect_encoding(s), \u001b[38;5;124m'\u001b[39m\u001b[38;5;124msurrogatepass\u001b[39m\u001b[38;5;124m'\u001b[39m)\n\u001b[1;32m    343\u001b[0m \u001b[38;5;28;01mif\u001b[39;00m (\u001b[38;5;28mcls\u001b[39m \u001b[38;5;129;01mis\u001b[39;00m \u001b[38;5;28;01mNone\u001b[39;00m \u001b[38;5;129;01mand\u001b[39;00m object_hook \u001b[38;5;129;01mis\u001b[39;00m \u001b[38;5;28;01mNone\u001b[39;00m \u001b[38;5;129;01mand\u001b[39;00m\n\u001b[1;32m    344\u001b[0m         parse_int \u001b[38;5;129;01mis\u001b[39;00m \u001b[38;5;28;01mNone\u001b[39;00m \u001b[38;5;129;01mand\u001b[39;00m parse_float \u001b[38;5;129;01mis\u001b[39;00m \u001b[38;5;28;01mNone\u001b[39;00m \u001b[38;5;129;01mand\u001b[39;00m\n\u001b[1;32m    345\u001b[0m         parse_constant \u001b[38;5;129;01mis\u001b[39;00m \u001b[38;5;28;01mNone\u001b[39;00m \u001b[38;5;129;01mand\u001b[39;00m object_pairs_hook \u001b[38;5;129;01mis\u001b[39;00m \u001b[38;5;28;01mNone\u001b[39;00m \u001b[38;5;129;01mand\u001b[39;00m \u001b[38;5;129;01mnot\u001b[39;00m kw):\n\u001b[0;32m--> 346\u001b[0m     \u001b[38;5;28;01mreturn\u001b[39;00m \u001b[43m_default_decoder\u001b[49m\u001b[38;5;241;43m.\u001b[39;49m\u001b[43mdecode\u001b[49m\u001b[43m(\u001b[49m\u001b[43ms\u001b[49m\u001b[43m)\u001b[49m\n\u001b[1;32m    347\u001b[0m \u001b[38;5;28;01mif\u001b[39;00m \u001b[38;5;28mcls\u001b[39m \u001b[38;5;129;01mis\u001b[39;00m \u001b[38;5;28;01mNone\u001b[39;00m:\n\u001b[1;32m    348\u001b[0m     \u001b[38;5;28mcls\u001b[39m \u001b[38;5;241m=\u001b[39m JSONDecoder\n",
      "File \u001b[0;32m/usr/local/Cellar/python@3.11/3.11.2_1/Frameworks/Python.framework/Versions/3.11/lib/python3.11/json/decoder.py:337\u001b[0m, in \u001b[0;36mJSONDecoder.decode\u001b[0;34m(self, s, _w)\u001b[0m\n\u001b[1;32m    332\u001b[0m \u001b[38;5;28;01mdef\u001b[39;00m \u001b[38;5;21mdecode\u001b[39m(\u001b[38;5;28mself\u001b[39m, s, _w\u001b[38;5;241m=\u001b[39mWHITESPACE\u001b[38;5;241m.\u001b[39mmatch):\n\u001b[1;32m    333\u001b[0m \u001b[38;5;250m    \u001b[39m\u001b[38;5;124;03m\"\"\"Return the Python representation of ``s`` (a ``str`` instance\u001b[39;00m\n\u001b[1;32m    334\u001b[0m \u001b[38;5;124;03m    containing a JSON document).\u001b[39;00m\n\u001b[1;32m    335\u001b[0m \n\u001b[1;32m    336\u001b[0m \u001b[38;5;124;03m    \"\"\"\u001b[39;00m\n\u001b[0;32m--> 337\u001b[0m     obj, end \u001b[38;5;241m=\u001b[39m \u001b[38;5;28;43mself\u001b[39;49m\u001b[38;5;241;43m.\u001b[39;49m\u001b[43mraw_decode\u001b[49m\u001b[43m(\u001b[49m\u001b[43ms\u001b[49m\u001b[43m,\u001b[49m\u001b[43m \u001b[49m\u001b[43midx\u001b[49m\u001b[38;5;241;43m=\u001b[39;49m\u001b[43m_w\u001b[49m\u001b[43m(\u001b[49m\u001b[43ms\u001b[49m\u001b[43m,\u001b[49m\u001b[43m \u001b[49m\u001b[38;5;241;43m0\u001b[39;49m\u001b[43m)\u001b[49m\u001b[38;5;241;43m.\u001b[39;49m\u001b[43mend\u001b[49m\u001b[43m(\u001b[49m\u001b[43m)\u001b[49m\u001b[43m)\u001b[49m\n\u001b[1;32m    338\u001b[0m     end \u001b[38;5;241m=\u001b[39m _w(s, end)\u001b[38;5;241m.\u001b[39mend()\n\u001b[1;32m    339\u001b[0m     \u001b[38;5;28;01mif\u001b[39;00m end \u001b[38;5;241m!=\u001b[39m \u001b[38;5;28mlen\u001b[39m(s):\n",
      "File \u001b[0;32m/usr/local/Cellar/python@3.11/3.11.2_1/Frameworks/Python.framework/Versions/3.11/lib/python3.11/json/decoder.py:355\u001b[0m, in \u001b[0;36mJSONDecoder.raw_decode\u001b[0;34m(self, s, idx)\u001b[0m\n\u001b[1;32m    353\u001b[0m     obj, end \u001b[38;5;241m=\u001b[39m \u001b[38;5;28mself\u001b[39m\u001b[38;5;241m.\u001b[39mscan_once(s, idx)\n\u001b[1;32m    354\u001b[0m \u001b[38;5;28;01mexcept\u001b[39;00m \u001b[38;5;167;01mStopIteration\u001b[39;00m \u001b[38;5;28;01mas\u001b[39;00m err:\n\u001b[0;32m--> 355\u001b[0m     \u001b[38;5;28;01mraise\u001b[39;00m JSONDecodeError(\u001b[38;5;124m\"\u001b[39m\u001b[38;5;124mExpecting value\u001b[39m\u001b[38;5;124m\"\u001b[39m, s, err\u001b[38;5;241m.\u001b[39mvalue) \u001b[38;5;28;01mfrom\u001b[39;00m \u001b[38;5;28;01mNone\u001b[39;00m\n\u001b[1;32m    356\u001b[0m \u001b[38;5;28;01mreturn\u001b[39;00m obj, end\n",
      "\u001b[0;31mJSONDecodeError\u001b[0m: Expecting value: line 790 column 1 (char 83586)"
     ]
    }
   ],
   "source": [
    "rd = grapecity.Reader(sourceid=\"NA27\", targetid=\"LEB\", languageid=\"eng\", processid=\"manual\")"
   ]
  },
  {
   "cell_type": "code",
   "execution_count": null,
   "id": "fb3883a8-9fc4-45f3-abbd-77fd3c47128c",
   "metadata": {},
   "outputs": [],
   "source": []
  }
 ],
 "metadata": {
  "kernelspec": {
   "display_name": "Python 3 (ipykernel)",
   "language": "python",
   "name": "python3"
  },
  "language_info": {
   "codemirror_mode": {
    "name": "ipython",
    "version": 3
   },
   "file_extension": ".py",
   "mimetype": "text/x-python",
   "name": "python",
   "nbconvert_exporter": "python",
   "pygments_lexer": "ipython3",
   "version": "3.11.2"
  }
 },
 "nbformat": 4,
 "nbformat_minor": 5
}
