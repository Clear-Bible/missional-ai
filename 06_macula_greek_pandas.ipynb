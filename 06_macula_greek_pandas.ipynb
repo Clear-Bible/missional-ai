{
  "cells": [
    {
      "cell_type": "markdown",
      "metadata": {
        "id": "view-in-github",
        "colab_type": "text"
      },
      "source": [
        "<a href=\"https://colab.research.google.com/github/Clear-Bible/missional-ai/blob/main/06_macula_greek_pandas.ipynb\" target=\"_parent\"><img src=\"https://colab.research.google.com/assets/colab-badge.svg\" alt=\"Open In Colab\"/></a>"
      ]
    },
    {
      "cell_type": "markdown",
      "metadata": {
        "id": "QUY1ikEdAtFA"
      },
      "source": [
        "# Analyzing MACULA Greek Data using Pandas\n",
        "In this notebook, we will analyze the MACULA Greek data using Pandas. We will preprocess the data, create visualizations, and explore the relationship between unique lemmas and semantic domains."
      ]
    },
    {
      "cell_type": "markdown",
      "metadata": {
        "id": "Q7SwEe8zyUz-"
      },
      "source": [
        "## Setup\n",
        "First, let's make a copy of the `macula-greek` TSV data. This will download the data file from GitHub and place it in the current working directory."
      ]
    },
    {
      "cell_type": "code",
      "execution_count": 2,
      "metadata": {
        "colab": {
          "base_uri": "https://localhost:8080/"
        },
        "id": "-xcZGRcWyrOh",
        "outputId": "fca53df7-feb0-4920-e446-e9bb6267ada6"
      },
      "outputs": [
        {
          "output_type": "stream",
          "name": "stdout",
          "text": [
            "--2023-04-11 21:41:11--  http://macula-greek.tsv/\n",
            "Resolving macula-greek.tsv (macula-greek.tsv)... failed: Name or service not known.\n",
            "wget: unable to resolve host address ‘macula-greek.tsv’\n",
            "--2023-04-11 21:41:11--  https://raw.githubusercontent.com/Clear-Bible/macula-greek/main/Nestle1904/TSV/macula-greek.tsv\n",
            "Resolving raw.githubusercontent.com (raw.githubusercontent.com)... 185.199.108.133, 185.199.109.133, 185.199.110.133, ...\n",
            "Connecting to raw.githubusercontent.com (raw.githubusercontent.com)|185.199.108.133|:443... connected.\n",
            "HTTP request sent, awaiting response... 200 OK\n",
            "Length: 19290305 (18M) [text/plain]\n",
            "Saving to: ‘macula-greek.tsv’\n",
            "\n",
            "macula-greek.tsv    100%[===================>]  18.40M  --.-KB/s    in 0.1s    \n",
            "\n",
            "2023-04-11 21:41:12 (144 MB/s) - ‘macula-greek.tsv’ saved [19290305/19290305]\n",
            "\n",
            "FINISHED --2023-04-11 21:41:12--\n",
            "Total wall clock time: 0.5s\n",
            "Downloaded: 1 files, 18M in 0.1s (144 MB/s)\n"
          ]
        },
        {
          "output_type": "execute_result",
          "data": {
            "text/plain": [
              "['.config', 'macula-greek.tsv', 'macula-greek', 'sample_data']"
            ]
          },
          "metadata": {},
          "execution_count": 2
        }
      ],
      "source": [
        "import os\n",
        "if \"macula-greek.tsv\" not in [path for path in os.listdir()]:\n",
        "    !wget macula-greek.tsv https://raw.githubusercontent.com/Clear-Bible/macula-greek/main/Nestle1904/TSV/macula-greek.tsv\n",
        "os.listdir()"
      ]
    },
    {
      "cell_type": "markdown",
      "metadata": {
        "id": "svB3h6GFQQvZ"
      },
      "source": [
        "## Loading the Data\n",
        "Let's start by installing and importing Pandas, and then loading the `macula-greek.tsv` file."
      ]
    },
    {
      "cell_type": "code",
      "execution_count": 4,
      "metadata": {
        "colab": {
          "base_uri": "https://localhost:8080/"
        },
        "id": "33gdrOHfwlfl",
        "outputId": "27e7803b-7d52-4c84-a505-795e628333c9"
      },
      "outputs": [
        {
          "output_type": "stream",
          "name": "stdout",
          "text": [
            "Looking in indexes: https://pypi.org/simple, https://us-python.pkg.dev/colab-wheels/public/simple/\n",
            "Requirement already satisfied: pandas in /usr/local/lib/python3.9/dist-packages (1.5.3)\n",
            "Requirement already satisfied: numpy>=1.20.3 in /usr/local/lib/python3.9/dist-packages (from pandas) (1.22.4)\n",
            "Requirement already satisfied: python-dateutil>=2.8.1 in /usr/local/lib/python3.9/dist-packages (from pandas) (2.8.2)\n",
            "Requirement already satisfied: pytz>=2020.1 in /usr/local/lib/python3.9/dist-packages (from pandas) (2022.7.1)\n",
            "Requirement already satisfied: six>=1.5 in /usr/local/lib/python3.9/dist-packages (from python-dateutil>=2.8.1->pandas) (1.16.0)\n"
          ]
        }
      ],
      "source": [
        "!pip install pandas\n",
        "import pandas as pd\n",
        "\n",
        "mg = pd.read_csv('macula-greek.tsv', sep='\\t', header=0)"
      ]
    },
    {
      "cell_type": "markdown",
      "metadata": {
        "id": "TUvUkL_UQQvZ"
      },
      "source": [
        "Inspect the available columns to get a better understanding of the data."
      ]
    },
    {
      "cell_type": "code",
      "execution_count": 5,
      "metadata": {
        "colab": {
          "base_uri": "https://localhost:8080/"
        },
        "id": "YWblkKdHwlfm",
        "outputId": "4f72b099-d223-4f57-e39d-dfd619a90001"
      },
      "outputs": [
        {
          "output_type": "stream",
          "name": "stdout",
          "text": [
            "xml:id\n",
            "ref\n",
            "role\n",
            "class\n",
            "type\n",
            "gloss\n",
            "text\n",
            "after\n",
            "lemma\n",
            "normalized\n",
            "strong\n",
            "morph\n",
            "person\n",
            "number\n",
            "gender\n",
            "case\n",
            "tense\n",
            "voice\n",
            "mood\n",
            "degree\n",
            "domain\n",
            "ln\n",
            "frame\n",
            "subjref\n",
            "referent\n"
          ]
        }
      ],
      "source": [
        "for column in mg.columns:\n",
        "    print(column)"
      ]
    },
    {
      "cell_type": "markdown",
      "metadata": {
        "id": "bxM7K5REwlfm"
      },
      "source": [
        "## Preprocessing the data\n",
        "Next, we will extract the book, chapter, and verse information into separate columns, and create columns for book + chapter and book + chapter + verse for easier grouping."
      ]
    },
    {
      "cell_type": "code",
      "execution_count": 6,
      "metadata": {
        "colab": {
          "base_uri": "https://localhost:8080/",
          "height": 386
        },
        "id": "SmEtrWnQwlfn",
        "outputId": "26323439-0e09-4669-e647-d5fb1f64e121"
      },
      "outputs": [
        {
          "output_type": "execute_result",
          "data": {
            "text/plain": [
              "         xml:id        ref role class    type               gloss      text  \\\n",
              "0  n40001001001  MAT 1:1!1  NaN  noun  common          [The] book    Βίβλος   \n",
              "1  n40001001002  MAT 1:1!2  NaN  noun  common  of [the] genealogy  γενέσεως   \n",
              "2  n40001001003  MAT 1:1!3  NaN  noun  proper            of Jesus     Ἰησοῦ   \n",
              "3  n40001001004  MAT 1:1!4  NaN  noun  proper              Christ   Χριστοῦ   \n",
              "4  n40001001005  MAT 1:1!5  NaN  noun  common                 son      υἱοῦ   \n",
              "\n",
              "  after    lemma normalized  ...         domain           ln frame subjref  \\\n",
              "0         βίβλος     Βίβλος  ...         033005        33.38   NaN     NaN   \n",
              "1        γένεσις   γενέσεως  ...  010002 033003  10.24 33.19   NaN     NaN   \n",
              "2         Ἰησοῦς      Ἰησοῦ  ...         093001      93.169a   NaN     NaN   \n",
              "3        Χριστός    Χριστοῦ  ...         093001       93.387   NaN     NaN   \n",
              "4           υἱός       υἱοῦ  ...         010002        10.30   NaN     NaN   \n",
              "\n",
              "  referent book chapter verse book_chapter book_chapter_verse  \n",
              "0      NaN  MAT       1     1        MAT 1            MAT 1:1  \n",
              "1      NaN  MAT       1     1        MAT 1            MAT 1:1  \n",
              "2      NaN  MAT       1     1        MAT 1            MAT 1:1  \n",
              "3      NaN  MAT       1     1        MAT 1            MAT 1:1  \n",
              "4      NaN  MAT       1     1        MAT 1            MAT 1:1  \n",
              "\n",
              "[5 rows x 30 columns]"
            ],
            "text/html": [
              "\n",
              "  <div id=\"df-17bc9865-88d9-4429-815a-8a8a154d4e97\">\n",
              "    <div class=\"colab-df-container\">\n",
              "      <div>\n",
              "<style scoped>\n",
              "    .dataframe tbody tr th:only-of-type {\n",
              "        vertical-align: middle;\n",
              "    }\n",
              "\n",
              "    .dataframe tbody tr th {\n",
              "        vertical-align: top;\n",
              "    }\n",
              "\n",
              "    .dataframe thead th {\n",
              "        text-align: right;\n",
              "    }\n",
              "</style>\n",
              "<table border=\"1\" class=\"dataframe\">\n",
              "  <thead>\n",
              "    <tr style=\"text-align: right;\">\n",
              "      <th></th>\n",
              "      <th>xml:id</th>\n",
              "      <th>ref</th>\n",
              "      <th>role</th>\n",
              "      <th>class</th>\n",
              "      <th>type</th>\n",
              "      <th>gloss</th>\n",
              "      <th>text</th>\n",
              "      <th>after</th>\n",
              "      <th>lemma</th>\n",
              "      <th>normalized</th>\n",
              "      <th>...</th>\n",
              "      <th>domain</th>\n",
              "      <th>ln</th>\n",
              "      <th>frame</th>\n",
              "      <th>subjref</th>\n",
              "      <th>referent</th>\n",
              "      <th>book</th>\n",
              "      <th>chapter</th>\n",
              "      <th>verse</th>\n",
              "      <th>book_chapter</th>\n",
              "      <th>book_chapter_verse</th>\n",
              "    </tr>\n",
              "  </thead>\n",
              "  <tbody>\n",
              "    <tr>\n",
              "      <th>0</th>\n",
              "      <td>n40001001001</td>\n",
              "      <td>MAT 1:1!1</td>\n",
              "      <td>NaN</td>\n",
              "      <td>noun</td>\n",
              "      <td>common</td>\n",
              "      <td>[The] book</td>\n",
              "      <td>Βίβλος</td>\n",
              "      <td></td>\n",
              "      <td>βίβλος</td>\n",
              "      <td>Βίβλος</td>\n",
              "      <td>...</td>\n",
              "      <td>033005</td>\n",
              "      <td>33.38</td>\n",
              "      <td>NaN</td>\n",
              "      <td>NaN</td>\n",
              "      <td>NaN</td>\n",
              "      <td>MAT</td>\n",
              "      <td>1</td>\n",
              "      <td>1</td>\n",
              "      <td>MAT 1</td>\n",
              "      <td>MAT 1:1</td>\n",
              "    </tr>\n",
              "    <tr>\n",
              "      <th>1</th>\n",
              "      <td>n40001001002</td>\n",
              "      <td>MAT 1:1!2</td>\n",
              "      <td>NaN</td>\n",
              "      <td>noun</td>\n",
              "      <td>common</td>\n",
              "      <td>of [the] genealogy</td>\n",
              "      <td>γενέσεως</td>\n",
              "      <td></td>\n",
              "      <td>γένεσις</td>\n",
              "      <td>γενέσεως</td>\n",
              "      <td>...</td>\n",
              "      <td>010002 033003</td>\n",
              "      <td>10.24 33.19</td>\n",
              "      <td>NaN</td>\n",
              "      <td>NaN</td>\n",
              "      <td>NaN</td>\n",
              "      <td>MAT</td>\n",
              "      <td>1</td>\n",
              "      <td>1</td>\n",
              "      <td>MAT 1</td>\n",
              "      <td>MAT 1:1</td>\n",
              "    </tr>\n",
              "    <tr>\n",
              "      <th>2</th>\n",
              "      <td>n40001001003</td>\n",
              "      <td>MAT 1:1!3</td>\n",
              "      <td>NaN</td>\n",
              "      <td>noun</td>\n",
              "      <td>proper</td>\n",
              "      <td>of Jesus</td>\n",
              "      <td>Ἰησοῦ</td>\n",
              "      <td></td>\n",
              "      <td>Ἰησοῦς</td>\n",
              "      <td>Ἰησοῦ</td>\n",
              "      <td>...</td>\n",
              "      <td>093001</td>\n",
              "      <td>93.169a</td>\n",
              "      <td>NaN</td>\n",
              "      <td>NaN</td>\n",
              "      <td>NaN</td>\n",
              "      <td>MAT</td>\n",
              "      <td>1</td>\n",
              "      <td>1</td>\n",
              "      <td>MAT 1</td>\n",
              "      <td>MAT 1:1</td>\n",
              "    </tr>\n",
              "    <tr>\n",
              "      <th>3</th>\n",
              "      <td>n40001001004</td>\n",
              "      <td>MAT 1:1!4</td>\n",
              "      <td>NaN</td>\n",
              "      <td>noun</td>\n",
              "      <td>proper</td>\n",
              "      <td>Christ</td>\n",
              "      <td>Χριστοῦ</td>\n",
              "      <td></td>\n",
              "      <td>Χριστός</td>\n",
              "      <td>Χριστοῦ</td>\n",
              "      <td>...</td>\n",
              "      <td>093001</td>\n",
              "      <td>93.387</td>\n",
              "      <td>NaN</td>\n",
              "      <td>NaN</td>\n",
              "      <td>NaN</td>\n",
              "      <td>MAT</td>\n",
              "      <td>1</td>\n",
              "      <td>1</td>\n",
              "      <td>MAT 1</td>\n",
              "      <td>MAT 1:1</td>\n",
              "    </tr>\n",
              "    <tr>\n",
              "      <th>4</th>\n",
              "      <td>n40001001005</td>\n",
              "      <td>MAT 1:1!5</td>\n",
              "      <td>NaN</td>\n",
              "      <td>noun</td>\n",
              "      <td>common</td>\n",
              "      <td>son</td>\n",
              "      <td>υἱοῦ</td>\n",
              "      <td></td>\n",
              "      <td>υἱός</td>\n",
              "      <td>υἱοῦ</td>\n",
              "      <td>...</td>\n",
              "      <td>010002</td>\n",
              "      <td>10.30</td>\n",
              "      <td>NaN</td>\n",
              "      <td>NaN</td>\n",
              "      <td>NaN</td>\n",
              "      <td>MAT</td>\n",
              "      <td>1</td>\n",
              "      <td>1</td>\n",
              "      <td>MAT 1</td>\n",
              "      <td>MAT 1:1</td>\n",
              "    </tr>\n",
              "  </tbody>\n",
              "</table>\n",
              "<p>5 rows × 30 columns</p>\n",
              "</div>\n",
              "      <button class=\"colab-df-convert\" onclick=\"convertToInteractive('df-17bc9865-88d9-4429-815a-8a8a154d4e97')\"\n",
              "              title=\"Convert this dataframe to an interactive table.\"\n",
              "              style=\"display:none;\">\n",
              "        \n",
              "  <svg xmlns=\"http://www.w3.org/2000/svg\" height=\"24px\"viewBox=\"0 0 24 24\"\n",
              "       width=\"24px\">\n",
              "    <path d=\"M0 0h24v24H0V0z\" fill=\"none\"/>\n",
              "    <path d=\"M18.56 5.44l.94 2.06.94-2.06 2.06-.94-2.06-.94-.94-2.06-.94 2.06-2.06.94zm-11 1L8.5 8.5l.94-2.06 2.06-.94-2.06-.94L8.5 2.5l-.94 2.06-2.06.94zm10 10l.94 2.06.94-2.06 2.06-.94-2.06-.94-.94-2.06-.94 2.06-2.06.94z\"/><path d=\"M17.41 7.96l-1.37-1.37c-.4-.4-.92-.59-1.43-.59-.52 0-1.04.2-1.43.59L10.3 9.45l-7.72 7.72c-.78.78-.78 2.05 0 2.83L4 21.41c.39.39.9.59 1.41.59.51 0 1.02-.2 1.41-.59l7.78-7.78 2.81-2.81c.8-.78.8-2.07 0-2.86zM5.41 20L4 18.59l7.72-7.72 1.47 1.35L5.41 20z\"/>\n",
              "  </svg>\n",
              "      </button>\n",
              "      \n",
              "  <style>\n",
              "    .colab-df-container {\n",
              "      display:flex;\n",
              "      flex-wrap:wrap;\n",
              "      gap: 12px;\n",
              "    }\n",
              "\n",
              "    .colab-df-convert {\n",
              "      background-color: #E8F0FE;\n",
              "      border: none;\n",
              "      border-radius: 50%;\n",
              "      cursor: pointer;\n",
              "      display: none;\n",
              "      fill: #1967D2;\n",
              "      height: 32px;\n",
              "      padding: 0 0 0 0;\n",
              "      width: 32px;\n",
              "    }\n",
              "\n",
              "    .colab-df-convert:hover {\n",
              "      background-color: #E2EBFA;\n",
              "      box-shadow: 0px 1px 2px rgba(60, 64, 67, 0.3), 0px 1px 3px 1px rgba(60, 64, 67, 0.15);\n",
              "      fill: #174EA6;\n",
              "    }\n",
              "\n",
              "    [theme=dark] .colab-df-convert {\n",
              "      background-color: #3B4455;\n",
              "      fill: #D2E3FC;\n",
              "    }\n",
              "\n",
              "    [theme=dark] .colab-df-convert:hover {\n",
              "      background-color: #434B5C;\n",
              "      box-shadow: 0px 1px 3px 1px rgba(0, 0, 0, 0.15);\n",
              "      filter: drop-shadow(0px 1px 2px rgba(0, 0, 0, 0.3));\n",
              "      fill: #FFFFFF;\n",
              "    }\n",
              "  </style>\n",
              "\n",
              "      <script>\n",
              "        const buttonEl =\n",
              "          document.querySelector('#df-17bc9865-88d9-4429-815a-8a8a154d4e97 button.colab-df-convert');\n",
              "        buttonEl.style.display =\n",
              "          google.colab.kernel.accessAllowed ? 'block' : 'none';\n",
              "\n",
              "        async function convertToInteractive(key) {\n",
              "          const element = document.querySelector('#df-17bc9865-88d9-4429-815a-8a8a154d4e97');\n",
              "          const dataTable =\n",
              "            await google.colab.kernel.invokeFunction('convertToInteractive',\n",
              "                                                     [key], {});\n",
              "          if (!dataTable) return;\n",
              "\n",
              "          const docLinkHtml = 'Like what you see? Visit the ' +\n",
              "            '<a target=\"_blank\" href=https://colab.research.google.com/notebooks/data_table.ipynb>data table notebook</a>'\n",
              "            + ' to learn more about interactive tables.';\n",
              "          element.innerHTML = '';\n",
              "          dataTable['output_type'] = 'display_data';\n",
              "          await google.colab.output.renderOutput(dataTable, element);\n",
              "          const docLink = document.createElement('div');\n",
              "          docLink.innerHTML = docLinkHtml;\n",
              "          element.appendChild(docLink);\n",
              "        }\n",
              "      </script>\n",
              "    </div>\n",
              "  </div>\n",
              "  "
            ]
          },
          "metadata": {},
          "execution_count": 6
        }
      ],
      "source": [
        "# Extract book, chapter, and verse into separate columns\n",
        "mg[['book', 'chapter', 'verse']] = mg['ref'].str.extract(r'(\\d?[A-Z]+)\\s(\\d+):(\\d+)')\n",
        "\n",
        "# Add columns for book + chapter, and book + chapter + verse for easier grouping\n",
        "mg['book_chapter'] = mg['book'] + ' ' + mg['chapter'].astype(str)\n",
        "mg['book_chapter_verse'] = mg['book_chapter'] + ':' + mg['verse'].astype(str)\n",
        "\n",
        "# Display the updated data frame\n",
        "mg.head()\n"
      ]
    },
    {
      "cell_type": "markdown",
      "metadata": {
        "id": "Iuj2e9mywlfn"
      },
      "source": [
        "Now that we have the book, chapter, and verse, let's group the data by book, and generate a list of unique Louw-Nida values for each book."
      ]
    },
    {
      "cell_type": "code",
      "execution_count": 7,
      "metadata": {
        "colab": {
          "base_uri": "https://localhost:8080/"
        },
        "id": "3vToNRJjwlfn",
        "outputId": "3c5187a8-fdf9-44ee-c73c-eb647f69a41e"
      },
      "outputs": [
        {
          "output_type": "stream",
          "name": "stdout",
          "text": [
            "Word counts:\n",
            " book\n",
            "1CO    6820\n",
            "1JN    2136\n",
            "1PE    1676\n",
            "1TH    1473\n",
            "1TI    1588\n",
            "dtype: int64\n",
            "\n",
            "Unique Louw-Nida domains:\n",
            " book\n",
            "1CO    [93.294a, 33.314, 53.74, 93.387, 93.169a, 89.7...\n",
            "1JN    [92.27, 13.69, 67.131, 67.65, nan, 24.52, 24.1...\n",
            "1PE    [93.296, 53.74, 93.169a, 93.387, 30.93, 11.77,...\n",
            "1TH    [93.294a, nan, 93.340, 93.361, 92.24, 11.32, 9...\n",
            "1TI    [93.294a, 53.74, 93.387, 93.169a, nan, 33.326,...\n",
            "Name: ln, dtype: object\n"
          ]
        }
      ],
      "source": [
        "import numpy as np\n",
        "\n",
        "mg_word_count = mg.groupby('book').size()\n",
        "\n",
        "# Create an array of the unique Louw-Nida domain values for each book\n",
        "mg_unique_ln = mg.groupby('book')['ln'].unique()\n",
        "\n",
        "# Print some example results\n",
        "print('Word counts:\\n', mg_word_count[0:5])\n",
        "print('\\nUnique Louw-Nida domains:\\n', mg_unique_ln[0:5])"
      ]
    },
    {
      "cell_type": "markdown",
      "metadata": {
        "id": "jRVj-XuEwlfn"
      },
      "source": [
        "Let's combine these two data sets into a single data frame so we can plot the data."
      ]
    },
    {
      "cell_type": "code",
      "execution_count": 8,
      "metadata": {
        "colab": {
          "base_uri": "https://localhost:8080/",
          "height": 238
        },
        "id": "Vom8qxtzwlfo",
        "outputId": "45411d24-5123-4131-9b0f-17170df8393f"
      },
      "outputs": [
        {
          "output_type": "execute_result",
          "data": {
            "text/plain": [
              "      word_count                                                 ln  ln_count\n",
              "book                                                                         \n",
              "1CO         6820  [93.294a, 33.314, 53.74, 93.387, 93.169a, 89.7...      1308\n",
              "1JN         2136  [92.27, 13.69, 67.131, 67.65, nan, 24.52, 24.1...       327\n",
              "1PE         1676  [93.296, 53.74, 93.169a, 93.387, 30.93, 11.77,...       619\n",
              "1TH         1473  [93.294a, nan, 93.340, 93.361, 92.24, 11.32, 9...       468\n",
              "1TI         1588  [93.294a, 53.74, 93.387, 93.169a, nan, 33.326,...       537"
            ],
            "text/html": [
              "\n",
              "  <div id=\"df-e422022f-3307-4f18-be4d-25cf36bc8d4e\">\n",
              "    <div class=\"colab-df-container\">\n",
              "      <div>\n",
              "<style scoped>\n",
              "    .dataframe tbody tr th:only-of-type {\n",
              "        vertical-align: middle;\n",
              "    }\n",
              "\n",
              "    .dataframe tbody tr th {\n",
              "        vertical-align: top;\n",
              "    }\n",
              "\n",
              "    .dataframe thead th {\n",
              "        text-align: right;\n",
              "    }\n",
              "</style>\n",
              "<table border=\"1\" class=\"dataframe\">\n",
              "  <thead>\n",
              "    <tr style=\"text-align: right;\">\n",
              "      <th></th>\n",
              "      <th>word_count</th>\n",
              "      <th>ln</th>\n",
              "      <th>ln_count</th>\n",
              "    </tr>\n",
              "    <tr>\n",
              "      <th>book</th>\n",
              "      <th></th>\n",
              "      <th></th>\n",
              "      <th></th>\n",
              "    </tr>\n",
              "  </thead>\n",
              "  <tbody>\n",
              "    <tr>\n",
              "      <th>1CO</th>\n",
              "      <td>6820</td>\n",
              "      <td>[93.294a, 33.314, 53.74, 93.387, 93.169a, 89.7...</td>\n",
              "      <td>1308</td>\n",
              "    </tr>\n",
              "    <tr>\n",
              "      <th>1JN</th>\n",
              "      <td>2136</td>\n",
              "      <td>[92.27, 13.69, 67.131, 67.65, nan, 24.52, 24.1...</td>\n",
              "      <td>327</td>\n",
              "    </tr>\n",
              "    <tr>\n",
              "      <th>1PE</th>\n",
              "      <td>1676</td>\n",
              "      <td>[93.296, 53.74, 93.169a, 93.387, 30.93, 11.77,...</td>\n",
              "      <td>619</td>\n",
              "    </tr>\n",
              "    <tr>\n",
              "      <th>1TH</th>\n",
              "      <td>1473</td>\n",
              "      <td>[93.294a, nan, 93.340, 93.361, 92.24, 11.32, 9...</td>\n",
              "      <td>468</td>\n",
              "    </tr>\n",
              "    <tr>\n",
              "      <th>1TI</th>\n",
              "      <td>1588</td>\n",
              "      <td>[93.294a, 53.74, 93.387, 93.169a, nan, 33.326,...</td>\n",
              "      <td>537</td>\n",
              "    </tr>\n",
              "  </tbody>\n",
              "</table>\n",
              "</div>\n",
              "      <button class=\"colab-df-convert\" onclick=\"convertToInteractive('df-e422022f-3307-4f18-be4d-25cf36bc8d4e')\"\n",
              "              title=\"Convert this dataframe to an interactive table.\"\n",
              "              style=\"display:none;\">\n",
              "        \n",
              "  <svg xmlns=\"http://www.w3.org/2000/svg\" height=\"24px\"viewBox=\"0 0 24 24\"\n",
              "       width=\"24px\">\n",
              "    <path d=\"M0 0h24v24H0V0z\" fill=\"none\"/>\n",
              "    <path d=\"M18.56 5.44l.94 2.06.94-2.06 2.06-.94-2.06-.94-.94-2.06-.94 2.06-2.06.94zm-11 1L8.5 8.5l.94-2.06 2.06-.94-2.06-.94L8.5 2.5l-.94 2.06-2.06.94zm10 10l.94 2.06.94-2.06 2.06-.94-2.06-.94-.94-2.06-.94 2.06-2.06.94z\"/><path d=\"M17.41 7.96l-1.37-1.37c-.4-.4-.92-.59-1.43-.59-.52 0-1.04.2-1.43.59L10.3 9.45l-7.72 7.72c-.78.78-.78 2.05 0 2.83L4 21.41c.39.39.9.59 1.41.59.51 0 1.02-.2 1.41-.59l7.78-7.78 2.81-2.81c.8-.78.8-2.07 0-2.86zM5.41 20L4 18.59l7.72-7.72 1.47 1.35L5.41 20z\"/>\n",
              "  </svg>\n",
              "      </button>\n",
              "      \n",
              "  <style>\n",
              "    .colab-df-container {\n",
              "      display:flex;\n",
              "      flex-wrap:wrap;\n",
              "      gap: 12px;\n",
              "    }\n",
              "\n",
              "    .colab-df-convert {\n",
              "      background-color: #E8F0FE;\n",
              "      border: none;\n",
              "      border-radius: 50%;\n",
              "      cursor: pointer;\n",
              "      display: none;\n",
              "      fill: #1967D2;\n",
              "      height: 32px;\n",
              "      padding: 0 0 0 0;\n",
              "      width: 32px;\n",
              "    }\n",
              "\n",
              "    .colab-df-convert:hover {\n",
              "      background-color: #E2EBFA;\n",
              "      box-shadow: 0px 1px 2px rgba(60, 64, 67, 0.3), 0px 1px 3px 1px rgba(60, 64, 67, 0.15);\n",
              "      fill: #174EA6;\n",
              "    }\n",
              "\n",
              "    [theme=dark] .colab-df-convert {\n",
              "      background-color: #3B4455;\n",
              "      fill: #D2E3FC;\n",
              "    }\n",
              "\n",
              "    [theme=dark] .colab-df-convert:hover {\n",
              "      background-color: #434B5C;\n",
              "      box-shadow: 0px 1px 3px 1px rgba(0, 0, 0, 0.15);\n",
              "      filter: drop-shadow(0px 1px 2px rgba(0, 0, 0, 0.3));\n",
              "      fill: #FFFFFF;\n",
              "    }\n",
              "  </style>\n",
              "\n",
              "      <script>\n",
              "        const buttonEl =\n",
              "          document.querySelector('#df-e422022f-3307-4f18-be4d-25cf36bc8d4e button.colab-df-convert');\n",
              "        buttonEl.style.display =\n",
              "          google.colab.kernel.accessAllowed ? 'block' : 'none';\n",
              "\n",
              "        async function convertToInteractive(key) {\n",
              "          const element = document.querySelector('#df-e422022f-3307-4f18-be4d-25cf36bc8d4e');\n",
              "          const dataTable =\n",
              "            await google.colab.kernel.invokeFunction('convertToInteractive',\n",
              "                                                     [key], {});\n",
              "          if (!dataTable) return;\n",
              "\n",
              "          const docLinkHtml = 'Like what you see? Visit the ' +\n",
              "            '<a target=\"_blank\" href=https://colab.research.google.com/notebooks/data_table.ipynb>data table notebook</a>'\n",
              "            + ' to learn more about interactive tables.';\n",
              "          element.innerHTML = '';\n",
              "          dataTable['output_type'] = 'display_data';\n",
              "          await google.colab.output.renderOutput(dataTable, element);\n",
              "          const docLink = document.createElement('div');\n",
              "          docLink.innerHTML = docLinkHtml;\n",
              "          element.appendChild(docLink);\n",
              "        }\n",
              "      </script>\n",
              "    </div>\n",
              "  </div>\n",
              "  "
            ]
          },
          "metadata": {},
          "execution_count": 8
        }
      ],
      "source": [
        "# Turn both of the series into data frames\n",
        "words = mg_word_count.to_frame().rename(columns={0: 'word_count'})\n",
        "domains = mg_unique_ln.to_frame().rename(columns={0: 'ln'})\n",
        "\n",
        "# Merge the two data frames, and add a column for the number of unique ln values\n",
        "mg_books = pd.merge(words, domains, on='book')\n",
        "\n",
        "mg_books['ln_count'] = mg_books['ln'].apply(lambda x: len(x))\n",
        "\n",
        "mg_books.head()"
      ]
    },
    {
      "cell_type": "markdown",
      "metadata": {
        "id": "FgBJaw3IQQva"
      },
      "source": [
        "To further analyze the dataset, we can group it by verse, domain, or find books with the most proper nouns. For visualization, install the required libraries and plot the data."
      ]
    },
    {
      "cell_type": "code",
      "execution_count": 9,
      "metadata": {
        "colab": {
          "base_uri": "https://localhost:8080/"
        },
        "id": "HOGRvfHYwlfo",
        "outputId": "628bfd44-4ea7-47c6-8438-ece08c3c16f6"
      },
      "outputs": [
        {
          "output_type": "stream",
          "name": "stdout",
          "text": [
            "Looking in indexes: https://pypi.org/simple, https://us-python.pkg.dev/colab-wheels/public/simple/\n",
            "Requirement already satisfied: matplotlib in /usr/local/lib/python3.9/dist-packages (3.7.1)\n",
            "Requirement already satisfied: contourpy>=1.0.1 in /usr/local/lib/python3.9/dist-packages (from matplotlib) (1.0.7)\n",
            "Requirement already satisfied: python-dateutil>=2.7 in /usr/local/lib/python3.9/dist-packages (from matplotlib) (2.8.2)\n",
            "Requirement already satisfied: packaging>=20.0 in /usr/local/lib/python3.9/dist-packages (from matplotlib) (23.0)\n",
            "Requirement already satisfied: numpy>=1.20 in /usr/local/lib/python3.9/dist-packages (from matplotlib) (1.22.4)\n",
            "Requirement already satisfied: cycler>=0.10 in /usr/local/lib/python3.9/dist-packages (from matplotlib) (0.11.0)\n",
            "Requirement already satisfied: pyparsing>=2.3.1 in /usr/local/lib/python3.9/dist-packages (from matplotlib) (3.0.9)\n",
            "Requirement already satisfied: fonttools>=4.22.0 in /usr/local/lib/python3.9/dist-packages (from matplotlib) (4.39.3)\n",
            "Requirement already satisfied: importlib-resources>=3.2.0 in /usr/local/lib/python3.9/dist-packages (from matplotlib) (5.12.0)\n",
            "Requirement already satisfied: kiwisolver>=1.0.1 in /usr/local/lib/python3.9/dist-packages (from matplotlib) (1.4.4)\n",
            "Requirement already satisfied: pillow>=6.2.0 in /usr/local/lib/python3.9/dist-packages (from matplotlib) (8.4.0)\n",
            "Requirement already satisfied: zipp>=3.1.0 in /usr/local/lib/python3.9/dist-packages (from importlib-resources>=3.2.0->matplotlib) (3.15.0)\n",
            "Requirement already satisfied: six>=1.5 in /usr/local/lib/python3.9/dist-packages (from python-dateutil>=2.7->matplotlib) (1.16.0)\n"
          ]
        }
      ],
      "source": [
        "!pip install matplotlib \n",
        "from matplotlib import pyplot as plt\n"
      ]
    },
    {
      "cell_type": "code",
      "execution_count": 10,
      "metadata": {
        "colab": {
          "base_uri": "https://localhost:8080/",
          "height": 472
        },
        "id": "EP678hT_wlfo",
        "outputId": "2bfcff2d-9b92-4c3f-c4df-94d2db52b1a7"
      },
      "outputs": [
        {
          "output_type": "display_data",
          "data": {
            "text/plain": [
              "<Figure size 640x480 with 2 Axes>"
            ],
            "image/png": "[encoded data removed]"
          },
          "metadata": {}
        }
      ],
      "source": [
        "# plot data\n",
        "ax = mg_books.sort_values('word_count').plot(kind='bar', legend=False)\n",
        "ax2 = ax.twinx() # create a second y-axis\n",
        "mg_books.sort_values('word_count')['ln_count'].plot(kind='line', color='C2', ax=ax2, legend=False)\n",
        "\n",
        "# format plot\n",
        "ax.set_ylabel('Word Count')\n",
        "ax2.set_ylabel('Unique ln values')\n",
        "ax.set_xlabel('Book')\n",
        "ax.set_title('Word Count and Unique ln values per Book')\n",
        "\n",
        "plt.show()"
      ]
    },
    {
      "cell_type": "markdown",
      "metadata": {
        "id": "ITqYBSV9QQva"
      },
      "source": [
        "## Comparing Unique Lemmas and Semantic Domains\n",
        "We can also compare the number of unique lemmas with the number of unique semantic domains in each chapter."
      ]
    },
    {
      "cell_type": "code",
      "execution_count": 11,
      "metadata": {
        "colab": {
          "base_uri": "https://localhost:8080/",
          "height": 508
        },
        "id": "JavgiBwewlfp",
        "outputId": "ff34a428-57d1-4f4c-9f8f-7b1e5da4d34b"
      },
      "outputs": [
        {
          "output_type": "execute_result",
          "data": {
            "text/plain": [
              "Text(0.5, 1.0, 'Rate of unique domains per word')"
            ]
          },
          "metadata": {},
          "execution_count": 11
        },
        {
          "output_type": "display_data",
          "data": {
            "text/plain": [
              "<Figure size 640x480 with 1 Axes>"
            ],
            "image/png": "[encoded data removed]"
          },
          "metadata": {}
        }
      ],
      "source": [
        "# Find the books with the most unique ln values per word\n",
        "mg_books['ln_rate'] = mg_books['ln_count'] / mg_books['word_count']\n",
        "\n",
        "# Plot the ln_rate ('Semantic Density') for each book\n",
        "ax = mg_books.sort_values('ln_rate').plot(kind='bar', y='ln_rate', legend=False)\n",
        "ax.set_ylabel('Rate of unique domains')\n",
        "ax.set_xlabel('Book')\n",
        "ax.set_title('Rate of unique domains per word')"
      ]
    },
    {
      "cell_type": "code",
      "execution_count": 12,
      "metadata": {
        "colab": {
          "base_uri": "https://localhost:8080/",
          "height": 282
        },
        "id": "OQV95VG9wlfp",
        "outputId": "28980e4e-877b-4ef9-bc73-c937c40c2045"
      },
      "outputs": [
        {
          "output_type": "execute_result",
          "data": {
            "text/plain": [
              "      word_count                                                 ln  ln_count  \\\n",
              "book                                                                            \n",
              "JHN        15643  [67.33, 67.65, 13.69, 92.24, 33.100, 89.93, 85...      1383   \n",
              "REV         9832  [28.38, 93.169a, 93.387, nan, 92.24, 12.1, 28....      1063   \n",
              "MAT        18299  [33.38, 10.24 33.19, 93.169a, 93.387, 10.30, 9...      2192   \n",
              "LUK        19456  [89.32, 59.1, 68.59, 62.3, 33.11, 90.24, 92.24...      2560   \n",
              "ACT        18393  [92.24, 91.6, 60.46, 33.51, 90.45, 90.24, 59.2...      2618   \n",
              "\n",
              "       ln_rate  \n",
              "book            \n",
              "JHN   0.088410  \n",
              "REV   0.108116  \n",
              "MAT   0.119788  \n",
              "LUK   0.131579  \n",
              "ACT   0.142337  "
            ],
            "text/html": [
              "\n",
              "  <div id=\"df-7d366794-e398-4cbf-8a0d-1b0c34ada6c9\">\n",
              "    <div class=\"colab-df-container\">\n",
              "      <div>\n",
              "<style scoped>\n",
              "    .dataframe tbody tr th:only-of-type {\n",
              "        vertical-align: middle;\n",
              "    }\n",
              "\n",
              "    .dataframe tbody tr th {\n",
              "        vertical-align: top;\n",
              "    }\n",
              "\n",
              "    .dataframe thead th {\n",
              "        text-align: right;\n",
              "    }\n",
              "</style>\n",
              "<table border=\"1\" class=\"dataframe\">\n",
              "  <thead>\n",
              "    <tr style=\"text-align: right;\">\n",
              "      <th></th>\n",
              "      <th>word_count</th>\n",
              "      <th>ln</th>\n",
              "      <th>ln_count</th>\n",
              "      <th>ln_rate</th>\n",
              "    </tr>\n",
              "    <tr>\n",
              "      <th>book</th>\n",
              "      <th></th>\n",
              "      <th></th>\n",
              "      <th></th>\n",
              "      <th></th>\n",
              "    </tr>\n",
              "  </thead>\n",
              "  <tbody>\n",
              "    <tr>\n",
              "      <th>JHN</th>\n",
              "      <td>15643</td>\n",
              "      <td>[67.33, 67.65, 13.69, 92.24, 33.100, 89.93, 85...</td>\n",
              "      <td>1383</td>\n",
              "      <td>0.088410</td>\n",
              "    </tr>\n",
              "    <tr>\n",
              "      <th>REV</th>\n",
              "      <td>9832</td>\n",
              "      <td>[28.38, 93.169a, 93.387, nan, 92.24, 12.1, 28....</td>\n",
              "      <td>1063</td>\n",
              "      <td>0.108116</td>\n",
              "    </tr>\n",
              "    <tr>\n",
              "      <th>MAT</th>\n",
              "      <td>18299</td>\n",
              "      <td>[33.38, 10.24 33.19, 93.169a, 93.387, 10.30, 9...</td>\n",
              "      <td>2192</td>\n",
              "      <td>0.119788</td>\n",
              "    </tr>\n",
              "    <tr>\n",
              "      <th>LUK</th>\n",
              "      <td>19456</td>\n",
              "      <td>[89.32, 59.1, 68.59, 62.3, 33.11, 90.24, 92.24...</td>\n",
              "      <td>2560</td>\n",
              "      <td>0.131579</td>\n",
              "    </tr>\n",
              "    <tr>\n",
              "      <th>ACT</th>\n",
              "      <td>18393</td>\n",
              "      <td>[92.24, 91.6, 60.46, 33.51, 90.45, 90.24, 59.2...</td>\n",
              "      <td>2618</td>\n",
              "      <td>0.142337</td>\n",
              "    </tr>\n",
              "  </tbody>\n",
              "</table>\n",
              "</div>\n",
              "      <button class=\"colab-df-convert\" onclick=\"convertToInteractive('df-7d366794-e398-4cbf-8a0d-1b0c34ada6c9')\"\n",
              "              title=\"Convert this dataframe to an interactive table.\"\n",
              "              style=\"display:none;\">\n",
              "        \n",
              "  <svg xmlns=\"http://www.w3.org/2000/svg\" height=\"24px\"viewBox=\"0 0 24 24\"\n",
              "       width=\"24px\">\n",
              "    <path d=\"M0 0h24v24H0V0z\" fill=\"none\"/>\n",
              "    <path d=\"M18.56 5.44l.94 2.06.94-2.06 2.06-.94-2.06-.94-.94-2.06-.94 2.06-2.06.94zm-11 1L8.5 8.5l.94-2.06 2.06-.94-2.06-.94L8.5 2.5l-.94 2.06-2.06.94zm10 10l.94 2.06.94-2.06 2.06-.94-2.06-.94-.94-2.06-.94 2.06-2.06.94z\"/><path d=\"M17.41 7.96l-1.37-1.37c-.4-.4-.92-.59-1.43-.59-.52 0-1.04.2-1.43.59L10.3 9.45l-7.72 7.72c-.78.78-.78 2.05 0 2.83L4 21.41c.39.39.9.59 1.41.59.51 0 1.02-.2 1.41-.59l7.78-7.78 2.81-2.81c.8-.78.8-2.07 0-2.86zM5.41 20L4 18.59l7.72-7.72 1.47 1.35L5.41 20z\"/>\n",
              "  </svg>\n",
              "      </button>\n",
              "      \n",
              "  <style>\n",
              "    .colab-df-container {\n",
              "      display:flex;\n",
              "      flex-wrap:wrap;\n",
              "      gap: 12px;\n",
              "    }\n",
              "\n",
              "    .colab-df-convert {\n",
              "      background-color: #E8F0FE;\n",
              "      border: none;\n",
              "      border-radius: 50%;\n",
              "      cursor: pointer;\n",
              "      display: none;\n",
              "      fill: #1967D2;\n",
              "      height: 32px;\n",
              "      padding: 0 0 0 0;\n",
              "      width: 32px;\n",
              "    }\n",
              "\n",
              "    .colab-df-convert:hover {\n",
              "      background-color: #E2EBFA;\n",
              "      box-shadow: 0px 1px 2px rgba(60, 64, 67, 0.3), 0px 1px 3px 1px rgba(60, 64, 67, 0.15);\n",
              "      fill: #174EA6;\n",
              "    }\n",
              "\n",
              "    [theme=dark] .colab-df-convert {\n",
              "      background-color: #3B4455;\n",
              "      fill: #D2E3FC;\n",
              "    }\n",
              "\n",
              "    [theme=dark] .colab-df-convert:hover {\n",
              "      background-color: #434B5C;\n",
              "      box-shadow: 0px 1px 3px 1px rgba(0, 0, 0, 0.15);\n",
              "      filter: drop-shadow(0px 1px 2px rgba(0, 0, 0, 0.3));\n",
              "      fill: #FFFFFF;\n",
              "    }\n",
              "  </style>\n",
              "\n",
              "      <script>\n",
              "        const buttonEl =\n",
              "          document.querySelector('#df-7d366794-e398-4cbf-8a0d-1b0c34ada6c9 button.colab-df-convert');\n",
              "        buttonEl.style.display =\n",
              "          google.colab.kernel.accessAllowed ? 'block' : 'none';\n",
              "\n",
              "        async function convertToInteractive(key) {\n",
              "          const element = document.querySelector('#df-7d366794-e398-4cbf-8a0d-1b0c34ada6c9');\n",
              "          const dataTable =\n",
              "            await google.colab.kernel.invokeFunction('convertToInteractive',\n",
              "                                                     [key], {});\n",
              "          if (!dataTable) return;\n",
              "\n",
              "          const docLinkHtml = 'Like what you see? Visit the ' +\n",
              "            '<a target=\"_blank\" href=https://colab.research.google.com/notebooks/data_table.ipynb>data table notebook</a>'\n",
              "            + ' to learn more about interactive tables.';\n",
              "          element.innerHTML = '';\n",
              "          dataTable['output_type'] = 'display_data';\n",
              "          await google.colab.output.renderOutput(dataTable, element);\n",
              "          const docLink = document.createElement('div');\n",
              "          docLink.innerHTML = docLinkHtml;\n",
              "          element.appendChild(docLink);\n",
              "        }\n",
              "      </script>\n",
              "    </div>\n",
              "  </div>\n",
              "  "
            ]
          },
          "metadata": {},
          "execution_count": 12
        }
      ],
      "source": [
        "mg_books.sort_values('ln_rate').head()"
      ]
    },
    {
      "cell_type": "markdown",
      "metadata": {
        "id": "5-lOmE85wlfp"
      },
      "source": [
        "While that is interesting data, it is overly sensitive to the length of each book. Let's do the same breakdown, finding the rate of unique Louw-Nida domains per word, but let's group the data by book *and* chapter instead."
      ]
    },
    {
      "cell_type": "code",
      "execution_count": 13,
      "metadata": {
        "colab": {
          "base_uri": "https://localhost:8080/"
        },
        "id": "GOWsJHM9QQvb",
        "outputId": "bfebd673-4c85-4f1e-a525-112461a6e58a"
      },
      "outputs": [
        {
          "output_type": "execute_result",
          "data": {
            "text/plain": [
              "book_chapter\n",
              "1CO 1     496\n",
              "1CO 10    463\n",
              "1CO 11    531\n",
              "1CO 12    470\n",
              "1CO 13    197\n",
              "dtype: int64"
            ]
          },
          "metadata": {},
          "execution_count": 13
        }
      ],
      "source": [
        "# Group by book_chapter column\n",
        "mg_word_count = mg.groupby('book_chapter').size()\n",
        "mg_word_count.head()"
      ]
    },
    {
      "cell_type": "code",
      "execution_count": 14,
      "metadata": {
        "colab": {
          "base_uri": "https://localhost:8080/"
        },
        "id": "3cVyc11NQQvb",
        "outputId": "0f743487-ff1a-4ff7-dc23-229a7966881d"
      },
      "outputs": [
        {
          "output_type": "execute_result",
          "data": {
            "text/plain": [
              "book_chapter\n",
              "1CO 1     [93.294a, 33.314, 53.74, 93.387, 93.169a, 89.7...\n",
              "1CO 10    [69.3, 25.1, 91.1, 92.7, 28.13 32.7, 11.23, 90...\n",
              "1CO 11    [41.45, 92.1, 13.3, 64.14, 89.92 92.1, 93.387,...\n",
              "1CO 12    [89.6, nan, 92.24, 12.21, 11.23, 69.3, 25.1, 9...\n",
              "1CO 13    [89.67, 92.24, 33.2, 9.1, 33.70, 89.92, 12.28,...\n",
              "Name: ln, dtype: object"
            ]
          },
          "metadata": {},
          "execution_count": 14
        }
      ],
      "source": [
        "# Create an array of the unique Louw-Nida domain values for each book\n",
        "mg_unique_ln = mg.groupby('book_chapter')['ln'].unique()\n",
        "mg_unique_ln.head()"
      ]
    },
    {
      "cell_type": "code",
      "execution_count": 15,
      "metadata": {
        "id": "t247ORaSQQvb"
      },
      "outputs": [],
      "source": [
        "# Turn both of the series into data frames\n",
        "words = mg_word_count.to_frame().rename(columns={0: 'word_count'})\n",
        "domains = mg_unique_ln.to_frame().rename(columns={0: 'ln'})"
      ]
    },
    {
      "cell_type": "code",
      "execution_count": 16,
      "metadata": {
        "colab": {
          "base_uri": "https://localhost:8080/",
          "height": 282
        },
        "id": "J9wP7vBtwlfq",
        "outputId": "273da050-c0da-4fd9-87b3-d1161b767a31"
      },
      "outputs": [
        {
          "output_type": "execute_result",
          "data": {
            "text/plain": [
              "              word_count                                                 ln  \\\n",
              "book_chapter                                                                  \n",
              "1CO 1                496  [93.294a, 33.314, 53.74, 93.387, 93.169a, 89.7...   \n",
              "1CO 10               463  [69.3, 25.1, 91.1, 92.7, 28.13 32.7, 11.23, 90...   \n",
              "1CO 11               531  [41.45, 92.1, 13.3, 64.14, 89.92 92.1, 93.387,...   \n",
              "1CO 12               470  [89.6, nan, 92.24, 12.21, 11.23, 69.3, 25.1, 9...   \n",
              "1CO 13               197  [89.67, 92.24, 33.2, 9.1, 33.70, 89.92, 12.28,...   \n",
              "\n",
              "              ln_count  \n",
              "book_chapter            \n",
              "1CO 1              192  \n",
              "1CO 10             204  \n",
              "1CO 11             204  \n",
              "1CO 12             173  \n",
              "1CO 13              93  "
            ],
            "text/html": [
              "\n",
              "  <div id=\"df-35e0332b-63b6-457b-ad6b-d60551a79318\">\n",
              "    <div class=\"colab-df-container\">\n",
              "      <div>\n",
              "<style scoped>\n",
              "    .dataframe tbody tr th:only-of-type {\n",
              "        vertical-align: middle;\n",
              "    }\n",
              "\n",
              "    .dataframe tbody tr th {\n",
              "        vertical-align: top;\n",
              "    }\n",
              "\n",
              "    .dataframe thead th {\n",
              "        text-align: right;\n",
              "    }\n",
              "</style>\n",
              "<table border=\"1\" class=\"dataframe\">\n",
              "  <thead>\n",
              "    <tr style=\"text-align: right;\">\n",
              "      <th></th>\n",
              "      <th>word_count</th>\n",
              "      <th>ln</th>\n",
              "      <th>ln_count</th>\n",
              "    </tr>\n",
              "    <tr>\n",
              "      <th>book_chapter</th>\n",
              "      <th></th>\n",
              "      <th></th>\n",
              "      <th></th>\n",
              "    </tr>\n",
              "  </thead>\n",
              "  <tbody>\n",
              "    <tr>\n",
              "      <th>1CO 1</th>\n",
              "      <td>496</td>\n",
              "      <td>[93.294a, 33.314, 53.74, 93.387, 93.169a, 89.7...</td>\n",
              "      <td>192</td>\n",
              "    </tr>\n",
              "    <tr>\n",
              "      <th>1CO 10</th>\n",
              "      <td>463</td>\n",
              "      <td>[69.3, 25.1, 91.1, 92.7, 28.13 32.7, 11.23, 90...</td>\n",
              "      <td>204</td>\n",
              "    </tr>\n",
              "    <tr>\n",
              "      <th>1CO 11</th>\n",
              "      <td>531</td>\n",
              "      <td>[41.45, 92.1, 13.3, 64.14, 89.92 92.1, 93.387,...</td>\n",
              "      <td>204</td>\n",
              "    </tr>\n",
              "    <tr>\n",
              "      <th>1CO 12</th>\n",
              "      <td>470</td>\n",
              "      <td>[89.6, nan, 92.24, 12.21, 11.23, 69.3, 25.1, 9...</td>\n",
              "      <td>173</td>\n",
              "    </tr>\n",
              "    <tr>\n",
              "      <th>1CO 13</th>\n",
              "      <td>197</td>\n",
              "      <td>[89.67, 92.24, 33.2, 9.1, 33.70, 89.92, 12.28,...</td>\n",
              "      <td>93</td>\n",
              "    </tr>\n",
              "  </tbody>\n",
              "</table>\n",
              "</div>\n",
              "      <button class=\"colab-df-convert\" onclick=\"convertToInteractive('df-35e0332b-63b6-457b-ad6b-d60551a79318')\"\n",
              "              title=\"Convert this dataframe to an interactive table.\"\n",
              "              style=\"display:none;\">\n",
              "        \n",
              "  <svg xmlns=\"http://www.w3.org/2000/svg\" height=\"24px\"viewBox=\"0 0 24 24\"\n",
              "       width=\"24px\">\n",
              "    <path d=\"M0 0h24v24H0V0z\" fill=\"none\"/>\n",
              "    <path d=\"M18.56 5.44l.94 2.06.94-2.06 2.06-.94-2.06-.94-.94-2.06-.94 2.06-2.06.94zm-11 1L8.5 8.5l.94-2.06 2.06-.94-2.06-.94L8.5 2.5l-.94 2.06-2.06.94zm10 10l.94 2.06.94-2.06 2.06-.94-2.06-.94-.94-2.06-.94 2.06-2.06.94z\"/><path d=\"M17.41 7.96l-1.37-1.37c-.4-.4-.92-.59-1.43-.59-.52 0-1.04.2-1.43.59L10.3 9.45l-7.72 7.72c-.78.78-.78 2.05 0 2.83L4 21.41c.39.39.9.59 1.41.59.51 0 1.02-.2 1.41-.59l7.78-7.78 2.81-2.81c.8-.78.8-2.07 0-2.86zM5.41 20L4 18.59l7.72-7.72 1.47 1.35L5.41 20z\"/>\n",
              "  </svg>\n",
              "      </button>\n",
              "      \n",
              "  <style>\n",
              "    .colab-df-container {\n",
              "      display:flex;\n",
              "      flex-wrap:wrap;\n",
              "      gap: 12px;\n",
              "    }\n",
              "\n",
              "    .colab-df-convert {\n",
              "      background-color: #E8F0FE;\n",
              "      border: none;\n",
              "      border-radius: 50%;\n",
              "      cursor: pointer;\n",
              "      display: none;\n",
              "      fill: #1967D2;\n",
              "      height: 32px;\n",
              "      padding: 0 0 0 0;\n",
              "      width: 32px;\n",
              "    }\n",
              "\n",
              "    .colab-df-convert:hover {\n",
              "      background-color: #E2EBFA;\n",
              "      box-shadow: 0px 1px 2px rgba(60, 64, 67, 0.3), 0px 1px 3px 1px rgba(60, 64, 67, 0.15);\n",
              "      fill: #174EA6;\n",
              "    }\n",
              "\n",
              "    [theme=dark] .colab-df-convert {\n",
              "      background-color: #3B4455;\n",
              "      fill: #D2E3FC;\n",
              "    }\n",
              "\n",
              "    [theme=dark] .colab-df-convert:hover {\n",
              "      background-color: #434B5C;\n",
              "      box-shadow: 0px 1px 3px 1px rgba(0, 0, 0, 0.15);\n",
              "      filter: drop-shadow(0px 1px 2px rgba(0, 0, 0, 0.3));\n",
              "      fill: #FFFFFF;\n",
              "    }\n",
              "  </style>\n",
              "\n",
              "      <script>\n",
              "        const buttonEl =\n",
              "          document.querySelector('#df-35e0332b-63b6-457b-ad6b-d60551a79318 button.colab-df-convert');\n",
              "        buttonEl.style.display =\n",
              "          google.colab.kernel.accessAllowed ? 'block' : 'none';\n",
              "\n",
              "        async function convertToInteractive(key) {\n",
              "          const element = document.querySelector('#df-35e0332b-63b6-457b-ad6b-d60551a79318');\n",
              "          const dataTable =\n",
              "            await google.colab.kernel.invokeFunction('convertToInteractive',\n",
              "                                                     [key], {});\n",
              "          if (!dataTable) return;\n",
              "\n",
              "          const docLinkHtml = 'Like what you see? Visit the ' +\n",
              "            '<a target=\"_blank\" href=https://colab.research.google.com/notebooks/data_table.ipynb>data table notebook</a>'\n",
              "            + ' to learn more about interactive tables.';\n",
              "          element.innerHTML = '';\n",
              "          dataTable['output_type'] = 'display_data';\n",
              "          await google.colab.output.renderOutput(dataTable, element);\n",
              "          const docLink = document.createElement('div');\n",
              "          docLink.innerHTML = docLinkHtml;\n",
              "          element.appendChild(docLink);\n",
              "        }\n",
              "      </script>\n",
              "    </div>\n",
              "  </div>\n",
              "  "
            ]
          },
          "metadata": {},
          "execution_count": 16
        }
      ],
      "source": [
        "# Merge the two data frames, and add a column for the number of unique ln values\n",
        "mg_chapters = pd.merge(words, domains, on='book_chapter')\n",
        "\n",
        "mg_chapters['ln_count'] = mg_chapters['ln'].apply(lambda x: len(x))\n",
        "\n",
        "mg_chapters.head()"
      ]
    },
    {
      "cell_type": "code",
      "execution_count": 17,
      "metadata": {
        "colab": {
          "base_uri": "https://localhost:8080/",
          "height": 528
        },
        "id": "2vNTbEFEwlfq",
        "outputId": "7e43c20e-ffee-4922-f9f7-30c35a5998d8"
      },
      "outputs": [
        {
          "output_type": "execute_result",
          "data": {
            "text/plain": [
              "Text(0.5, 1.0, 'Rate of unique domains per word')"
            ]
          },
          "metadata": {},
          "execution_count": 17
        },
        {
          "output_type": "display_data",
          "data": {
            "text/plain": [
              "<Figure size 640x480 with 1 Axes>"
            ],
            "image/png": "[encoded data removed]"
          },
          "metadata": {}
        }
      ],
      "source": [
        "# Find the chapters with the most unique ln values per word\n",
        "mg_chapters['ln_rate'] = mg_chapters['ln_count'] / mg_chapters['word_count']\n",
        "\n",
        "# Let's get the top and bottom 10 chapters based on ln_rate\n",
        "sorted_chs = mg_chapters.sort_values('ln_rate', ascending=False)\n",
        "top_chapters = sorted_chs.head(10)\n",
        "bottom_chapters = sorted_chs.tail(10)\n",
        "# Merge the top and bottom chapters into a single data frame\n",
        "top_bottom_chapters = pd.concat([top_chapters, bottom_chapters])\n",
        "\n",
        "# Plot the ln_rate ('Semantic Density') for each chapter\n",
        "ax = top_bottom_chapters.sort_values('ln_rate').plot(kind='bar', y='ln_rate', legend=False)\n",
        "ax.set_ylabel('Rate of unique domains')\n",
        "ax.set_xlabel('Chapters: Least semantically dense (left) to most (right)')\n",
        "ax.set_title('Rate of unique domains per word')"
      ]
    },
    {
      "cell_type": "markdown",
      "metadata": {
        "id": "YKOVodekwlfq"
      },
      "source": [
        "Looks like the age-old advice to \"start with John\" (or perhaps Johannine writings) is still good advice."
      ]
    },
    {
      "cell_type": "markdown",
      "metadata": {
        "id": "7FmOcV62wlfq"
      },
      "source": [
        "# Calculate Chapter Similarity Based on Semantic Domains\n",
        "\n",
        "Now let's imagine we have begun a new alignment task. We want to build up a tiny corpus of paired sentences for downstream NLP tasks, and we started with the chapters that had the most bang for our buck. Now we have several chapters complete. (e.g., Revelation 13, 1 John 4-5, John 6, 8)\n",
        "\n",
        "As we move forward with alignment, we could move on to the next chapters that give us the most bang for our buck, but we could also move on to the chapters that are most similar to the chapters we have already aligned, since this would allow us to leverage the work we have already done and get more examples for less work.\n",
        "\n",
        "One way to assess similarity between chapters would be to use the lemmas of the words in the chapter. One problem with this approach, however, is that it does not capture contextually sensitive information. For example, the word \"beast\" in the book of Revelation is very different from the word \"beast\" in Jesus's temptation in Mark 1:13. We would probably not consider those chapters to be particularly similar despite the presence of the same lemma.\n",
        "\n",
        "Let's compare the number of unique lemmas with the number of unique semantic domains in each chapter."
      ]
    },
    {
      "cell_type": "code",
      "execution_count": 18,
      "metadata": {
        "colab": {
          "base_uri": "https://localhost:8080/",
          "height": 368
        },
        "id": "mlo_avwkwlfq",
        "outputId": "4946bf3b-ee66-4258-8064-af4316a01e33"
      },
      "outputs": [
        {
          "output_type": "execute_result",
          "data": {
            "text/plain": [
              "              word_count                                                 ln  \\\n",
              "book_chapter                                                                  \n",
              "1CO 1                496  [93.294a, 33.314, 53.74, 93.387, 93.169a, 89.7...   \n",
              "1CO 10               463  [69.3, 25.1, 91.1, 92.7, 28.13 32.7, 11.23, 90...   \n",
              "1CO 11               531  [41.45, 92.1, 13.3, 64.14, 89.92 92.1, 93.387,...   \n",
              "1CO 12               470  [89.6, nan, 92.24, 12.21, 11.23, 69.3, 25.1, 9...   \n",
              "1CO 13               197  [89.67, 92.24, 33.2, 9.1, 33.70, 89.92, 12.28,...   \n",
              "\n",
              "              ln_count   ln_rate  \n",
              "book_chapter                      \n",
              "1CO 1              192  0.387097  \n",
              "1CO 10             204  0.440605  \n",
              "1CO 11             204  0.384181  \n",
              "1CO 12             173  0.368085  \n",
              "1CO 13              93  0.472081  "
            ],
            "text/html": [
              "\n",
              "  <div id=\"df-43ad3a43-1008-40ed-beae-cf95f37fe33e\">\n",
              "    <div class=\"colab-df-container\">\n",
              "      <div>\n",
              "<style scoped>\n",
              "    .dataframe tbody tr th:only-of-type {\n",
              "        vertical-align: middle;\n",
              "    }\n",
              "\n",
              "    .dataframe tbody tr th {\n",
              "        vertical-align: top;\n",
              "    }\n",
              "\n",
              "    .dataframe thead th {\n",
              "        text-align: right;\n",
              "    }\n",
              "</style>\n",
              "<table border=\"1\" class=\"dataframe\">\n",
              "  <thead>\n",
              "    <tr style=\"text-align: right;\">\n",
              "      <th></th>\n",
              "      <th>word_count</th>\n",
              "      <th>ln</th>\n",
              "      <th>ln_count</th>\n",
              "      <th>ln_rate</th>\n",
              "    </tr>\n",
              "    <tr>\n",
              "      <th>book_chapter</th>\n",
              "      <th></th>\n",
              "      <th></th>\n",
              "      <th></th>\n",
              "      <th></th>\n",
              "    </tr>\n",
              "  </thead>\n",
              "  <tbody>\n",
              "    <tr>\n",
              "      <th>1CO 1</th>\n",
              "      <td>496</td>\n",
              "      <td>[93.294a, 33.314, 53.74, 93.387, 93.169a, 89.7...</td>\n",
              "      <td>192</td>\n",
              "      <td>0.387097</td>\n",
              "    </tr>\n",
              "    <tr>\n",
              "      <th>1CO 10</th>\n",
              "      <td>463</td>\n",
              "      <td>[69.3, 25.1, 91.1, 92.7, 28.13 32.7, 11.23, 90...</td>\n",
              "      <td>204</td>\n",
              "      <td>0.440605</td>\n",
              "    </tr>\n",
              "    <tr>\n",
              "      <th>1CO 11</th>\n",
              "      <td>531</td>\n",
              "      <td>[41.45, 92.1, 13.3, 64.14, 89.92 92.1, 93.387,...</td>\n",
              "      <td>204</td>\n",
              "      <td>0.384181</td>\n",
              "    </tr>\n",
              "    <tr>\n",
              "      <th>1CO 12</th>\n",
              "      <td>470</td>\n",
              "      <td>[89.6, nan, 92.24, 12.21, 11.23, 69.3, 25.1, 9...</td>\n",
              "      <td>173</td>\n",
              "      <td>0.368085</td>\n",
              "    </tr>\n",
              "    <tr>\n",
              "      <th>1CO 13</th>\n",
              "      <td>197</td>\n",
              "      <td>[89.67, 92.24, 33.2, 9.1, 33.70, 89.92, 12.28,...</td>\n",
              "      <td>93</td>\n",
              "      <td>0.472081</td>\n",
              "    </tr>\n",
              "  </tbody>\n",
              "</table>\n",
              "</div>\n",
              "      <button class=\"colab-df-convert\" onclick=\"convertToInteractive('df-43ad3a43-1008-40ed-beae-cf95f37fe33e')\"\n",
              "              title=\"Convert this dataframe to an interactive table.\"\n",
              "              style=\"display:none;\">\n",
              "        \n",
              "  <svg xmlns=\"http://www.w3.org/2000/svg\" height=\"24px\"viewBox=\"0 0 24 24\"\n",
              "       width=\"24px\">\n",
              "    <path d=\"M0 0h24v24H0V0z\" fill=\"none\"/>\n",
              "    <path d=\"M18.56 5.44l.94 2.06.94-2.06 2.06-.94-2.06-.94-.94-2.06-.94 2.06-2.06.94zm-11 1L8.5 8.5l.94-2.06 2.06-.94-2.06-.94L8.5 2.5l-.94 2.06-2.06.94zm10 10l.94 2.06.94-2.06 2.06-.94-2.06-.94-.94-2.06-.94 2.06-2.06.94z\"/><path d=\"M17.41 7.96l-1.37-1.37c-.4-.4-.92-.59-1.43-.59-.52 0-1.04.2-1.43.59L10.3 9.45l-7.72 7.72c-.78.78-.78 2.05 0 2.83L4 21.41c.39.39.9.59 1.41.59.51 0 1.02-.2 1.41-.59l7.78-7.78 2.81-2.81c.8-.78.8-2.07 0-2.86zM5.41 20L4 18.59l7.72-7.72 1.47 1.35L5.41 20z\"/>\n",
              "  </svg>\n",
              "      </button>\n",
              "      \n",
              "  <style>\n",
              "    .colab-df-container {\n",
              "      display:flex;\n",
              "      flex-wrap:wrap;\n",
              "      gap: 12px;\n",
              "    }\n",
              "\n",
              "    .colab-df-convert {\n",
              "      background-color: #E8F0FE;\n",
              "      border: none;\n",
              "      border-radius: 50%;\n",
              "      cursor: pointer;\n",
              "      display: none;\n",
              "      fill: #1967D2;\n",
              "      height: 32px;\n",
              "      padding: 0 0 0 0;\n",
              "      width: 32px;\n",
              "    }\n",
              "\n",
              "    .colab-df-convert:hover {\n",
              "      background-color: #E2EBFA;\n",
              "      box-shadow: 0px 1px 2px rgba(60, 64, 67, 0.3), 0px 1px 3px 1px rgba(60, 64, 67, 0.15);\n",
              "      fill: #174EA6;\n",
              "    }\n",
              "\n",
              "    [theme=dark] .colab-df-convert {\n",
              "      background-color: #3B4455;\n",
              "      fill: #D2E3FC;\n",
              "    }\n",
              "\n",
              "    [theme=dark] .colab-df-convert:hover {\n",
              "      background-color: #434B5C;\n",
              "      box-shadow: 0px 1px 3px 1px rgba(0, 0, 0, 0.15);\n",
              "      filter: drop-shadow(0px 1px 2px rgba(0, 0, 0, 0.3));\n",
              "      fill: #FFFFFF;\n",
              "    }\n",
              "  </style>\n",
              "\n",
              "      <script>\n",
              "        const buttonEl =\n",
              "          document.querySelector('#df-43ad3a43-1008-40ed-beae-cf95f37fe33e button.colab-df-convert');\n",
              "        buttonEl.style.display =\n",
              "          google.colab.kernel.accessAllowed ? 'block' : 'none';\n",
              "\n",
              "        async function convertToInteractive(key) {\n",
              "          const element = document.querySelector('#df-43ad3a43-1008-40ed-beae-cf95f37fe33e');\n",
              "          const dataTable =\n",
              "            await google.colab.kernel.invokeFunction('convertToInteractive',\n",
              "                                                     [key], {});\n",
              "          if (!dataTable) return;\n",
              "\n",
              "          const docLinkHtml = 'Like what you see? Visit the ' +\n",
              "            '<a target=\"_blank\" href=https://colab.research.google.com/notebooks/data_table.ipynb>data table notebook</a>'\n",
              "            + ' to learn more about interactive tables.';\n",
              "          element.innerHTML = '';\n",
              "          dataTable['output_type'] = 'display_data';\n",
              "          await google.colab.output.renderOutput(dataTable, element);\n",
              "          const docLink = document.createElement('div');\n",
              "          docLink.innerHTML = docLinkHtml;\n",
              "          element.appendChild(docLink);\n",
              "        }\n",
              "      </script>\n",
              "    </div>\n",
              "  </div>\n",
              "  "
            ]
          },
          "metadata": {},
          "execution_count": 18
        }
      ],
      "source": [
        "mg_chapters.head()"
      ]
    },
    {
      "cell_type": "code",
      "execution_count": 19,
      "metadata": {
        "id": "nFnx1ZmWwlfr"
      },
      "outputs": [],
      "source": [
        "# Find the number of unique lemmas in each chapter by adding a new column \n",
        "# based on the unique lemmas in the original mg data frame\n",
        "mg_chapters['lemma_count'] = mg.groupby('book_chapter')['lemma'].unique().apply(lambda x: len(x))\n",
        "mg_chapters['lemmas'] = mg.groupby('book_chapter')['lemma'].unique()\n",
        "mg_chapters['lemma_rate'] = mg_chapters['lemma_count'] / mg_chapters['word_count']"
      ]
    },
    {
      "cell_type": "markdown",
      "metadata": {
        "id": "H0GMhM6Wwlfr"
      },
      "source": [
        "Now let's check if unique lemmas correlate with unique semantic domains."
      ]
    },
    {
      "cell_type": "code",
      "execution_count": 20,
      "metadata": {
        "colab": {
          "base_uri": "https://localhost:8080/",
          "height": 508
        },
        "id": "6wG-MtYZwlfr",
        "outputId": "e10ff9b4-4e1f-4094-b882-e14a09e8888e"
      },
      "outputs": [
        {
          "output_type": "execute_result",
          "data": {
            "text/plain": [
              "Text(0.5, 1.0, 'Correlation between Unique Lemma Rate and Unique Domain Rate')"
            ]
          },
          "metadata": {},
          "execution_count": 20
        },
        {
          "output_type": "display_data",
          "data": {
            "text/plain": [
              "<Figure size 640x480 with 1 Axes>"
            ],
            "image/png": "[encoded data removed]"
          },
          "metadata": {}
        }
      ],
      "source": [
        "# Check the correlation between lemma_rate and ln_rate, and plot the results\n",
        "ax = mg_chapters.plot(kind='scatter', x='lemma_rate', y='ln_rate')\n",
        "ax.set_xlabel('Unique Lemma Rate')\n",
        "ax.set_ylabel('Unique Domain Rate')\n",
        "ax.set_title('Correlation between Unique Lemma Rate and Unique Domain Rate')\n"
      ]
    },
    {
      "cell_type": "markdown",
      "metadata": {
        "id": "7WcJftBvwlfr"
      },
      "source": [
        "Unique lemmas and unique semantic domains are definitely correlated. But we can also see that there is a significant amount of variation here."
      ]
    },
    {
      "cell_type": "code",
      "execution_count": 21,
      "metadata": {
        "colab": {
          "base_uri": "https://localhost:8080/",
          "height": 805
        },
        "id": "4GpCQAi-wlfr",
        "outputId": "a17d0564-6830-4c14-fdf4-07ea4d06c673"
      },
      "outputs": [
        {
          "output_type": "execute_result",
          "data": {
            "text/plain": [
              "              word_count                                                 ln  \\\n",
              "book_chapter                                                                  \n",
              "JHN 6               1238  [67.48, 92.29, 15.37, 92.24, 93.169a, 83.43, 1...   \n",
              "JHN 17               498  [92.29, 33.70, 93.169a, 89.87, 24.34, 92.24, 8...   \n",
              "JHN 8               1087  [93.169a, 89.124, 15.34, 84.16, 92.24, 1.46, 3...   \n",
              "1JN 4                449  [25.45, nan, 59.23, 12.18 12.33, 31.35, 89.125...   \n",
              "JHN 9                691  [91.1, 15.15, 24.1, 9.24, 24.38, 67.131, 23.46...   \n",
              "\n",
              "              ln_count   ln_rate  lemma_count  \\\n",
              "book_chapter                                    \n",
              "JHN 6              296  0.239095          240   \n",
              "JHN 17             139  0.279116          101   \n",
              "JHN 8              262  0.241030          222   \n",
              "1JN 4              108  0.240535           94   \n",
              "JHN 9              186  0.269175          147   \n",
              "\n",
              "                                                         lemmas  lemma_rate  \n",
              "book_chapter                                                                 \n",
              "JHN 6         [μετά, οὗτος, ἀπέρχομαι, ὁ, Ἰησοῦς, πέραν, θάλ...    0.193861  \n",
              "JHN 17        [οὗτος, λαλέω, Ἰησοῦς, καί, ἐπαίρω, ὁ, ὀφθαλμό...    0.202811  \n",
              "JHN 8         [Ἰησοῦς, δέ, πορεύομαι, εἰς, ὁ, ὄρος, ἐλαία, ὄ...    0.204232  \n",
              "1JN 4         [ἀγαπητός, μή, πᾶς, πνεῦμα, πιστεύω, ἀλλά, δοκ...    0.209354  \n",
              "JHN 9         [καί, παράγω, ὁράω, ἄνθρωπος, τυφλός, ἐκ, γενε...    0.212735  "
            ],
            "text/html": [
              "\n",
              "  <div id=\"df-395fe652-781d-4077-9875-0977a196f004\">\n",
              "    <div class=\"colab-df-container\">\n",
              "      <div>\n",
              "<style scoped>\n",
              "    .dataframe tbody tr th:only-of-type {\n",
              "        vertical-align: middle;\n",
              "    }\n",
              "\n",
              "    .dataframe tbody tr th {\n",
              "        vertical-align: top;\n",
              "    }\n",
              "\n",
              "    .dataframe thead th {\n",
              "        text-align: right;\n",
              "    }\n",
              "</style>\n",
              "<table border=\"1\" class=\"dataframe\">\n",
              "  <thead>\n",
              "    <tr style=\"text-align: right;\">\n",
              "      <th></th>\n",
              "      <th>word_count</th>\n",
              "      <th>ln</th>\n",
              "      <th>ln_count</th>\n",
              "      <th>ln_rate</th>\n",
              "      <th>lemma_count</th>\n",
              "      <th>lemmas</th>\n",
              "      <th>lemma_rate</th>\n",
              "    </tr>\n",
              "    <tr>\n",
              "      <th>book_chapter</th>\n",
              "      <th></th>\n",
              "      <th></th>\n",
              "      <th></th>\n",
              "      <th></th>\n",
              "      <th></th>\n",
              "      <th></th>\n",
              "      <th></th>\n",
              "    </tr>\n",
              "  </thead>\n",
              "  <tbody>\n",
              "    <tr>\n",
              "      <th>JHN 6</th>\n",
              "      <td>1238</td>\n",
              "      <td>[67.48, 92.29, 15.37, 92.24, 93.169a, 83.43, 1...</td>\n",
              "      <td>296</td>\n",
              "      <td>0.239095</td>\n",
              "      <td>240</td>\n",
              "      <td>[μετά, οὗτος, ἀπέρχομαι, ὁ, Ἰησοῦς, πέραν, θάλ...</td>\n",
              "      <td>0.193861</td>\n",
              "    </tr>\n",
              "    <tr>\n",
              "      <th>JHN 17</th>\n",
              "      <td>498</td>\n",
              "      <td>[92.29, 33.70, 93.169a, 89.87, 24.34, 92.24, 8...</td>\n",
              "      <td>139</td>\n",
              "      <td>0.279116</td>\n",
              "      <td>101</td>\n",
              "      <td>[οὗτος, λαλέω, Ἰησοῦς, καί, ἐπαίρω, ὁ, ὀφθαλμό...</td>\n",
              "      <td>0.202811</td>\n",
              "    </tr>\n",
              "    <tr>\n",
              "      <th>JHN 8</th>\n",
              "      <td>1087</td>\n",
              "      <td>[93.169a, 89.124, 15.34, 84.16, 92.24, 1.46, 3...</td>\n",
              "      <td>262</td>\n",
              "      <td>0.241030</td>\n",
              "      <td>222</td>\n",
              "      <td>[Ἰησοῦς, δέ, πορεύομαι, εἰς, ὁ, ὄρος, ἐλαία, ὄ...</td>\n",
              "      <td>0.204232</td>\n",
              "    </tr>\n",
              "    <tr>\n",
              "      <th>1JN 4</th>\n",
              "      <td>449</td>\n",
              "      <td>[25.45, nan, 59.23, 12.18 12.33, 31.35, 89.125...</td>\n",
              "      <td>108</td>\n",
              "      <td>0.240535</td>\n",
              "      <td>94</td>\n",
              "      <td>[ἀγαπητός, μή, πᾶς, πνεῦμα, πιστεύω, ἀλλά, δοκ...</td>\n",
              "      <td>0.209354</td>\n",
              "    </tr>\n",
              "    <tr>\n",
              "      <th>JHN 9</th>\n",
              "      <td>691</td>\n",
              "      <td>[91.1, 15.15, 24.1, 9.24, 24.38, 67.131, 23.46...</td>\n",
              "      <td>186</td>\n",
              "      <td>0.269175</td>\n",
              "      <td>147</td>\n",
              "      <td>[καί, παράγω, ὁράω, ἄνθρωπος, τυφλός, ἐκ, γενε...</td>\n",
              "      <td>0.212735</td>\n",
              "    </tr>\n",
              "  </tbody>\n",
              "</table>\n",
              "</div>\n",
              "      <button class=\"colab-df-convert\" onclick=\"convertToInteractive('df-395fe652-781d-4077-9875-0977a196f004')\"\n",
              "              title=\"Convert this dataframe to an interactive table.\"\n",
              "              style=\"display:none;\">\n",
              "        \n",
              "  <svg xmlns=\"http://www.w3.org/2000/svg\" height=\"24px\"viewBox=\"0 0 24 24\"\n",
              "       width=\"24px\">\n",
              "    <path d=\"M0 0h24v24H0V0z\" fill=\"none\"/>\n",
              "    <path d=\"M18.56 5.44l.94 2.06.94-2.06 2.06-.94-2.06-.94-.94-2.06-.94 2.06-2.06.94zm-11 1L8.5 8.5l.94-2.06 2.06-.94-2.06-.94L8.5 2.5l-.94 2.06-2.06.94zm10 10l.94 2.06.94-2.06 2.06-.94-2.06-.94-.94-2.06-.94 2.06-2.06.94z\"/><path d=\"M17.41 7.96l-1.37-1.37c-.4-.4-.92-.59-1.43-.59-.52 0-1.04.2-1.43.59L10.3 9.45l-7.72 7.72c-.78.78-.78 2.05 0 2.83L4 21.41c.39.39.9.59 1.41.59.51 0 1.02-.2 1.41-.59l7.78-7.78 2.81-2.81c.8-.78.8-2.07 0-2.86zM5.41 20L4 18.59l7.72-7.72 1.47 1.35L5.41 20z\"/>\n",
              "  </svg>\n",
              "      </button>\n",
              "      \n",
              "  <style>\n",
              "    .colab-df-container {\n",
              "      display:flex;\n",
              "      flex-wrap:wrap;\n",
              "      gap: 12px;\n",
              "    }\n",
              "\n",
              "    .colab-df-convert {\n",
              "      background-color: #E8F0FE;\n",
              "      border: none;\n",
              "      border-radius: 50%;\n",
              "      cursor: pointer;\n",
              "      display: none;\n",
              "      fill: #1967D2;\n",
              "      height: 32px;\n",
              "      padding: 0 0 0 0;\n",
              "      width: 32px;\n",
              "    }\n",
              "\n",
              "    .colab-df-convert:hover {\n",
              "      background-color: #E2EBFA;\n",
              "      box-shadow: 0px 1px 2px rgba(60, 64, 67, 0.3), 0px 1px 3px 1px rgba(60, 64, 67, 0.15);\n",
              "      fill: #174EA6;\n",
              "    }\n",
              "\n",
              "    [theme=dark] .colab-df-convert {\n",
              "      background-color: #3B4455;\n",
              "      fill: #D2E3FC;\n",
              "    }\n",
              "\n",
              "    [theme=dark] .colab-df-convert:hover {\n",
              "      background-color: #434B5C;\n",
              "      box-shadow: 0px 1px 3px 1px rgba(0, 0, 0, 0.15);\n",
              "      filter: drop-shadow(0px 1px 2px rgba(0, 0, 0, 0.3));\n",
              "      fill: #FFFFFF;\n",
              "    }\n",
              "  </style>\n",
              "\n",
              "      <script>\n",
              "        const buttonEl =\n",
              "          document.querySelector('#df-395fe652-781d-4077-9875-0977a196f004 button.colab-df-convert');\n",
              "        buttonEl.style.display =\n",
              "          google.colab.kernel.accessAllowed ? 'block' : 'none';\n",
              "\n",
              "        async function convertToInteractive(key) {\n",
              "          const element = document.querySelector('#df-395fe652-781d-4077-9875-0977a196f004');\n",
              "          const dataTable =\n",
              "            await google.colab.kernel.invokeFunction('convertToInteractive',\n",
              "                                                     [key], {});\n",
              "          if (!dataTable) return;\n",
              "\n",
              "          const docLinkHtml = 'Like what you see? Visit the ' +\n",
              "            '<a target=\"_blank\" href=https://colab.research.google.com/notebooks/data_table.ipynb>data table notebook</a>'\n",
              "            + ' to learn more about interactive tables.';\n",
              "          element.innerHTML = '';\n",
              "          dataTable['output_type'] = 'display_data';\n",
              "          await google.colab.output.renderOutput(dataTable, element);\n",
              "          const docLink = document.createElement('div');\n",
              "          docLink.innerHTML = docLinkHtml;\n",
              "          element.appendChild(docLink);\n",
              "        }\n",
              "      </script>\n",
              "    </div>\n",
              "  </div>\n",
              "  "
            ]
          },
          "metadata": {},
          "execution_count": 21
        }
      ],
      "source": [
        "# What are the bottom 5 chapters with the lowest lemma_rate?\n",
        "mg_chapters.sort_values('lemma_rate', ascending=True).head()"
      ]
    },
    {
      "cell_type": "markdown",
      "metadata": {
        "id": "b77P9KQKwlfr"
      },
      "source": [
        "Sometimes, when you are comparing various values such as semantic domains, it can be helpful to create a \"one-hot encoding\" of that data. \n",
        "\n",
        "What this means is that we will create a new column for each unique value in the data set, and then populate that column with a 1 if the value is present in the row, and a 0 if it is not.\n",
        "\n",
        "Now let's one-hot encode the semantic domains by chapter, and then do a simple cosine similarity between the chapters based on semantic domains. This next block can take around 30 seconds on Colab to run. "
      ]
    },
    {
      "cell_type": "code",
      "execution_count": 23,
      "metadata": {
        "id": "zHD-e1e8wlfr"
      },
      "outputs": [],
      "source": [
        "# Get all the unique domains in the MACULA Greek data set\n",
        "all_unique_domains = mg['ln'].unique()\n",
        "\n",
        "# Create a one-hot encoding for each chapter's domains\n",
        "mg_chapters['one_hot_domains'] = mg_chapters['ln'].apply(lambda x: [1 if domain in x else 0 for domain in all_unique_domains])"
      ]
    },
    {
      "cell_type": "markdown",
      "metadata": {
        "id": "h2ZW7fNVwlfs"
      },
      "source": [
        "## Cluster the chapters based on semantic domain similarity."
      ]
    },
    {
      "cell_type": "code",
      "execution_count": 24,
      "metadata": {
        "colab": {
          "base_uri": "https://localhost:8080/"
        },
        "id": "bEDhoO47wlfs",
        "outputId": "8b37a327-c2c0-44b7-da4e-e12c73b9ac8f"
      },
      "outputs": [
        {
          "output_type": "stream",
          "name": "stdout",
          "text": [
            "Looking in indexes: https://pypi.org/simple, https://us-python.pkg.dev/colab-wheels/public/simple/\n",
            "Collecting sklearn\n",
            "  Downloading sklearn-0.0.post1.tar.gz (3.6 kB)\n",
            "  Preparing metadata (setup.py) ... \u001b[?25l\u001b[?25hdone\n",
            "Building wheels for collected packages: sklearn\n",
            "  Building wheel for sklearn (setup.py) ... \u001b[?25l\u001b[?25hdone\n",
            "  Created wheel for sklearn: filename=sklearn-0.0.post1-py3-none-any.whl size=2955 sha256=e97c84414a6fbaacc4f6a8a211da02d4a0789ab2c04969c19f0a6af67e61f9e8\n",
            "  Stored in directory: /root/.cache/pip/wheels/f8/e0/3d/9d0c2020c44a519b9f02ab4fa6d2a4a996c98d79ab2f569fa1\n",
            "Successfully built sklearn\n",
            "Installing collected packages: sklearn\n",
            "Successfully installed sklearn-0.0.post1\n"
          ]
        }
      ],
      "source": [
        "# Identify every chapter's similarity to every other chapter by comparing\n",
        "# the one-hot encodings of their domains using the cosine similarity metric\n",
        "\n",
        "!pip install sklearn\n",
        "from sklearn.metrics.pairwise import cosine_similarity"
      ]
    },
    {
      "cell_type": "code",
      "execution_count": 25,
      "metadata": {
        "colab": {
          "base_uri": "https://localhost:8080/",
          "height": 349
        },
        "id": "XmQUn46Uwlfs",
        "outputId": "4626c662-0fb5-4a74-8193-4c6512e42418"
      },
      "outputs": [
        {
          "output_type": "stream",
          "name": "stdout",
          "text": [
            "0.013565948792607994 1.0000000000000036\n"
          ]
        },
        {
          "output_type": "execute_result",
          "data": {
            "text/plain": [
              "book_chapter       1CO 1      1CO 10      1CO 11      1CO 12      1CO 13  \\\n",
              "book_chapter                                                               \n",
              "1CO 1         100.000000   28.485122   27.455454   26.030841   12.390308   \n",
              "1CO 10         28.485122  100.000000   29.586648   25.750995   14.944468   \n",
              "1CO 11         27.455454   29.586648  100.000000   26.836045   15.686274   \n",
              "1CO 12         26.030841   25.750995   26.836045  100.000000   16.354249   \n",
              "1CO 13         12.390308   14.944468   15.686274   16.354249  100.000000   \n",
              "\n",
              "book_chapter     1CO 14     1CO 15     1CO 16      1CO 2      1CO 3  ...  \\\n",
              "book_chapter                                                         ...   \n",
              "1CO 1         22.045578  27.037540  24.061111  29.953573  30.521803  ...   \n",
              "1CO 10        27.968889  24.031820  21.054837  24.389119  25.399683  ...   \n",
              "1CO 11        28.442182  31.352502  26.101606  27.692244  27.184679  ...   \n",
              "1CO 12        28.961251  26.226612  23.601655  26.614777  26.419843  ...   \n",
              "1CO 13        21.825270  16.535538  16.116947  21.195025  20.720563  ...   \n",
              "\n",
              "book_chapter      ROM 3      ROM 4      ROM 5      ROM 6      ROM 7  \\\n",
              "book_chapter                                                          \n",
              "1CO 1         23.299472  22.794547  22.991142  21.436854  23.075601   \n",
              "1CO 10        25.160617  24.537134  21.669102  25.054920  27.085340   \n",
              "1CO 11        23.079372  23.920172  25.214387  24.440265  25.306553   \n",
              "1CO 12        25.191887  22.754031  24.301715  21.328323  25.034866   \n",
              "1CO 13        16.401200  16.037436  15.301353  16.885373  17.120675   \n",
              "\n",
              "book_chapter      ROM 8      ROM 9      TIT 1      TIT 2      TIT 3  \n",
              "book_chapter                                                         \n",
              "1CO 1         24.167412  21.210532  14.795619  11.100846  15.161979  \n",
              "1CO 10        22.448025  23.795705  11.986584  10.054159  11.580941  \n",
              "1CO 11        26.259750  23.795705  14.891331  12.071114  10.963980  \n",
              "1CO 12        22.435501  24.450914  15.034252  13.232679  17.391968  \n",
              "1CO 13        16.318732  14.550059   7.254383   9.610296  11.455150  \n",
              "\n",
              "[5 rows x 260 columns]"
            ],
            "text/html": [
              "\n",
              "  <div id=\"df-f26358cc-5041-49ec-b913-e5234363104a\">\n",
              "    <div class=\"colab-df-container\">\n",
              "      <div>\n",
              "<style scoped>\n",
              "    .dataframe tbody tr th:only-of-type {\n",
              "        vertical-align: middle;\n",
              "    }\n",
              "\n",
              "    .dataframe tbody tr th {\n",
              "        vertical-align: top;\n",
              "    }\n",
              "\n",
              "    .dataframe thead th {\n",
              "        text-align: right;\n",
              "    }\n",
              "</style>\n",
              "<table border=\"1\" class=\"dataframe\">\n",
              "  <thead>\n",
              "    <tr style=\"text-align: right;\">\n",
              "      <th>book_chapter</th>\n",
              "      <th>1CO 1</th>\n",
              "      <th>1CO 10</th>\n",
              "      <th>1CO 11</th>\n",
              "      <th>1CO 12</th>\n",
              "      <th>1CO 13</th>\n",
              "      <th>1CO 14</th>\n",
              "      <th>1CO 15</th>\n",
              "      <th>1CO 16</th>\n",
              "      <th>1CO 2</th>\n",
              "      <th>1CO 3</th>\n",
              "      <th>...</th>\n",
              "      <th>ROM 3</th>\n",
              "      <th>ROM 4</th>\n",
              "      <th>ROM 5</th>\n",
              "      <th>ROM 6</th>\n",
              "      <th>ROM 7</th>\n",
              "      <th>ROM 8</th>\n",
              "      <th>ROM 9</th>\n",
              "      <th>TIT 1</th>\n",
              "      <th>TIT 2</th>\n",
              "      <th>TIT 3</th>\n",
              "    </tr>\n",
              "    <tr>\n",
              "      <th>book_chapter</th>\n",
              "      <th></th>\n",
              "      <th></th>\n",
              "      <th></th>\n",
              "      <th></th>\n",
              "      <th></th>\n",
              "      <th></th>\n",
              "      <th></th>\n",
              "      <th></th>\n",
              "      <th></th>\n",
              "      <th></th>\n",
              "      <th></th>\n",
              "      <th></th>\n",
              "      <th></th>\n",
              "      <th></th>\n",
              "      <th></th>\n",
              "      <th></th>\n",
              "      <th></th>\n",
              "      <th></th>\n",
              "      <th></th>\n",
              "      <th></th>\n",
              "      <th></th>\n",
              "    </tr>\n",
              "  </thead>\n",
              "  <tbody>\n",
              "    <tr>\n",
              "      <th>1CO 1</th>\n",
              "      <td>100.000000</td>\n",
              "      <td>28.485122</td>\n",
              "      <td>27.455454</td>\n",
              "      <td>26.030841</td>\n",
              "      <td>12.390308</td>\n",
              "      <td>22.045578</td>\n",
              "      <td>27.037540</td>\n",
              "      <td>24.061111</td>\n",
              "      <td>29.953573</td>\n",
              "      <td>30.521803</td>\n",
              "      <td>...</td>\n",
              "      <td>23.299472</td>\n",
              "      <td>22.794547</td>\n",
              "      <td>22.991142</td>\n",
              "      <td>21.436854</td>\n",
              "      <td>23.075601</td>\n",
              "      <td>24.167412</td>\n",
              "      <td>21.210532</td>\n",
              "      <td>14.795619</td>\n",
              "      <td>11.100846</td>\n",
              "      <td>15.161979</td>\n",
              "    </tr>\n",
              "    <tr>\n",
              "      <th>1CO 10</th>\n",
              "      <td>28.485122</td>\n",
              "      <td>100.000000</td>\n",
              "      <td>29.586648</td>\n",
              "      <td>25.750995</td>\n",
              "      <td>14.944468</td>\n",
              "      <td>27.968889</td>\n",
              "      <td>24.031820</td>\n",
              "      <td>21.054837</td>\n",
              "      <td>24.389119</td>\n",
              "      <td>25.399683</td>\n",
              "      <td>...</td>\n",
              "      <td>25.160617</td>\n",
              "      <td>24.537134</td>\n",
              "      <td>21.669102</td>\n",
              "      <td>25.054920</td>\n",
              "      <td>27.085340</td>\n",
              "      <td>22.448025</td>\n",
              "      <td>23.795705</td>\n",
              "      <td>11.986584</td>\n",
              "      <td>10.054159</td>\n",
              "      <td>11.580941</td>\n",
              "    </tr>\n",
              "    <tr>\n",
              "      <th>1CO 11</th>\n",
              "      <td>27.455454</td>\n",
              "      <td>29.586648</td>\n",
              "      <td>100.000000</td>\n",
              "      <td>26.836045</td>\n",
              "      <td>15.686274</td>\n",
              "      <td>28.442182</td>\n",
              "      <td>31.352502</td>\n",
              "      <td>26.101606</td>\n",
              "      <td>27.692244</td>\n",
              "      <td>27.184679</td>\n",
              "      <td>...</td>\n",
              "      <td>23.079372</td>\n",
              "      <td>23.920172</td>\n",
              "      <td>25.214387</td>\n",
              "      <td>24.440265</td>\n",
              "      <td>25.306553</td>\n",
              "      <td>26.259750</td>\n",
              "      <td>23.795705</td>\n",
              "      <td>14.891331</td>\n",
              "      <td>12.071114</td>\n",
              "      <td>10.963980</td>\n",
              "    </tr>\n",
              "    <tr>\n",
              "      <th>1CO 12</th>\n",
              "      <td>26.030841</td>\n",
              "      <td>25.750995</td>\n",
              "      <td>26.836045</td>\n",
              "      <td>100.000000</td>\n",
              "      <td>16.354249</td>\n",
              "      <td>28.961251</td>\n",
              "      <td>26.226612</td>\n",
              "      <td>23.601655</td>\n",
              "      <td>26.614777</td>\n",
              "      <td>26.419843</td>\n",
              "      <td>...</td>\n",
              "      <td>25.191887</td>\n",
              "      <td>22.754031</td>\n",
              "      <td>24.301715</td>\n",
              "      <td>21.328323</td>\n",
              "      <td>25.034866</td>\n",
              "      <td>22.435501</td>\n",
              "      <td>24.450914</td>\n",
              "      <td>15.034252</td>\n",
              "      <td>13.232679</td>\n",
              "      <td>17.391968</td>\n",
              "    </tr>\n",
              "    <tr>\n",
              "      <th>1CO 13</th>\n",
              "      <td>12.390308</td>\n",
              "      <td>14.944468</td>\n",
              "      <td>15.686274</td>\n",
              "      <td>16.354249</td>\n",
              "      <td>100.000000</td>\n",
              "      <td>21.825270</td>\n",
              "      <td>16.535538</td>\n",
              "      <td>16.116947</td>\n",
              "      <td>21.195025</td>\n",
              "      <td>20.720563</td>\n",
              "      <td>...</td>\n",
              "      <td>16.401200</td>\n",
              "      <td>16.037436</td>\n",
              "      <td>15.301353</td>\n",
              "      <td>16.885373</td>\n",
              "      <td>17.120675</td>\n",
              "      <td>16.318732</td>\n",
              "      <td>14.550059</td>\n",
              "      <td>7.254383</td>\n",
              "      <td>9.610296</td>\n",
              "      <td>11.455150</td>\n",
              "    </tr>\n",
              "  </tbody>\n",
              "</table>\n",
              "<p>5 rows × 260 columns</p>\n",
              "</div>\n",
              "      <button class=\"colab-df-convert\" onclick=\"convertToInteractive('df-f26358cc-5041-49ec-b913-e5234363104a')\"\n",
              "              title=\"Convert this dataframe to an interactive table.\"\n",
              "              style=\"display:none;\">\n",
              "        \n",
              "  <svg xmlns=\"http://www.w3.org/2000/svg\" height=\"24px\"viewBox=\"0 0 24 24\"\n",
              "       width=\"24px\">\n",
              "    <path d=\"M0 0h24v24H0V0z\" fill=\"none\"/>\n",
              "    <path d=\"M18.56 5.44l.94 2.06.94-2.06 2.06-.94-2.06-.94-.94-2.06-.94 2.06-2.06.94zm-11 1L8.5 8.5l.94-2.06 2.06-.94-2.06-.94L8.5 2.5l-.94 2.06-2.06.94zm10 10l.94 2.06.94-2.06 2.06-.94-2.06-.94-.94-2.06-.94 2.06-2.06.94z\"/><path d=\"M17.41 7.96l-1.37-1.37c-.4-.4-.92-.59-1.43-.59-.52 0-1.04.2-1.43.59L10.3 9.45l-7.72 7.72c-.78.78-.78 2.05 0 2.83L4 21.41c.39.39.9.59 1.41.59.51 0 1.02-.2 1.41-.59l7.78-7.78 2.81-2.81c.8-.78.8-2.07 0-2.86zM5.41 20L4 18.59l7.72-7.72 1.47 1.35L5.41 20z\"/>\n",
              "  </svg>\n",
              "      </button>\n",
              "      \n",
              "  <style>\n",
              "    .colab-df-container {\n",
              "      display:flex;\n",
              "      flex-wrap:wrap;\n",
              "      gap: 12px;\n",
              "    }\n",
              "\n",
              "    .colab-df-convert {\n",
              "      background-color: #E8F0FE;\n",
              "      border: none;\n",
              "      border-radius: 50%;\n",
              "      cursor: pointer;\n",
              "      display: none;\n",
              "      fill: #1967D2;\n",
              "      height: 32px;\n",
              "      padding: 0 0 0 0;\n",
              "      width: 32px;\n",
              "    }\n",
              "\n",
              "    .colab-df-convert:hover {\n",
              "      background-color: #E2EBFA;\n",
              "      box-shadow: 0px 1px 2px rgba(60, 64, 67, 0.3), 0px 1px 3px 1px rgba(60, 64, 67, 0.15);\n",
              "      fill: #174EA6;\n",
              "    }\n",
              "\n",
              "    [theme=dark] .colab-df-convert {\n",
              "      background-color: #3B4455;\n",
              "      fill: #D2E3FC;\n",
              "    }\n",
              "\n",
              "    [theme=dark] .colab-df-convert:hover {\n",
              "      background-color: #434B5C;\n",
              "      box-shadow: 0px 1px 3px 1px rgba(0, 0, 0, 0.15);\n",
              "      filter: drop-shadow(0px 1px 2px rgba(0, 0, 0, 0.3));\n",
              "      fill: #FFFFFF;\n",
              "    }\n",
              "  </style>\n",
              "\n",
              "      <script>\n",
              "        const buttonEl =\n",
              "          document.querySelector('#df-f26358cc-5041-49ec-b913-e5234363104a button.colab-df-convert');\n",
              "        buttonEl.style.display =\n",
              "          google.colab.kernel.accessAllowed ? 'block' : 'none';\n",
              "\n",
              "        async function convertToInteractive(key) {\n",
              "          const element = document.querySelector('#df-f26358cc-5041-49ec-b913-e5234363104a');\n",
              "          const dataTable =\n",
              "            await google.colab.kernel.invokeFunction('convertToInteractive',\n",
              "                                                     [key], {});\n",
              "          if (!dataTable) return;\n",
              "\n",
              "          const docLinkHtml = 'Like what you see? Visit the ' +\n",
              "            '<a target=\"_blank\" href=https://colab.research.google.com/notebooks/data_table.ipynb>data table notebook</a>'\n",
              "            + ' to learn more about interactive tables.';\n",
              "          element.innerHTML = '';\n",
              "          dataTable['output_type'] = 'display_data';\n",
              "          await google.colab.output.renderOutput(dataTable, element);\n",
              "          const docLink = document.createElement('div');\n",
              "          docLink.innerHTML = docLinkHtml;\n",
              "          element.appendChild(docLink);\n",
              "        }\n",
              "      </script>\n",
              "    </div>\n",
              "  </div>\n",
              "  "
            ]
          },
          "metadata": {},
          "execution_count": 25
        }
      ],
      "source": [
        "# Create a new data frame with the cosine similarity values\n",
        "chapter_sims = pd.DataFrame(cosine_similarity(mg_chapters['one_hot_domains'].tolist()), index=mg_chapters.index, columns=mg_chapters.index)\n",
        "\n",
        "# Let's also normalize these similarities on a 0–100 scale:\n",
        "\n",
        "# Find the minimum and maximum values\n",
        "min_val = chapter_sims.min().min() # the minimum value of all the minimum column values\n",
        "max_val = chapter_sims.max().max() # same for maximum\n",
        "print(min_val, max_val)\n",
        "\n",
        "# Normalize the data frame\n",
        "chapter_sims_norm = chapter_sims.applymap(lambda x: ((x - min_val) / (max_val - min_val)) * 100)\n",
        "\n",
        "chapter_sims_norm.head()\n"
      ]
    },
    {
      "cell_type": "markdown",
      "metadata": {
        "id": "MkrA9Gho7cVO"
      },
      "source": [
        "Now, let's return to our imagined scenario, where we have Revelation 13, 1 John 4-5, and John 6 and 8 aligned, and we want to move on to the next-most-similar chapters."
      ]
    },
    {
      "cell_type": "code",
      "execution_count": 26,
      "metadata": {
        "colab": {
          "base_uri": "https://localhost:8080/"
        },
        "id": "aN6Pg5MPBtqy",
        "outputId": "4e5f1b15-36a5-4591-960d-b89d966e0f1d"
      },
      "outputs": [
        {
          "output_type": "stream",
          "name": "stdout",
          "text": [
            "Looking in indexes: https://pypi.org/simple, https://us-python.pkg.dev/colab-wheels/public/simple/\n",
            "Requirement already satisfied: plotly in /usr/local/lib/python3.9/dist-packages (5.13.1)\n",
            "Requirement already satisfied: tenacity>=6.2.0 in /usr/local/lib/python3.9/dist-packages (from plotly) (8.2.2)\n",
            "Looking in indexes: https://pypi.org/simple, https://us-python.pkg.dev/colab-wheels/public/simple/\n",
            "Requirement already satisfied: networkx in /usr/local/lib/python3.9/dist-packages (3.1)\n"
          ]
        }
      ],
      "source": [
        "!pip install plotly\n",
        "!pip install networkx\n",
        "import plotly.graph_objects as go\n",
        "import networkx as nx"
      ]
    },
    {
      "cell_type": "code",
      "execution_count": 27,
      "metadata": {
        "id": "rsWAGodVDfuA"
      },
      "outputs": [],
      "source": [
        "# Let's set the threshold for what counts as \"similar\" chapters in semantic domains\n",
        "threshold = 0 # percentage value\n",
        "\n",
        "# Instantiate a graph\n",
        "graph = nx.Graph()"
      ]
    },
    {
      "cell_type": "markdown",
      "metadata": {
        "id": "hSI694IVQQvc"
      },
      "source": [
        "Let's decide which chapter we want to query"
      ]
    },
    {
      "cell_type": "code",
      "execution_count": 28,
      "metadata": {
        "id": "NMVgXfJsQQvc"
      },
      "outputs": [],
      "source": [
        "ch_query = 'REV 13'"
      ]
    },
    {
      "cell_type": "code",
      "execution_count": 29,
      "metadata": {
        "id": "_YqnIvA1F-Lz"
      },
      "outputs": [],
      "source": [
        "### Populate graph nodes\n",
        "\n",
        "# Add nodes for each book in the query\n",
        "for ch in chapter_sims_norm.index:\n",
        "    if ch in ch_query:\n",
        "        graph.add_node(ch)\n",
        "\n",
        "### Populate graph edges\n",
        "\n",
        "n = 3  # number of top-n values to keep\n",
        "\n",
        "# Create a dictionary to store the top-n values for each node\n",
        "top_n = {ch: [] for ch in chapter_sims_norm.index}\n",
        "\n",
        "# Loop through the matrix and keep track of the top-n values for each node\n",
        "for i, ch1 in enumerate(chapter_sims_norm.index):\n",
        "    for j, ch2 in enumerate(chapter_sims_norm.columns):\n",
        "        if not i == j:\n",
        "            similarity = chapter_sims_norm.loc[ch1, ch2]\n",
        "            if similarity >= threshold:\n",
        "                top_n[ch1].append((similarity, ch2))\n",
        "                top_n[ch2].append((similarity, ch1))\n",
        "\n",
        "# Sort the top-n values for each node and keep only the top-n values\n",
        "for ch in top_n:\n",
        "    top_n[ch] = sorted(top_n[ch], reverse=True)[:n]\n",
        "\n",
        "# Add edges for the top-n values for each node\n",
        "for ch in top_n:\n",
        "    for similarity, ch2 in top_n[ch]:\n",
        "        graph.add_edge(ch, ch2, weight=similarity)\n"
      ]
    },
    {
      "cell_type": "markdown",
      "metadata": {
        "id": "GahjfgB8QQvc"
      },
      "source": [
        "Let's inspect the first similarity in our list."
      ]
    },
    {
      "cell_type": "code",
      "execution_count": 30,
      "metadata": {
        "colab": {
          "base_uri": "https://localhost:8080/"
        },
        "id": "40kFHkyTnpfA",
        "outputId": "9788e9a7-388e-457f-a631-b0faf06229a8"
      },
      "outputs": [
        {
          "output_type": "stream",
          "name": "stdout",
          "text": [
            "[(30.521803423673443, '1CO 3'), (30.521803423673443, '1CO 3'), (30.38733767338671, '2CO 1')]\n"
          ]
        }
      ],
      "source": [
        "for ch, sim_list in top_n.items():\n",
        "    print(sorted(sim_list, key=lambda x: x[1]))\n",
        "    break\n",
        "    top_n[ch] = sim_list[:n]"
      ]
    },
    {
      "cell_type": "code",
      "execution_count": 31,
      "metadata": {
        "id": "tO8pqPU5E536"
      },
      "outputs": [],
      "source": [
        "# Draw edges on graph\n",
        "positions = nx.spring_layout(graph)\n",
        "\n",
        "edge_x = []\n",
        "edge_y = []\n",
        "for edge in graph.edges():\n",
        "    x0, y0 = positions[edge[0]]\n",
        "    x1, y1 = positions[edge[1]]\n",
        "    edge_x.append(x0)\n",
        "    edge_x.append(x1)\n",
        "    edge_x.append(None)\n",
        "    edge_y.append(y0)\n",
        "    edge_y.append(y1)\n",
        "    edge_y.append(None)\n",
        "\n",
        "edge_trace = go.Scatter(\n",
        "    x=edge_x, y=edge_y,\n",
        "    line=dict(width=0.5, color='#888'),\n",
        "    hoverinfo='none',\n",
        "    mode='lines')\n",
        "\n",
        "# Draw nodes on graph\n",
        "\n",
        "node_x = []\n",
        "node_y = []\n",
        "for node in graph.nodes():\n",
        "    x, y = positions[node]\n",
        "    node_x.append(x)\n",
        "    node_y.append(y)\n",
        "\n",
        "node_trace = go.Scatter(\n",
        "    x=node_x, y=node_y,\n",
        "    mode='markers+text',\n",
        "    hoverinfo='text',\n",
        "    marker=dict(\n",
        "        showscale=True,\n",
        "        # colorscale options\n",
        "        #'Greys' | 'YlGnBu' | 'Greens' | 'YlOrRd' | 'Bluered' | 'RdBu' |\n",
        "        #'Reds' | 'Blues' | 'Picnic' | 'Rainbow' | 'Portland' | 'Jet' |\n",
        "        #'Hot' | 'Blackbody' | 'Earth' | 'Electric' | 'Viridis' |\n",
        "        colorscale='YlGnBu',\n",
        "        reversescale=True,\n",
        "        color=[],\n",
        "        size=20,\n",
        "        colorbar=dict(\n",
        "            thickness=15,\n",
        "            title='Node Connections',\n",
        "            xanchor='left',\n",
        "            titleside='right'\n",
        "        ),\n",
        "        line_width=2))"
      ]
    },
    {
      "cell_type": "code",
      "execution_count": 32,
      "metadata": {
        "id": "eoqlevwEIgsz"
      },
      "outputs": [],
      "source": [
        "# Color nodes\n",
        "\n",
        "node_adjacencies = []\n",
        "node_text = []\n",
        "for node, adjacencies in enumerate(graph.adjacency()):\n",
        "    node_adjacencies.append(len(adjacencies[1]))\n",
        "    node_text.append(adjacencies[0] + ': # of connections: '+str(len(adjacencies[1])))\n",
        "\n",
        "node_trace.marker.color = node_adjacencies\n",
        "node_trace.text = node_text"
      ]
    },
    {
      "cell_type": "code",
      "execution_count": 37,
      "metadata": {
        "colab": {
          "base_uri": "https://localhost:8080/",
          "height": 542
        },
        "id": "zTBGT7vsIuAX",
        "outputId": "479a445e-fce7-463a-f693-6d84ec050a10"
      },
      "outputs": [
        {
          "output_type": "display_data",
          "data": {
            "text/html": [
              "<html>\n",
              "<head><meta charset=\"utf-8\" /></head>\n",
              "<body>\n",
              "    <div>            <script src=\"https://cdnjs.cloudflare.com/ajax/libs/mathjax/2.7.5/MathJax.js?config=TeX-AMS-MML_SVG\"></script><script type=\"text/javascript\">if (window.MathJax && window.MathJax.Hub && window.MathJax.Hub.Config) {window.MathJax.Hub.Config({SVG: {font: \"STIX-Web\"}});}</script>                <script type=\"text/javascript\">window.PlotlyConfig = {MathJaxConfig: 'local'};</script>\n",
              "        <script src=\"https://cdn.plot.ly/plotly-2.18.2.min.js\"></script>                <div id=\"9260b4a3-3a7e-4c76-9c95-37ece1121bee\" class=\"plotly-graph-div\" style=\"height:525px; width:100%;\"></div>            <script type=\"text/javascript\">                                    window.PLOTLYENV=window.PLOTLYENV || {};                                    if (document.getElementById(\"9260b4a3-3a7e-4c76-9c95-37ece1121bee\")) {                    Plotly.newPlot(                        \"9260b4a3-3a7e-4c76-9c95-37ece1121bee\",                        [{\"hoverinfo\":\"none\",\"line\":{\"color\":\"#888\",\"width\":0.5},\"mode\":\"lines\",\"x\":[0.9538069461218038,0.9856404953484648,null,0.9538069461218038,0.8946349349455911,null,0.9538069461218038,0.9999999999999999,null,0.9538069461218038,0.9877731338334281,null,0.869253659273791,0.8554381705097965,null,0.869253659273791,0.8803367099878164,null,-0.0940134445603935,-0.12483854137287938,null,-0.0940134445603935,-0.09009985140038518,null,-0.12483854137287938,-0.19910651026609452,null,-0.12483854137287938,-0.08040146909168494,null,-0.12483854137287938,-0.10653804459184257,null,-0.12483854137287938,-0.15049120392230234,null,-0.09009985140038518,-0.1465647863886397,null,-0.09009985140038518,-0.040344589429714556,null,-0.09009985140038518,-0.060493057893695336,null,-0.09009985140038518,-0.09433022601944224,null,-0.09009985140038518,-0.052755676585804996,null,-0.09009985140038518,-0.11492642282362282,null,-0.09009985140038518,-0.10030910206559167,null,-0.09009985140038518,-0.12393701106310304,null,-0.09009985140038518,-0.03215998638242817,null,-0.09009985140038518,-0.1268650395102163,null,-0.09009985140038518,-0.18088868356183666,null,-0.09009985140038518,-0.08459116822158537,null,-0.09009985140038518,-0.07730613799095529,null,-0.09009985140038518,-0.04619910509859887,null,-0.09009985140038518,-0.008524679705673678,null,-0.09009985140038518,-0.10441281475039922,null,-0.09009985140038518,-0.02287828902072364,null,-0.05746594359788767,-0.08040146909168494,null,-0.05746594359788767,-0.09554553604631685,null,-0.08040146909168494,-0.05997230475806832,null,-0.08040146909168494,-0.11726222979351521,null,-0.09554553604631685,-0.023687796704287608,null,-0.09554553604631685,-0.1130568081446846,null,-0.09554553604631685,-0.1251240854866624,null,-0.09554553604631685,-0.1870726810752844,null,-0.0031921151228992734,-0.023687796704287608,null,-0.0031921151228992734,-0.052755676585804996,null,-0.052755676585804996,-0.040344589429714556,null,-0.052755676585804996,-0.007774560070274993,null,-0.052755676585804996,-0.10030910206559167,null,-0.052755676585804996,-0.12393701106310304,null,-0.052755676585804996,-0.001926667096976104,null,-0.052755676585804996,-0.06805041442246786,null,-0.052755676585804996,-0.05214037555970808,null,-0.052755676585804996,0.0359476204559948,null,-0.052755676585804996,-0.16560883884777192,null,-0.052755676585804996,0.05430845369129578,null,-0.052755676585804996,-0.11254555174433817,null,-0.052755676585804996,-0.04619910509859887,null,-0.3019434169374676,-0.40119231402891614,null,-0.3019434169374676,-0.27533546764119504,null,-0.3019434169374676,-0.1840413813574526,null,-0.40119231402891614,-0.3747853831864466,null,-0.40119231402891614,-0.4486932557721329,null,-0.40119231402891614,-0.44510730204311094,null,-0.40119231402891614,-0.42671217186487775,null,-0.40119231402891614,-0.4536629976238313,null,-0.40119231402891614,-0.37114358851123247,null,-0.40119231402891614,-0.42752390174063637,null,-0.27533546764119504,-0.19910651026609452,null,-0.27533546764119504,-0.24805877556683728,null,-0.27533546764119504,-0.3674249909780659,null,-0.27533546764119504,-0.31983256321953424,null,-0.27533546764119504,-0.18088868356183666,null,-0.27533546764119504,-0.3747853831864466,null,-0.27533546764119504,-0.2754198329153407,null,-0.27533546764119504,-0.1870726810752844,null,-0.27533546764119504,-0.23767355311025795,null,-0.27533546764119504,-0.2398987634570821,null,-0.27533546764119504,-0.37114358851123247,null,-0.27533546764119504,-0.31547663326757264,null,-0.05997230475806832,-0.10030910206559167,null,-0.10030910206559167,-0.2080715480697028,null,-0.10030910206559167,-0.07039035116797517,null,-0.10030910206559167,-0.09179658185222522,null,-0.1465647863886397,-0.19910651026609452,null,-0.19910651026609452,-0.24805877556683728,null,-0.040344589429714556,-0.02287828902072364,null,-0.1570388400993274,-0.15337070523056032,null,-0.1570388400993274,-0.12393701106310304,null,-0.15337070523056032,-0.12758709223949088,null,-0.12393701106310304,-0.17863755472220022,null,-0.12393701106310304,-0.1644960416518653,null,-0.12393701106310304,-0.1332823688688013,null,-0.12393701106310304,-0.15002916639392003,null,-0.12393701106310304,-0.11492642282362282,null,-0.12758709223949088,-0.1332823688688013,null,-0.12758709223949088,-0.10441281475039922,null,-0.2080715480697028,-0.3078357946886477,null,-0.3078357946886477,-0.31983256321953424,null,-0.3078357946886477,-0.3634238139212591,null,-0.3078357946886477,-0.39913602457673225,null,-0.10653804459184257,-0.11726222979351521,null,-0.11726222979351521,-0.1555599824221191,null,0.3293713119895346,0.29264340498397245,null,0.3293713119895346,0.3065663523844677,null,0.29264340498397245,0.3065663523844677,null,0.29264340498397245,0.2769057575068655,null,0.29264340498397245,0.2867608858616877,null,0.29264340498397245,0.2393147250132683,null,0.3065663523844677,0.2769057575068655,null,0.2769057575068655,0.2867608858616877,null,0.2769057575068655,0.2393147250132683,null,-0.060493057893695336,-0.009666173253504898,null,-0.060493057893695336,-0.10371887849064754,null,-0.009666173253504898,0.027473130973536673,null,-0.009666173253504898,-0.025958690205772378,null,-0.3286337100670877,-0.34534883437687625,null,-0.3286337100670877,-0.31547663326757264,null,-0.3286337100670877,-0.24945197825081233,null,-0.34534883437687625,-0.3999100807438431,null,-0.34534883437687625,-0.2656842004890533,null,-0.31547663326757264,-0.28631497594401206,null,-0.24945197825081233,-0.1555599824221191,null,-0.1555599824221191,-0.23159580344027128,null,-0.1555599824221191,-0.12647047869515896,null,-0.1555599824221191,-0.09251888584041681,null,-0.10371887849064754,-0.08641024202232016,null,-0.08641024202232016,-0.025958690205772378,null,-0.08641024202232016,-0.12647047869515896,null,-0.03246999114263826,-0.048226463770333544,null,-0.03246999114263826,-0.07039035116797517,null,-0.048226463770333544,-0.05214037555970808,null,-0.048226463770333544,-0.07859047037296737,null,-0.07039035116797517,-0.1840413813574526,null,-0.07039035116797517,0.01790326867163908,null,-0.07039035116797517,-0.013459013979750798,null,-0.09433022601944224,-0.024259590154672425,null,-0.09433022601944224,-0.1391338281238346,null,-0.09433022601944224,-0.1554976286213595,null,-0.09433022601944224,-0.05214037555970808,null,-0.024259590154672425,-0.007774560070274993,null,-0.024259590154672425,-0.013459013979750798,null,-0.1391338281238346,-0.1840413813574526,null,0.01790326867163908,0.05430845369129578,null,-0.05214037555970808,-0.05746701746728541,null,-0.07859047037296737,-0.08036550401658651,null,-0.07859047037296737,-0.07143704953868152,null,-0.07859047037296737,-0.12388570426641529,null,-0.08036550401658651,-0.07143704953868152,null,-0.08036550401658651,-0.056960035269991285,null,-0.07163218712734717,-0.05746701746728541,null,-0.07163218712734717,-0.056960035269991285,null,-0.05746701746728541,-0.056960035269991285,null,-0.12388570426641529,-0.15049120392230234,null,-0.15049120392230234,-0.1870726810752844,null,-0.15049120392230234,-0.12985878370696832,null,-0.15049120392230234,-0.19120907544618237,null,-0.11492642282362282,-0.15002916639392003,null,-0.11492642282362282,-0.06805041442246786,null,-0.11492642282362282,-0.1130568081446846,null,-0.11492642282362282,-0.10441281475039922,null,-0.09179658185222522,-0.10441281475039922,null,-0.17863755472220022,-0.1644960416518653,null,-0.03215998638242817,-0.001926667096976104,null,-0.1268650395102163,-0.12647047869515896,null,-0.12647047869515896,-0.09251888584041681,null,0.2393147250132683,0.15655053849221515,null,-0.1554976286213595,-0.20855867994824445,null,-0.20855867994824445,-0.2370718495092895,null,-0.20855867994824445,-0.24334821002083332,null,-0.2370718495092895,-0.24334821002083332,null,0.05430845369129578,0.15655053849221515,null,0.05430845369129578,0.08234413459685118,null,-0.3674249909780659,-0.43554522533434237,null,-0.43554522533434237,-0.39913602457673225,null,-0.39913602457673225,-0.44510730204311094,null,0.2533731526797115,0.26605398611348374,null,0.2533731526797115,0.20206388728045022,null,0.26605398611348374,0.2885835473181206,null,0.26605398611348374,0.22696375718430836,null,0.26605398611348374,0.2695610948654166,null,0.26605398611348374,0.18581294952316965,null,0.26605398611348374,0.3633111274856356,null,0.20206388728045022,0.13617939290292497,null,0.20206388728045022,0.23712004797581124,null,0.2885835473181206,0.22696375718430836,null,0.2885835473181206,0.36060782596060525,null,0.2885835473181206,0.3408388943402837,null,0.2885835473181206,0.20834462538069395,null,0.2885835473181206,0.3455609975385964,null,0.22696375718430836,0.2695610948654166,null,0.22696375718430836,0.12550226231548345,null,0.22696375718430836,0.190630646868929,null,0.22696375718430836,0.23461955107459379,null,0.12550226231548345,0.190630646868929,null,0.12550226231548345,0.16109940740688403,null,0.12550226231548345,-0.0027255904012281882,null,0.190630646868929,0.16109940740688403,null,0.190630646868929,0.23461955107459379,null,0.36060782596060525,0.3633111274856356,null,0.36060782596060525,0.41708332710210305,null,0.3633111274856356,0.4142600401828123,null,0.3633111274856356,0.417711081339045,null,0.3633111274856356,0.4320185438606007,null,0.3633111274856356,0.3408388943402837,null,0.47154508688374946,0.41708332710210305,null,0.47154508688374946,0.5080982434327082,null,0.41708332710210305,0.4142600401828123,null,0.5080982434327082,0.4884705130645658,null,0.5080982434327082,0.4985598325907121,null,0.4142600401828123,0.417711081339045,null,0.18581294952316965,0.13179709805953588,null,0.18581294952316965,0.11370521803303672,null,0.13179709805953588,0.018278643550995635,null,0.13179709805953588,0.20834462538069395,null,0.39924733819646446,0.3455609975385964,null,0.39924733819646446,0.4519348131586574,null,0.4519348131586574,0.4985598325907121,null,0.4884705130645658,0.4985598325907121,null,0.4884705130645658,0.4320185438606007,null,0.018278643550995635,-0.101423862960748,null,-0.101423862960748,-0.20244498988803142,null,-0.101423862960748,-0.22062415038545682,null,-0.101423862960748,-0.02354210007880274,null,-0.101423862960748,-0.06740585634275621,null,-0.101423862960748,-0.06763843479018077,null,-0.101423862960748,-0.1580217260883917,null,-0.0027255904012281882,-0.1152377015858856,null,-0.0027255904012281882,-0.02427236083107406,null,-0.0027255904012281882,-0.05863498214793753,null,-0.0027255904012281882,-0.051294280581598906,null,-0.1152377015858856,-0.09978212597767953,null,-0.1152377015858856,-0.18115656071414363,null,-0.1152377015858856,-0.20000082359775442,null,0.027473130973536673,-0.025958690205772378,null,0.027473130973536673,-0.02354436531275901,null,0.027473130973536673,0.0819436096332764,null,0.027473130973536673,0.11370521803303672,null,-0.02354436531275901,-0.09251888584041681,null,-0.09251888584041681,-0.1251240854866624,null,0.08746764641382485,0.0819436096332764,null,0.08746764641382485,0.0359476204559948,null,0.0359476204559948,0.08234413459685118,null,0.0359476204559948,-0.008524679705673678,null,-0.16560883884777192,-0.2656842004890533,null,-0.2656842004890533,-0.23159580344027128,null,-0.2656842004890533,-0.3287134314334389,null,-0.23159580344027128,-0.1796113996975997,null,-0.23159580344027128,-0.28631497594401206,null,-0.3287134314334389,-0.37114358851123247,null,-0.37114358851123247,-0.42431696181692824,null,-0.37114358851123247,-0.42671217186487775,null,-0.37114358851123247,-0.42752390174063637,null,-0.3634238139212591,-0.41680978692284143,null,-0.41680978692284143,-0.3999100807438431,null,-0.28636459842134904,-0.1846355312431699,null,-0.28636459842134904,-0.36107059967960364,null,-0.1846355312431699,-0.13594516653654706,null,-0.1846355312431699,-0.17304977374757202,null,-0.1846355312431699,-0.13507839497144122,null,-0.36107059967960364,-0.39388446393885274,null,-0.36107059967960364,-0.35441214273590604,null,-0.36107059967960364,-0.3979685505119297,null,-0.36107059967960364,-0.3975096075948701,null,-0.08765594945918112,-0.08672709369255593,null,-0.08765594945918112,-0.08459116822158537,null,-0.08765594945918112,-0.05863498214793753,null,-0.08765594945918112,-0.13507839497144122,null,-0.08765594945918112,-0.051294280581598906,null,-0.08672709369255593,-0.07661882636579248,null,-0.02427236083107406,-0.07643656771115319,null,-0.07643656771115319,-0.13594516653654706,null,-0.07643656771115319,-0.07661882636579248,null,-0.13594516653654706,-0.17304977374757202,null,-0.1870726810752844,-0.19120907544618237,null,-0.1870726810752844,-0.2398987634570821,null,-0.1870726810752844,-0.23767355311025795,null,-0.1870726810752844,-0.11254555174433817,null,-0.1796113996975997,-0.1251240854866624,null,-0.12985878370696832,-0.1130568081446846,null,-0.4773116484406929,-0.44510730204311094,null,-0.4773116484406929,-0.42752390174063637,null,-0.3747853831864466,-0.46673325828904305,null,-0.43780114282030563,-0.48223625753359295,null,-0.43780114282030563,-0.4536629976238313,null,-0.43780114282030563,-0.46673325828904305,null,-0.43780114282030563,-0.42431696181692824,null,-0.43780114282030563,-0.3908054340062928,null,-0.48223625753359295,-0.4536629976238313,null,-0.4536629976238313,-0.4785698184691319,null,-0.2754198329153407,-0.2398987634570821,null,0.22047662884789954,0.237478585933571,null,0.22047662884789954,0.2094191476372113,null,0.237478585933571,0.2570707671802018,null,0.237478585933571,0.23712004797581124,null,0.2094191476372113,0.20477952155090548,null,0.2094191476372113,0.21700360907409955,null,0.20477952155090548,0.21174368252109232,null,0.20477952155090548,0.21700360907409955,null,0.21700360907409955,0.21174368252109232,null,-0.4486932557721329,-0.42431696181692824,null,-0.46673325828904305,-0.5282140705035709,null,-0.46673325828904305,-0.5324177744437656,null,-0.4785698184691319,-0.42671217186487775,null,-0.09978212597767953,-0.033815505756021054,null,-0.09978212597767953,-0.1653063984828155,null,-0.033815505756021054,-0.17315276142794983,null,-0.033815505756021054,0.13617939290292497,null,-0.17315276142794983,-0.28890432100867636,null,0.13617939290292497,0.22875310951340314,null,0.13617939290292497,0.17868549912254522,null,0.13617939290292497,0.20179149825600137,null,0.13617939290292497,0.18137756649173953,null,0.13617939290292497,0.20246666731720947,null,-0.3337849239671259,-0.2728035638949521,null,-0.3337849239671259,-0.3874088579851564,null,-0.2728035638949521,-0.21691085533267077,null,-0.2728035638949521,-0.24776033913052287,null,-0.3874088579851564,-0.3908054340062928,null,-0.39388446393885274,-0.4049005353260607,null,-0.39388446393885274,-0.4182438025602031,null,-0.4049005353260607,-0.3908054340062928,null,-0.027549758967071562,-0.03976590829838033,null,-0.027549758967071562,-0.00426199994368883,null,-0.03976590829838033,-0.00426199994368883,null,-0.03976590829838033,-0.06763843479018077,null,-0.03976590829838033,-0.01605681065832929,null,-0.03976590829838033,-0.06740585634275621,null,-0.00426199994368883,0.02969346295898458,null,-0.00426199994368883,-0.01605681065832929,null,-0.20244498988803142,-0.28890432100867636,null,-0.28890432100867636,-0.42683232266307897,null,-0.22062415038545682,-0.3347651426287013,null,-0.3347651426287013,-0.35441214273590604,null,-0.3347651426287013,-0.3908054340062928,null,-0.3347651426287013,-0.4034585268968829,null,0.02969346295898458,0.04756885656729412,null,0.04756885656729412,0.03305741008213704,null,0.04756885656729412,0.05799604218542134,null,0.03305741008213704,0.05799604218542134,null,0.03305741008213704,-0.02354210007880274,null,-0.18115656071414363,-0.21366039768614897,null,-0.18115656071414363,-0.2341575774410469,null,-0.06763843479018077,-0.06740585634275621,null,-0.3979685505119297,-0.3975096075948701,null,-0.3975096075948701,-0.4182438025602031,null,0.2570707671802018,0.23712004797581124,null,-0.2183259980223112,-0.24573474873666215,null,-0.2183259980223112,-0.2341575774410469,null,-0.2183259980223112,-0.1653063984828155,null,-0.24573474873666215,-0.2341575774410469,null,-0.2341575774410469,-0.21366039768614897,null,-0.2341575774410469,-0.279806532504267,null,-0.4983852328639559,-0.4877933021711358,null,-0.4983852328639559,-0.42683232266307897,null,-0.4877933021711358,-0.42683232266307897,null,-0.21691085533267077,-0.24776033913052287,null,-0.21691085533267077,-0.1580217260883917,null,-0.41686685282117325,-0.3576165095994468,null,-0.41686685282117325,-0.45720524538698065,null,-0.41686685282117325,-0.4396508018510782,null,-0.3576165095994468,-0.279806532504267,null,-0.45720524538698065,-0.4396508018510782,null,0.22875310951340314,0.24442114140752663,null,0.22875310951340314,0.2856659864972784,null,0.22875310951340314,0.20179149825600137,null,0.22875310951340314,0.2910297747146629,null,0.17868549912254522,0.18137756649173953,null,-0.4396508018510782,-0.4034585268968829,null,0.24442114140752663,0.20246666731720947,null,0.2856659864972784,0.2910297747146629,null,-0.20000082359775442,-0.279806532504267,null,-0.5282140705035709,-0.5324177744437656,null,-0.11254555174433817,-0.07730613799095529,null,0.9856404953484648,0.9733850544025523,null,0.8946349349455911,0.8610506193547048,null,0.8946349349455911,0.8622424106634315,null,0.9597327414305548,0.9170812404402313,null,0.9597327414305548,0.9480961133767657,null,0.9170812404402313,0.8622424106634315,null,0.9170812404402313,0.9480961133767657,null,0.9170812404402313,0.9768566092857102,null,0.9480961133767657,0.9349708649532837,null,0.9480961133767657,0.9091577637339289,null,0.9480961133767657,0.9768566092857102,null,0.8622424106634315,0.8874140022084038,null,0.8622424106634315,0.8803367099878164,null,0.8622424106634315,0.8400143217588377,null,0.8622424106634315,0.8554381705097965,null,0.8622424106634315,0.9091577637339289,null,0.8622424106634315,0.8557557863371621,null,0.8874140022084038,0.8934260134239339,null,0.8934260134239339,0.8803367099878164,null,0.8554381705097965,0.8911925220492573,null,0.8803367099878164,0.9349708649532837,null,0.8803367099878164,0.8911925220492573,null,0.9349708649532837,0.9733850544025523,null,0.8400143217588377,0.8610506193547048,null,0.8610506193547048,0.8557557863371621,null,0.9999999999999999,0.9877731338334281,null],\"y\":[0.2600783759935872,0.2335783552872498,null,0.2600783759935872,0.22214862850770536,null,0.2600783759935872,0.28745200646058455,null,0.2600783759935872,0.30040040706575405,null,0.08758195123159662,0.10931113228014329,null,0.08758195123159662,0.12739740494532145,null,0.1916118258534213,0.26796368289996564,null,0.1916118258534213,0.09572752763157664,null,0.26796368289996564,0.22284024980937783,null,0.26796368289996564,0.2951898162145497,null,0.26796368289996564,0.33115621304058346,null,0.26796368289996564,0.32239165534109293,null,0.09572752763157664,0.15506140368879995,null,0.09572752763157664,0.11578697700084453,null,0.09572752763157664,0.019749256313096857,null,0.09572752763157664,0.2453055005291448,null,0.09572752763157664,0.1367437888831837,null,0.09572752763157664,0.06905440424214274,null,0.09572752763157664,0.15298899445908865,null,0.09572752763157664,0.034370466235197024,null,0.09572752763157664,0.0648656273581426,null,0.09572752763157664,0.10832840856711609,null,0.09572752763157664,0.147965894972266,null,0.09572752763157664,-0.10030187487308351,null,0.09572752763157664,0.14380897610702045,null,0.09572752763157664,0.10096345709264903,null,0.09572752763157664,0.08804491053334125,null,0.09572752763157664,0.03062931762440898,null,0.09572752763157664,0.11472059452848571,null,0.2860565590035456,0.2951898162145497,null,0.2860565590035456,0.22392609774269487,null,0.2951898162145497,0.23090531634652534,null,0.2951898162145497,0.2954356045426553,null,0.22392609774269487,0.22254453050471826,null,0.22392609774269487,0.15382574880453675,null,0.22392609774269487,0.22089652492309214,null,0.22392609774269487,0.23483687559733346,null,0.17977773714912607,0.22254453050471826,null,0.17977773714912607,0.1367437888831837,null,0.1367437888831837,0.11578697700084453,null,0.1367437888831837,0.2037432810218072,null,0.1367437888831837,0.15298899445908865,null,0.1367437888831837,0.034370466235197024,null,0.1367437888831837,0.08603350308341605,null,0.1367437888831837,0.08089003071887704,null,0.1367437888831837,0.2883505308250744,null,0.1367437888831837,0.10345985340440396,null,0.1367437888831837,0.15706868235376695,null,0.1367437888831837,0.18504930124944854,null,0.1367437888831837,0.17882670936406986,null,0.1367437888831837,0.10096345709264903,null,0.2535800982983233,0.22396490884773476,null,0.2535800982983233,0.21470375246375978,null,0.2535800982983233,0.27648931144880057,null,0.22396490884773476,0.2109672183433368,null,0.22396490884773476,0.22467169238523527,null,0.22396490884773476,0.20796759372780219,null,0.22396490884773476,0.2496935055013169,null,0.22396490884773476,0.17844315220633894,null,0.22396490884773476,0.22044661797574128,null,0.22396490884773476,0.23505148768428943,null,0.21470375246375978,0.22284024980937783,null,0.21470375246375978,0.2476280277036765,null,0.21470375246375978,0.18578132390160337,null,0.21470375246375978,0.16446497346117334,null,0.21470375246375978,0.147965894972266,null,0.21470375246375978,0.2109672183433368,null,0.21470375246375978,0.2500535981960589,null,0.21470375246375978,0.23483687559733346,null,0.21470375246375978,0.23377220638440477,null,0.21470375246375978,0.22935369583599405,null,0.21470375246375978,0.22044661797574128,null,0.21470375246375978,0.2790992786926466,null,0.23090531634652534,0.15298899445908865,null,0.15298899445908865,0.12409349468581904,null,0.15298899445908865,0.25863955713806913,null,0.15298899445908865,0.082046137362456,null,0.15506140368879995,0.22284024980937783,null,0.22284024980937783,0.2476280277036765,null,0.11578697700084453,0.11472059452848571,null,-0.04878414005285968,-0.09152639479916944,null,-0.04878414005285968,0.034370466235197024,null,-0.09152639479916944,-0.04533794005336129,null,0.034370466235197024,-0.0074962637312533794,null,0.034370466235197024,-0.012475145168157079,null,0.034370466235197024,-0.021418869120794385,null,0.034370466235197024,0.026130640254322695,null,0.034370466235197024,0.06905440424214274,null,-0.04533794005336129,-0.021418869120794385,null,-0.04533794005336129,0.03062931762440898,null,0.12409349468581904,0.10941365558940118,null,0.10941365558940118,0.16446497346117334,null,0.10941365558940118,0.06430549314038381,null,0.10941365558940118,0.14608465395212175,null,0.33115621304058346,0.2954356045426553,null,0.2954356045426553,0.22433540519955636,null,0.3624181453669764,0.3283699580320343,null,0.3624181453669764,0.346405028590222,null,0.3283699580320343,0.346405028590222,null,0.3283699580320343,0.3258662444721981,null,0.3283699580320343,0.34658555483121756,null,0.3283699580320343,0.2912030451751739,null,0.346405028590222,0.3258662444721981,null,0.3258662444721981,0.34658555483121756,null,0.3258662444721981,0.2912030451751739,null,0.019749256313096857,-0.01239582822879344,null,0.019749256313096857,0.016925831365318986,null,-0.01239582822879344,-0.008826747526007936,null,-0.01239582822879344,0.010686122915805955,null,0.24981102738863545,0.16692801867271692,null,0.24981102738863545,0.2790992786926466,null,0.24981102738863545,0.27543987921356045,null,0.16692801867271692,0.11075364040441037,null,0.16692801867271692,0.1877178750406285,null,0.2790992786926466,0.3083998430387817,null,0.27543987921356045,0.22433540519955636,null,0.22433540519955636,0.2536615193496821,null,0.22433540519955636,0.13874174280931117,null,0.22433540519955636,0.16453217882182575,null,0.016925831365318986,0.06155999763066166,null,0.06155999763066166,0.010686122915805955,null,0.06155999763066166,0.13874174280931117,null,0.3534034301186231,0.3939381971564725,null,0.3534034301186231,0.25863955713806913,null,0.3939381971564725,0.2883505308250744,null,0.3939381971564725,0.48172900383497497,null,0.25863955713806913,0.27648931144880057,null,0.25863955713806913,0.24402620957630544,null,0.25863955713806913,0.3034105425435094,null,0.2453055005291448,0.2598834028318953,null,0.2453055005291448,0.3036518855396842,null,0.2453055005291448,0.3755974997016567,null,0.2453055005291448,0.2883505308250744,null,0.2598834028318953,0.2037432810218072,null,0.2598834028318953,0.3034105425435094,null,0.3036518855396842,0.27648931144880057,null,0.24402620957630544,0.18504930124944854,null,0.2883505308250744,0.41936759384598604,null,0.48172900383497497,0.5397757178195174,null,0.48172900383497497,0.5507102906100796,null,0.48172900383497497,0.42550645238406004,null,0.5397757178195174,0.5507102906100796,null,0.5397757178195174,0.5027851269923173,null,0.49686862029312023,0.41936759384598604,null,0.49686862029312023,0.5027851269923173,null,0.41936759384598604,0.5027851269923173,null,0.42550645238406004,0.32239165534109293,null,0.32239165534109293,0.23483687559733346,null,0.32239165534109293,0.24980398981455212,null,0.32239165534109293,0.3205397275319135,null,0.06905440424214274,0.026130640254322695,null,0.06905440424214274,0.08089003071887704,null,0.06905440424214274,0.15382574880453675,null,0.06905440424214274,0.03062931762440898,null,0.082046137362456,0.03062931762440898,null,-0.0074962637312533794,-0.012475145168157079,null,0.0648656273581426,0.08603350308341605,null,0.10832840856711609,0.13874174280931117,null,0.13874174280931117,0.16453217882182575,null,0.2912030451751739,0.23237262051638316,null,0.3755974997016567,0.47269352060808817,null,0.47269352060808817,0.548663736139205,null,0.47269352060808817,0.5337306139159151,null,0.548663736139205,0.5337306139159151,null,0.18504930124944854,0.23237262051638316,null,0.18504930124944854,0.143788835964322,null,0.18578132390160337,0.1548516740338735,null,0.1548516740338735,0.14608465395212175,null,0.14608465395212175,0.20796759372780219,null,-0.20433954547024208,-0.28030578148915064,null,-0.20433954547024208,-0.14470836480400082,null,-0.28030578148915064,-0.33699111597202913,null,-0.28030578148915064,-0.34990165477747553,null,-0.28030578148915064,-0.3276309861338804,null,-0.28030578148915064,-0.22421307929133624,null,-0.28030578148915064,-0.31859630494779084,null,-0.14470836480400082,-0.07286074328130697,null,-0.14470836480400082,-0.21271049129327468,null,-0.33699111597202913,-0.34990165477747553,null,-0.33699111597202913,-0.34501232054297815,null,-0.33699111597202913,-0.3488516352961076,null,-0.33699111597202913,-0.2971980131341381,null,-0.33699111597202913,-0.3932097832044316,null,-0.34990165477747553,-0.3276309861338804,null,-0.34990165477747553,-0.3836152695327332,null,-0.34990165477747553,-0.39843812303789833,null,-0.34990165477747553,-0.405345604521061,null,-0.3836152695327332,-0.39843812303789833,null,-0.3836152695327332,-0.4244342492539162,null,-0.3836152695327332,-0.3821810295459688,null,-0.39843812303789833,-0.4244342492539162,null,-0.39843812303789833,-0.405345604521061,null,-0.34501232054297815,-0.31859630494779084,null,-0.34501232054297815,-0.36134413513846975,null,-0.31859630494779084,-0.331314318148156,null,-0.31859630494779084,-0.3106165718557502,null,-0.31859630494779084,-0.3583604138465426,null,-0.31859630494779084,-0.3488516352961076,null,-0.3908556549436395,-0.36134413513846975,null,-0.3908556549436395,-0.4239106725130554,null,-0.36134413513846975,-0.331314318148156,null,-0.4239106725130554,-0.41178809596071025,null,-0.4239106725130554,-0.4516199039767011,null,-0.331314318148156,-0.3106165718557502,null,-0.22421307929133624,-0.24878771539376396,null,-0.22421307929133624,-0.11994104471052784,null,-0.24878771539376396,-0.21458026630709884,null,-0.24878771539376396,-0.2971980131341381,null,-0.4352832089273701,-0.3932097832044316,null,-0.4352832089273701,-0.45858517257554354,null,-0.45858517257554354,-0.4516199039767011,null,-0.41178809596071025,-0.4516199039767011,null,-0.41178809596071025,-0.3583604138465426,null,-0.21458026630709884,-0.18135210733667176,null,-0.18135210733667176,-0.13866772285027779,null,-0.18135210733667176,-0.16823102418461094,null,-0.18135210733667176,-0.2409607136419798,null,-0.18135210733667176,-0.2230103611940288,null,-0.18135210733667176,-0.23325232848364003,null,-0.18135210733667176,-0.08504813843513742,null,-0.3821810295459688,-0.3441502765409376,null,-0.3821810295459688,-0.4635191455480089,null,-0.3821810295459688,-0.36581039010973293,null,-0.3821810295459688,-0.3517060702571785,null,-0.3441502765409376,-0.24440236343902172,null,-0.3441502765409376,-0.40159352974517865,null,-0.3441502765409376,-0.3664165125105081,null,-0.008826747526007936,0.010686122915805955,null,-0.008826747526007936,0.07762362031964791,null,-0.008826747526007936,0.007730061988004367,null,-0.008826747526007936,-0.11994104471052784,null,0.07762362031964791,0.16453217882182575,null,0.16453217882182575,0.22089652492309214,null,0.05621787135801018,0.007730061988004367,null,0.05621787135801018,0.10345985340440396,null,0.10345985340440396,0.143788835964322,null,0.10345985340440396,0.08804491053334125,null,0.15706868235376695,0.1877178750406285,null,0.1877178750406285,0.2536615193496821,null,0.1877178750406285,0.2114138217942084,null,0.2536615193496821,0.27686310902874,null,0.2536615193496821,0.3083998430387817,null,0.2114138217942084,0.22044661797574128,null,0.22044661797574128,0.18057975862204637,null,0.22044661797574128,0.2496935055013169,null,0.22044661797574128,0.23505148768428943,null,0.06430549314038381,0.0634142347446762,null,0.0634142347446762,0.11075364040441037,null,-0.39221510002439997,-0.46397507145552547,null,-0.39221510002439997,-0.2816341021713276,null,-0.46397507145552547,-0.5205168057573953,null,-0.46397507145552547,-0.5278269279284262,null,-0.46397507145552547,-0.38717783146676815,null,-0.2816341021713276,-0.21088757816662043,null,-0.2816341021713276,-0.2139485114949939,null,-0.2816341021713276,-0.316531695062236,null,-0.2816341021713276,-0.2923741680699222,null,-0.2848867707549676,-0.3770346759990825,null,-0.2848867707549676,-0.10030187487308351,null,-0.2848867707549676,-0.36581039010973293,null,-0.2848867707549676,-0.38717783146676815,null,-0.2848867707549676,-0.3517060702571785,null,-0.3770346759990825,-0.45090195266577215,null,-0.4635191455480089,-0.507488965198549,null,-0.507488965198549,-0.5205168057573953,null,-0.507488965198549,-0.45090195266577215,null,-0.5205168057573953,-0.5278269279284262,null,0.23483687559733346,0.3205397275319135,null,0.23483687559733346,0.22935369583599405,null,0.23483687559733346,0.23377220638440477,null,0.23483687559733346,0.17882670936406986,null,0.27686310902874,0.22089652492309214,null,0.24980398981455212,0.15382574880453675,null,0.23807138768168537,0.20796759372780219,null,0.23807138768168537,0.23505148768428943,null,0.2109672183433368,0.18372328334022403,null,0.10911332222255232,0.13960406727629573,null,0.10911332222255232,0.17844315220633894,null,0.10911332222255232,0.18372328334022403,null,0.10911332222255232,0.18057975862204637,null,0.10911332222255232,-0.030259848188546785,null,0.13960406727629573,0.17844315220633894,null,0.17844315220633894,0.23436971794630745,null,0.2500535981960589,0.22935369583599405,null,-0.35365864864484203,-0.26723054675472635,null,-0.35365864864484203,-0.44092924198718064,null,-0.26723054675472635,-0.2324017184247327,null,-0.26723054675472635,-0.21271049129327468,null,-0.44092924198718064,-0.4993632942751691,null,-0.44092924198718064,-0.49816021102006225,null,-0.4993632942751691,-0.5343198568994401,null,-0.4993632942751691,-0.49816021102006225,null,-0.49816021102006225,-0.5343198568994401,null,0.22467169238523527,0.18057975862204637,null,0.18372328334022403,0.21380156048163063,null,0.18372328334022403,0.19894864713334348,null,0.23436971794630745,0.2496935055013169,null,-0.24440236343902172,-0.12383547526250903,null,-0.24440236343902172,-0.3207317389448791,null,-0.12383547526250903,-0.10330498341155107,null,-0.12383547526250903,-0.07286074328130697,null,-0.10330498341155107,-0.0849880719953834,null,-0.07286074328130697,-0.03294304733349065,null,-0.07286074328130697,-0.06539373154852995,null,-0.07286074328130697,-0.05253699268223274,null,-0.07286074328130697,-0.08117671159595413,null,-0.07286074328130697,-0.02645875689446582,null,0.036268393272793166,0.04456351523557765,null,0.036268393272793166,0.006363167006729014,null,0.04456351523557765,-0.002460254110264203,null,0.04456351523557765,0.03758079411358074,null,0.006363167006729014,-0.030259848188546785,null,-0.21088757816662043,-0.12637768603211733,null,-0.21088757816662043,-0.2566138877752473,null,-0.12637768603211733,-0.030259848188546785,null,-0.3270451853722108,-0.2782742043733636,null,-0.3270451853722108,-0.32847927601594973,null,-0.2782742043733636,-0.32847927601594973,null,-0.2782742043733636,-0.23325232848364003,null,-0.2782742043733636,-0.3076408381260281,null,-0.2782742043733636,-0.2230103611940288,null,-0.32847927601594973,-0.37504621849056863,null,-0.32847927601594973,-0.3076408381260281,null,-0.13866772285027779,-0.0849880719953834,null,-0.0849880719953834,-0.05098352450379836,null,-0.16823102418461094,-0.1395297128098391,null,-0.1395297128098391,-0.2139485114949939,null,-0.1395297128098391,-0.030259848188546785,null,-0.1395297128098391,-0.2032744466346445,null,-0.37504621849056863,-0.3445767086653793,null,-0.3445767086653793,-0.2983620479045146,null,-0.3445767086653793,-0.3289268257350401,null,-0.2983620479045146,-0.3289268257350401,null,-0.2983620479045146,-0.2409607136419798,null,-0.40159352974517865,-0.43819515074444804,null,-0.40159352974517865,-0.41110509156565583,null,-0.23325232848364003,-0.2230103611940288,null,-0.316531695062236,-0.2923741680699222,null,-0.2923741680699222,-0.2566138877752473,null,-0.2324017184247327,-0.21271049129327468,null,-0.3881373281971324,-0.4311880732031964,null,-0.3881373281971324,-0.41110509156565583,null,-0.3881373281971324,-0.3207317389448791,null,-0.4311880732031964,-0.41110509156565583,null,-0.41110509156565583,-0.43819515074444804,null,-0.41110509156565583,-0.3774876621997873,null,-0.04561116037975345,-0.03838394604272553,null,-0.04561116037975345,-0.05098352450379836,null,-0.03838394604272553,-0.05098352450379836,null,-0.002460254110264203,0.03758079411358074,null,-0.002460254110264203,-0.08504813843513742,null,-0.3267684228847988,-0.35970467371031156,null,-0.3267684228847988,-0.3092058800907763,null,-0.3267684228847988,-0.2738620636705468,null,-0.35970467371031156,-0.3774876621997873,null,-0.3092058800907763,-0.2738620636705468,null,-0.03294304733349065,-0.008707889330631387,null,-0.03294304733349065,-0.020743543929236975,null,-0.03294304733349065,-0.05253699268223274,null,-0.03294304733349065,-0.006063356884833863,null,-0.06539373154852995,-0.08117671159595413,null,-0.2738620636705468,-0.2032744466346445,null,-0.008707889330631387,-0.02645875689446582,null,-0.020743543929236975,-0.006063356884833863,null,-0.3664165125105081,-0.3774876621997873,null,0.21380156048163063,0.19894864713334348,null,0.17882670936406986,0.14380897610702045,null,0.2335783552872498,0.19253660828157051,null,0.22214862850770536,0.22957001955300768,null,0.22214862850770536,0.16162336392540178,null,0.10326113889947154,0.12607505386907117,null,0.10326113889947154,0.12902313445489125,null,0.12607505386907117,0.16162336392540178,null,0.12607505386907117,0.12902313445489125,null,0.12607505386907117,0.12310236948017982,null,0.12902313445489125,0.1521021902677673,null,0.12902313445489125,0.14785260870441058,null,0.12902313445489125,0.12310236948017982,null,0.16162336392540178,0.18091277645425996,null,0.16162336392540178,0.12739740494532145,null,0.16162336392540178,0.19834028971586662,null,0.16162336392540178,0.10931113228014329,null,0.16162336392540178,0.14785260870441058,null,0.16162336392540178,0.20643941820674816,null,0.18091277645425996,0.15751635130319283,null,0.15751635130319283,0.12739740494532145,null,0.10931113228014329,0.08832766983351202,null,0.12739740494532145,0.1521021902677673,null,0.12739740494532145,0.08832766983351202,null,0.1521021902677673,0.19253660828157051,null,0.19834028971586662,0.22957001955300768,null,0.22957001955300768,0.20643941820674816,null,0.28745200646058455,0.30040040706575405,null],\"type\":\"scatter\"},{\"hoverinfo\":\"text\",\"marker\":{\"color\":[4,2,2,5,18,2,4,5,2,2,14,3,8,13,2,6,2,4,3,2,2,2,8,3,2,4,2,3,2,5,3,4,2,3,3,3,3,3,2,5,2,3,2,3,5,5,3,2,3,2,2,4,4,3,2,2,3,3,2,5,6,2,4,2,2,2,2,2,4,2,2,2,3,2,3,2,2,2,4,2,2,3,2,2,2,6,3,6,6,2,4,4,2,3,6,2,3,3,3,3,3,2,2,2,2,3,3,2,2,2,7,2,2,5,4,5,3,2,4,2,2,4,2,2,2,4,4,2,6,2,2,2,4,5,5,2,2,2,3,2,3,2,2,2,2,7,2,3,2,3,2,2,2,3,3,3,5,2,4,2,3,2,2,3,3,3,3,2,3,4,2,3,3,3,2,7,2,3,2,3,2,2,5,4,2,3,2,4,2,3,2,3,2,2,3,3,3,2,3,2,3,2,3,2,5,2,2,2,3,3,2,3,2,2,5,2,2,2,3,2,2,2,2,2,2,4,2,3,2,2,2,2,2,3,2,2,3,2,4,5,8,2,2,3,5,3,2,3,2,2,2,2,2,2,2,2,2,2,2,2],\"colorbar\":{\"thickness\":15,\"title\":{\"side\":\"right\",\"text\":\"Node Connections\"},\"xanchor\":\"left\"},\"colorscale\":[[0.0,\"rgb(255,255,217)\"],[0.125,\"rgb(237,248,177)\"],[0.25,\"rgb(199,233,180)\"],[0.375,\"rgb(127,205,187)\"],[0.5,\"rgb(65,182,196)\"],[0.625,\"rgb(29,145,192)\"],[0.75,\"rgb(34,94,168)\"],[0.875,\"rgb(37,52,148)\"],[1.0,\"rgb(8,29,88)\"]],\"line\":{\"width\":2},\"reversescale\":true,\"showscale\":true,\"size\":20},\"mode\":\"markers+text\",\"text\":[\"REV 1: # of connections: 4\",\"REV 13: # of connections: 2\",\"1CO 1: # of connections: 2\",\"1CO 3: # of connections: 5\",\"2CO 1: # of connections: 18\",\"1CO 10: # of connections: 2\",\"1CO 8: # of connections: 4\",\"ROM 14: # of connections: 5\",\"1CO 11: # of connections: 2\",\"1CO 15: # of connections: 2\",\"PHP 1: # of connections: 14\",\"1CO 12: # of connections: 3\",\"JHN 7: # of connections: 8\",\"JHN 14: # of connections: 13\",\"1CO 13: # of connections: 2\",\"2CO 13: # of connections: 6\",\"1CO 14: # of connections: 2\",\"1CO 2: # of connections: 4\",\"1CO 16: # of connections: 3\",\"1CO 4: # of connections: 2\",\"1CO 5: # of connections: 2\",\"1CO 6: # of connections: 2\",\"2CO 2: # of connections: 8\",\"EPH 5: # of connections: 3\",\"1CO 7: # of connections: 2\",\"GAL 6: # of connections: 4\",\"1CO 9: # of connections: 2\",\"PHP 3: # of connections: 3\",\"1JN 1: # of connections: 2\",\"1JN 2: # of connections: 5\",\"1JN 3: # of connections: 3\",\"1JN 4: # of connections: 4\",\"1JN 5: # of connections: 2\",\"1PE 1: # of connections: 3\",\"EPH 1: # of connections: 3\",\"1PE 2: # of connections: 3\",\"ROM 3: # of connections: 3\",\"ROM 9: # of connections: 3\",\"1PE 3: # of connections: 2\",\"ROM 8: # of connections: 5\",\"1PE 4: # of connections: 2\",\"EPH 2: # of connections: 3\",\"1PE 5: # of connections: 2\",\"1TI 1: # of connections: 3\",\"1TH 5: # of connections: 5\",\"1TH 1: # of connections: 5\",\"2TH 1: # of connections: 3\",\"1TH 2: # of connections: 2\",\"1TH 4: # of connections: 3\",\"1TH 3: # of connections: 2\",\"2TH 3: # of connections: 2\",\"2TI 1: # of connections: 4\",\"1TI 4: # of connections: 4\",\"1TI 2: # of connections: 3\",\"1TI 5: # of connections: 2\",\"1TI 3: # of connections: 2\",\"TIT 1: # of connections: 3\",\"TIT 2: # of connections: 3\",\"1TI 6: # of connections: 2\",\"JAS 1: # of connections: 5\",\"2CO 8: # of connections: 6\",\"2CO 10: # of connections: 2\",\"ROM 15: # of connections: 4\",\"2CO 11: # of connections: 2\",\"2CO 12: # of connections: 2\",\"2CO 3: # of connections: 2\",\"2CO 4: # of connections: 2\",\"2CO 5: # of connections: 2\",\"ROM 5: # of connections: 4\",\"2CO 6: # of connections: 2\",\"2CO 7: # of connections: 2\",\"2CO 9: # of connections: 2\",\"2JN 1: # of connections: 3\",\"2PE 1: # of connections: 2\",\"2PE 3: # of connections: 3\",\"2PE 2: # of connections: 2\",\"JUD 1: # of connections: 2\",\"2TH 2: # of connections: 2\",\"PHM 1: # of connections: 4\",\"2TI 2: # of connections: 2\",\"2TI 3: # of connections: 2\",\"TIT 3: # of connections: 3\",\"2TI 4: # of connections: 2\",\"3JN 1: # of connections: 2\",\"ACT 1: # of connections: 2\",\"ACT 8: # of connections: 6\",\"LUK 24: # of connections: 3\",\"ACT 10: # of connections: 6\",\"ACT 11: # of connections: 6\",\"ACT 12: # of connections: 2\",\"ACT 13: # of connections: 4\",\"ACT 15: # of connections: 4\",\"ACT 14: # of connections: 2\",\"ACT 16: # of connections: 3\",\"ACT 21: # of connections: 6\",\"ACT 17: # of connections: 2\",\"ACT 19: # of connections: 3\",\"ACT 25: # of connections: 3\",\"ACT 18: # of connections: 3\",\"ACT 2: # of connections: 3\",\"ACT 4: # of connections: 3\",\"ACT 20: # of connections: 2\",\"ACT 22: # of connections: 2\",\"ACT 9: # of connections: 2\",\"ACT 26: # of connections: 2\",\"ACT 23: # of connections: 3\",\"ACT 24: # of connections: 3\",\"ACT 27: # of connections: 2\",\"ACT 28: # of connections: 2\",\"ACT 3: # of connections: 2\",\"MAT 22: # of connections: 7\",\"ACT 5: # of connections: 2\",\"ACT 6: # of connections: 2\",\"ACT 7: # of connections: 5\",\"LUK 2: # of connections: 4\",\"COL 1: # of connections: 5\",\"EPH 3: # of connections: 3\",\"COL 2: # of connections: 2\",\"ROM 6: # of connections: 4\",\"COL 3: # of connections: 2\",\"EPH 4: # of connections: 2\",\"EPH 6: # of connections: 4\",\"COL 4: # of connections: 2\",\"GAL 1: # of connections: 2\",\"GAL 2: # of connections: 2\",\"GAL 3: # of connections: 4\",\"ROM 4: # of connections: 4\",\"GAL 4: # of connections: 2\",\"JHN 8: # of connections: 6\",\"GAL 5: # of connections: 2\",\"ROM 13: # of connections: 2\",\"HEB 1: # of connections: 2\",\"HEB 3: # of connections: 4\",\"MAT 24: # of connections: 5\",\"HEB 10: # of connections: 5\",\"HEB 9: # of connections: 2\",\"HEB 13: # of connections: 2\",\"HEB 11: # of connections: 2\",\"HEB 5: # of connections: 3\",\"HEB 12: # of connections: 2\",\"HEB 2: # of connections: 3\",\"HEB 4: # of connections: 2\",\"HEB 7: # of connections: 2\",\"HEB 6: # of connections: 2\",\"HEB 8: # of connections: 2\",\"JHN 16: # of connections: 7\",\"JAS 2: # of connections: 2\",\"ROM 7: # of connections: 3\",\"JAS 3: # of connections: 2\",\"ROM 12: # of connections: 3\",\"JAS 4: # of connections: 2\",\"JAS 5: # of connections: 2\",\"JHN 1: # of connections: 2\",\"JHN 3: # of connections: 3\",\"JHN 9: # of connections: 3\",\"JHN 10: # of connections: 3\",\"JHN 11: # of connections: 5\",\"JHN 12: # of connections: 2\",\"JHN 6: # of connections: 4\",\"JHN 13: # of connections: 2\",\"JHN 15: # of connections: 3\",\"JHN 17: # of connections: 2\",\"JHN 18: # of connections: 2\",\"LUK 22: # of connections: 3\",\"JHN 19: # of connections: 3\",\"MRK 15: # of connections: 3\",\"MAT 27: # of connections: 3\",\"JHN 2: # of connections: 2\",\"JHN 4: # of connections: 3\",\"JHN 20: # of connections: 4\",\"JHN 21: # of connections: 2\",\"JHN 5: # of connections: 3\",\"LUK 1: # of connections: 3\",\"LUK 10: # of connections: 3\",\"MAT 11: # of connections: 2\",\"LUK 9: # of connections: 7\",\"LUK 11: # of connections: 2\",\"MAT 12: # of connections: 3\",\"MAT 23: # of connections: 2\",\"LUK 12: # of connections: 3\",\"MAT 6: # of connections: 2\",\"LUK 13: # of connections: 2\",\"MAT 21: # of connections: 5\",\"LUK 19: # of connections: 4\",\"LUK 14: # of connections: 2\",\"LUK 7: # of connections: 3\",\"LUK 15: # of connections: 2\",\"MAT 18: # of connections: 4\",\"LUK 16: # of connections: 2\",\"LUK 18: # of connections: 3\",\"LUK 17: # of connections: 2\",\"MRK 10: # of connections: 3\",\"MAT 19: # of connections: 2\",\"MRK 11: # of connections: 2\",\"LUK 4: # of connections: 3\",\"LUK 20: # of connections: 3\",\"MRK 12: # of connections: 3\",\"LUK 21: # of connections: 2\",\"MRK 13: # of connections: 3\",\"MRK 14: # of connections: 2\",\"MAT 26: # of connections: 3\",\"LUK 23: # of connections: 2\",\"LUK 3: # of connections: 3\",\"MAT 3: # of connections: 2\",\"MRK 1: # of connections: 5\",\"MAT 4: # of connections: 2\",\"LUK 5: # of connections: 2\",\"MRK 2: # of connections: 2\",\"MAT 9: # of connections: 3\",\"LUK 6: # of connections: 3\",\"MRK 3: # of connections: 2\",\"LUK 8: # of connections: 3\",\"MRK 5: # of connections: 2\",\"MRK 4: # of connections: 2\",\"MRK 8: # of connections: 5\",\"MRK 9: # of connections: 2\",\"MAT 1: # of connections: 2\",\"MAT 10: # of connections: 2\",\"MAT 13: # of connections: 3\",\"MAT 14: # of connections: 2\",\"MRK 6: # of connections: 2\",\"MAT 15: # of connections: 2\",\"MRK 7: # of connections: 2\",\"MAT 16: # of connections: 2\",\"MAT 17: # of connections: 2\",\"MAT 5: # of connections: 4\",\"MAT 2: # of connections: 2\",\"MAT 8: # of connections: 3\",\"MAT 20: # of connections: 2\",\"MAT 25: # of connections: 2\",\"MAT 28: # of connections: 2\",\"MRK 16: # of connections: 2\",\"MAT 7: # of connections: 2\",\"PHP 2: # of connections: 3\",\"PHP 4: # of connections: 2\",\"REV 22: # of connections: 2\",\"REV 4: # of connections: 3\",\"REV 10: # of connections: 2\",\"REV 11: # of connections: 4\",\"REV 8: # of connections: 5\",\"REV 19: # of connections: 8\",\"REV 12: # of connections: 2\",\"REV 20: # of connections: 2\",\"REV 17: # of connections: 3\",\"REV 14: # of connections: 5\",\"REV 16: # of connections: 3\",\"REV 15: # of connections: 2\",\"REV 5: # of connections: 3\",\"REV 18: # of connections: 2\",\"REV 2: # of connections: 2\",\"REV 3: # of connections: 2\",\"REV 21: # of connections: 2\",\"REV 7: # of connections: 2\",\"REV 6: # of connections: 2\",\"REV 9: # of connections: 2\",\"ROM 1: # of connections: 2\",\"ROM 10: # of connections: 2\",\"ROM 11: # of connections: 2\",\"ROM 2: # of connections: 2\",\"ROM 16: # of connections: 2\"],\"x\":[0.9538069461218038,0.869253659273791,-0.0940134445603935,-0.12483854137287938,-0.09009985140038518,-0.05746594359788767,-0.08040146909168494,-0.09554553604631685,-0.0031921151228992734,-0.023687796704287608,-0.052755676585804996,-0.3019434169374676,-0.40119231402891614,-0.27533546764119504,-0.05997230475806832,-0.10030910206559167,-0.1465647863886397,-0.19910651026609452,-0.040344589429714556,-0.24805877556683728,-0.1570388400993274,-0.15337070523056032,-0.12393701106310304,-0.12758709223949088,-0.2080715480697028,-0.3078357946886477,-0.10653804459184257,-0.11726222979351521,0.3293713119895346,0.29264340498397245,0.3065663523844677,0.2769057575068655,0.2867608858616877,-0.060493057893695336,-0.009666173253504898,-0.3286337100670877,-0.34534883437687625,-0.31547663326757264,-0.24945197825081233,-0.1555599824221191,-0.10371887849064754,-0.08641024202232016,-0.03246999114263826,-0.048226463770333544,-0.07039035116797517,-0.09433022601944224,-0.024259590154672425,-0.1391338281238346,-0.1840413813574526,-0.007774560070274993,0.01790326867163908,-0.05214037555970808,-0.07859047037296737,-0.08036550401658651,-0.07143704953868152,-0.07163218712734717,-0.05746701746728541,-0.056960035269991285,-0.12388570426641529,-0.15049120392230234,-0.11492642282362282,-0.09179658185222522,-0.10441281475039922,-0.17863755472220022,-0.1644960416518653,-0.03215998638242817,-0.001926667096976104,-0.1268650395102163,-0.12647047869515896,-0.1332823688688013,-0.15002916639392003,-0.06805041442246786,0.2393147250132683,-0.1554976286213595,-0.20855867994824445,-0.2370718495092895,-0.24334821002083332,-0.013459013979750798,0.05430845369129578,-0.3674249909780659,-0.43554522533434237,-0.39913602457673225,-0.31983256321953424,0.15655053849221515,0.2533731526797115,0.26605398611348374,0.20206388728045022,0.2885835473181206,0.22696375718430836,0.2695610948654166,0.12550226231548345,0.190630646868929,0.16109940740688403,0.36060782596060525,0.3633111274856356,0.47154508688374946,0.41708332710210305,0.5080982434327082,0.4142600401828123,0.18581294952316965,0.13179709805953588,0.417711081339045,0.39924733819646446,0.3455609975385964,0.4519348131586574,0.4884705130645658,0.4985598325907121,0.4320185438606007,0.3408388943402837,0.018278643550995635,-0.101423862960748,0.20834462538069395,0.23461955107459379,-0.0027255904012281882,-0.1152377015858856,0.027473130973536673,-0.025958690205772378,-0.02354436531275901,-0.09251888584041681,0.08746764641382485,0.0819436096332764,0.0359476204559948,0.08234413459685118,-0.18088868356183666,-0.16560883884777192,-0.2656842004890533,-0.23159580344027128,-0.3287134314334389,-0.37114358851123247,-0.3634238139212591,-0.41680978692284143,-0.28636459842134904,-0.1846355312431699,-0.36107059967960364,-0.08765594945918112,-0.08672709369255593,-0.08459116822158537,-0.02427236083107406,-0.07643656771115319,-0.05863498214793753,-0.13594516653654706,-0.17304977374757202,-0.07661882636579248,-0.13507839497144122,-0.051294280581598906,-0.1870726810752844,-0.1796113996975997,-0.1251240854866624,-0.12985878370696832,-0.1130568081446846,-0.19120907544618237,0.11370521803303672,-0.4773116484406929,-0.44510730204311094,-0.42752390174063637,-0.3747853831864466,-0.43780114282030563,-0.48223625753359295,-0.4536629976238313,-0.2754198329153407,-0.2398987634570821,-0.23767355311025795,0.22047662884789954,0.237478585933571,0.2094191476372113,0.20477952155090548,0.21700360907409955,-0.4486932557721329,-0.42431696181692824,-0.46673325828904305,-0.4785698184691319,-0.42671217186487775,-0.09978212597767953,-0.033815505756021054,-0.17315276142794983,0.13617939290292497,-0.3337849239671259,-0.2728035638949521,-0.3874088579851564,-0.39388446393885274,-0.4049005353260607,-0.027549758967071562,-0.03976590829838033,-0.00426199994368883,-0.20244498988803142,-0.28890432100867636,-0.22062415038545682,-0.3347651426287013,0.02969346295898458,0.04756885656729412,-0.35441214273590604,0.03305741008213704,0.05799604218542134,-0.01605681065832929,-0.18115656071414363,-0.06763843479018077,-0.06740585634275621,-0.3979685505119297,-0.3975096075948701,0.2570707671802018,0.23712004797581124,0.21174368252109232,-0.2183259980223112,-0.24573474873666215,-0.2341575774410469,-0.21366039768614897,-0.4983852328639559,-0.4877933021711358,-0.42683232266307897,-0.21691085533267077,-0.24776033913052287,-0.41686685282117325,-0.3576165095994468,-0.45720524538698065,0.22875310951340314,0.17868549912254522,-0.1653063984828155,-0.4182438025602031,-0.4396508018510782,0.24442114140752663,0.20246666731720947,0.2856659864972784,0.2910297747146629,0.20179149825600137,0.18137756649173953,-0.3908054340062928,-0.20000082359775442,-0.279806532504267,-0.02354210007880274,-0.4034585268968829,-0.5282140705035709,-0.5324177744437656,-0.1580217260883917,-0.11254555174433817,-0.07730613799095529,0.9856404953484648,0.8946349349455911,0.9597327414305548,0.9170812404402313,0.9480961133767657,0.8622424106634315,0.8874140022084038,0.8934260134239339,0.8554381705097965,0.8803367099878164,0.9349708649532837,0.8400143217588377,0.8610506193547048,0.8911925220492573,0.9999999999999999,0.9877731338334281,0.9733850544025523,0.8557557863371621,0.9091577637339289,0.9768566092857102,-0.04619910509859887,-0.008524679705673678,-0.28631497594401206,-0.3999100807438431,-0.02287828902072364],\"y\":[0.2600783759935872,0.08758195123159662,0.1916118258534213,0.26796368289996564,0.09572752763157664,0.2860565590035456,0.2951898162145497,0.22392609774269487,0.17977773714912607,0.22254453050471826,0.1367437888831837,0.2535800982983233,0.22396490884773476,0.21470375246375978,0.23090531634652534,0.15298899445908865,0.15506140368879995,0.22284024980937783,0.11578697700084453,0.2476280277036765,-0.04878414005285968,-0.09152639479916944,0.034370466235197024,-0.04533794005336129,0.12409349468581904,0.10941365558940118,0.33115621304058346,0.2954356045426553,0.3624181453669764,0.3283699580320343,0.346405028590222,0.3258662444721981,0.34658555483121756,0.019749256313096857,-0.01239582822879344,0.24981102738863545,0.16692801867271692,0.2790992786926466,0.27543987921356045,0.22433540519955636,0.016925831365318986,0.06155999763066166,0.3534034301186231,0.3939381971564725,0.25863955713806913,0.2453055005291448,0.2598834028318953,0.3036518855396842,0.27648931144880057,0.2037432810218072,0.24402620957630544,0.2883505308250744,0.48172900383497497,0.5397757178195174,0.5507102906100796,0.49686862029312023,0.41936759384598604,0.5027851269923173,0.42550645238406004,0.32239165534109293,0.06905440424214274,0.082046137362456,0.03062931762440898,-0.0074962637312533794,-0.012475145168157079,0.0648656273581426,0.08603350308341605,0.10832840856711609,0.13874174280931117,-0.021418869120794385,0.026130640254322695,0.08089003071887704,0.2912030451751739,0.3755974997016567,0.47269352060808817,0.548663736139205,0.5337306139159151,0.3034105425435094,0.18504930124944854,0.18578132390160337,0.1548516740338735,0.14608465395212175,0.16446497346117334,0.23237262051638316,-0.20433954547024208,-0.28030578148915064,-0.14470836480400082,-0.33699111597202913,-0.34990165477747553,-0.3276309861338804,-0.3836152695327332,-0.39843812303789833,-0.4244342492539162,-0.34501232054297815,-0.31859630494779084,-0.3908556549436395,-0.36134413513846975,-0.4239106725130554,-0.331314318148156,-0.22421307929133624,-0.24878771539376396,-0.3106165718557502,-0.4352832089273701,-0.3932097832044316,-0.45858517257554354,-0.41178809596071025,-0.4516199039767011,-0.3583604138465426,-0.3488516352961076,-0.21458026630709884,-0.18135210733667176,-0.2971980131341381,-0.405345604521061,-0.3821810295459688,-0.3441502765409376,-0.008826747526007936,0.010686122915805955,0.07762362031964791,0.16453217882182575,0.05621787135801018,0.007730061988004367,0.10345985340440396,0.143788835964322,0.147965894972266,0.15706868235376695,0.1877178750406285,0.2536615193496821,0.2114138217942084,0.22044661797574128,0.06430549314038381,0.0634142347446762,-0.39221510002439997,-0.46397507145552547,-0.2816341021713276,-0.2848867707549676,-0.3770346759990825,-0.10030187487308351,-0.4635191455480089,-0.507488965198549,-0.36581039010973293,-0.5205168057573953,-0.5278269279284262,-0.45090195266577215,-0.38717783146676815,-0.3517060702571785,0.23483687559733346,0.27686310902874,0.22089652492309214,0.24980398981455212,0.15382574880453675,0.3205397275319135,-0.11994104471052784,0.23807138768168537,0.20796759372780219,0.23505148768428943,0.2109672183433368,0.10911332222255232,0.13960406727629573,0.17844315220633894,0.2500535981960589,0.22935369583599405,0.23377220638440477,-0.35365864864484203,-0.26723054675472635,-0.44092924198718064,-0.4993632942751691,-0.49816021102006225,0.22467169238523527,0.18057975862204637,0.18372328334022403,0.23436971794630745,0.2496935055013169,-0.24440236343902172,-0.12383547526250903,-0.10330498341155107,-0.07286074328130697,0.036268393272793166,0.04456351523557765,0.006363167006729014,-0.21088757816662043,-0.12637768603211733,-0.3270451853722108,-0.2782742043733636,-0.32847927601594973,-0.13866772285027779,-0.0849880719953834,-0.16823102418461094,-0.1395297128098391,-0.37504621849056863,-0.3445767086653793,-0.2139485114949939,-0.2983620479045146,-0.3289268257350401,-0.3076408381260281,-0.40159352974517865,-0.23325232848364003,-0.2230103611940288,-0.316531695062236,-0.2923741680699222,-0.2324017184247327,-0.21271049129327468,-0.5343198568994401,-0.3881373281971324,-0.4311880732031964,-0.41110509156565583,-0.43819515074444804,-0.04561116037975345,-0.03838394604272553,-0.05098352450379836,-0.002460254110264203,0.03758079411358074,-0.3267684228847988,-0.35970467371031156,-0.3092058800907763,-0.03294304733349065,-0.06539373154852995,-0.3207317389448791,-0.2566138877752473,-0.2738620636705468,-0.008707889330631387,-0.02645875689446582,-0.020743543929236975,-0.006063356884833863,-0.05253699268223274,-0.08117671159595413,-0.030259848188546785,-0.3664165125105081,-0.3774876621997873,-0.2409607136419798,-0.2032744466346445,0.21380156048163063,0.19894864713334348,-0.08504813843513742,0.17882670936406986,0.14380897610702045,0.2335783552872498,0.22214862850770536,0.10326113889947154,0.12607505386907117,0.12902313445489125,0.16162336392540178,0.18091277645425996,0.15751635130319283,0.10931113228014329,0.12739740494532145,0.1521021902677673,0.19834028971586662,0.22957001955300768,0.08832766983351202,0.28745200646058455,0.30040040706575405,0.19253660828157051,0.20643941820674816,0.14785260870441058,0.12310236948017982,0.10096345709264903,0.08804491053334125,0.3083998430387817,0.11075364040441037,0.11472059452848571],\"type\":\"scatter\"}],                        {\"annotations\":[{\"showarrow\":false,\"text\":\"Python code: <a href='https://plotly.com/ipython-notebooks/network-graphs/'> https://plotly.com/ipython-notebooks/network-graphs/</a>\",\"x\":0.005,\"xref\":\"paper\",\"y\":-0.002,\"yref\":\"paper\"}],\"hovermode\":\"closest\",\"margin\":{\"b\":20,\"l\":5,\"r\":5,\"t\":120},\"showlegend\":false,\"title\":{\"font\":{\"size\":16},\"text\":\"<br>Network graph made with Python<br>Drag a box over a region of the graph to zoom in.<br>\"},\"xaxis\":{\"showgrid\":false,\"showticklabels\":false,\"zeroline\":false},\"yaxis\":{\"showgrid\":false,\"showticklabels\":false,\"zeroline\":false},\"template\":{\"data\":{\"histogram2dcontour\":[{\"type\":\"histogram2dcontour\",\"colorbar\":{\"outlinewidth\":0,\"ticks\":\"\"},\"colorscale\":[[0.0,\"#0d0887\"],[0.1111111111111111,\"#46039f\"],[0.2222222222222222,\"#7201a8\"],[0.3333333333333333,\"#9c179e\"],[0.4444444444444444,\"#bd3786\"],[0.5555555555555556,\"#d8576b\"],[0.6666666666666666,\"#ed7953\"],[0.7777777777777778,\"#fb9f3a\"],[0.8888888888888888,\"#fdca26\"],[1.0,\"#f0f921\"]]}],\"choropleth\":[{\"type\":\"choropleth\",\"colorbar\":{\"outlinewidth\":0,\"ticks\":\"\"}}],\"histogram2d\":[{\"type\":\"histogram2d\",\"colorbar\":{\"outlinewidth\":0,\"ticks\":\"\"},\"colorscale\":[[0.0,\"#0d0887\"],[0.1111111111111111,\"#46039f\"],[0.2222222222222222,\"#7201a8\"],[0.3333333333333333,\"#9c179e\"],[0.4444444444444444,\"#bd3786\"],[0.5555555555555556,\"#d8576b\"],[0.6666666666666666,\"#ed7953\"],[0.7777777777777778,\"#fb9f3a\"],[0.8888888888888888,\"#fdca26\"],[1.0,\"#f0f921\"]]}],\"heatmap\":[{\"type\":\"heatmap\",\"colorbar\":{\"outlinewidth\":0,\"ticks\":\"\"},\"colorscale\":[[0.0,\"#0d0887\"],[0.1111111111111111,\"#46039f\"],[0.2222222222222222,\"#7201a8\"],[0.3333333333333333,\"#9c179e\"],[0.4444444444444444,\"#bd3786\"],[0.5555555555555556,\"#d8576b\"],[0.6666666666666666,\"#ed7953\"],[0.7777777777777778,\"#fb9f3a\"],[0.8888888888888888,\"#fdca26\"],[1.0,\"#f0f921\"]]}],\"heatmapgl\":[{\"type\":\"heatmapgl\",\"colorbar\":{\"outlinewidth\":0,\"ticks\":\"\"},\"colorscale\":[[0.0,\"#0d0887\"],[0.1111111111111111,\"#46039f\"],[0.2222222222222222,\"#7201a8\"],[0.3333333333333333,\"#9c179e\"],[0.4444444444444444,\"#bd3786\"],[0.5555555555555556,\"#d8576b\"],[0.6666666666666666,\"#ed7953\"],[0.7777777777777778,\"#fb9f3a\"],[0.8888888888888888,\"#fdca26\"],[1.0,\"#f0f921\"]]}],\"contourcarpet\":[{\"type\":\"contourcarpet\",\"colorbar\":{\"outlinewidth\":0,\"ticks\":\"\"}}],\"contour\":[{\"type\":\"contour\",\"colorbar\":{\"outlinewidth\":0,\"ticks\":\"\"},\"colorscale\":[[0.0,\"#0d0887\"],[0.1111111111111111,\"#46039f\"],[0.2222222222222222,\"#7201a8\"],[0.3333333333333333,\"#9c179e\"],[0.4444444444444444,\"#bd3786\"],[0.5555555555555556,\"#d8576b\"],[0.6666666666666666,\"#ed7953\"],[0.7777777777777778,\"#fb9f3a\"],[0.8888888888888888,\"#fdca26\"],[1.0,\"#f0f921\"]]}],\"surface\":[{\"type\":\"surface\",\"colorbar\":{\"outlinewidth\":0,\"ticks\":\"\"},\"colorscale\":[[0.0,\"#0d0887\"],[0.1111111111111111,\"#46039f\"],[0.2222222222222222,\"#7201a8\"],[0.3333333333333333,\"#9c179e\"],[0.4444444444444444,\"#bd3786\"],[0.5555555555555556,\"#d8576b\"],[0.6666666666666666,\"#ed7953\"],[0.7777777777777778,\"#fb9f3a\"],[0.8888888888888888,\"#fdca26\"],[1.0,\"#f0f921\"]]}],\"mesh3d\":[{\"type\":\"mesh3d\",\"colorbar\":{\"outlinewidth\":0,\"ticks\":\"\"}}],\"scatter\":[{\"fillpattern\":{\"fillmode\":\"overlay\",\"size\":10,\"solidity\":0.2},\"type\":\"scatter\"}],\"parcoords\":[{\"type\":\"parcoords\",\"line\":{\"colorbar\":{\"outlinewidth\":0,\"ticks\":\"\"}}}],\"scatterpolargl\":[{\"type\":\"scatterpolargl\",\"marker\":{\"colorbar\":{\"outlinewidth\":0,\"ticks\":\"\"}}}],\"bar\":[{\"error_x\":{\"color\":\"#2a3f5f\"},\"error_y\":{\"color\":\"#2a3f5f\"},\"marker\":{\"line\":{\"color\":\"#E5ECF6\",\"width\":0.5},\"pattern\":{\"fillmode\":\"overlay\",\"size\":10,\"solidity\":0.2}},\"type\":\"bar\"}],\"scattergeo\":[{\"type\":\"scattergeo\",\"marker\":{\"colorbar\":{\"outlinewidth\":0,\"ticks\":\"\"}}}],\"scatterpolar\":[{\"type\":\"scatterpolar\",\"marker\":{\"colorbar\":{\"outlinewidth\":0,\"ticks\":\"\"}}}],\"histogram\":[{\"marker\":{\"pattern\":{\"fillmode\":\"overlay\",\"size\":10,\"solidity\":0.2}},\"type\":\"histogram\"}],\"scattergl\":[{\"type\":\"scattergl\",\"marker\":{\"colorbar\":{\"outlinewidth\":0,\"ticks\":\"\"}}}],\"scatter3d\":[{\"type\":\"scatter3d\",\"line\":{\"colorbar\":{\"outlinewidth\":0,\"ticks\":\"\"}},\"marker\":{\"colorbar\":{\"outlinewidth\":0,\"ticks\":\"\"}}}],\"scattermapbox\":[{\"type\":\"scattermapbox\",\"marker\":{\"colorbar\":{\"outlinewidth\":0,\"ticks\":\"\"}}}],\"scatterternary\":[{\"type\":\"scatterternary\",\"marker\":{\"colorbar\":{\"outlinewidth\":0,\"ticks\":\"\"}}}],\"scattercarpet\":[{\"type\":\"scattercarpet\",\"marker\":{\"colorbar\":{\"outlinewidth\":0,\"ticks\":\"\"}}}],\"carpet\":[{\"aaxis\":{\"endlinecolor\":\"#2a3f5f\",\"gridcolor\":\"white\",\"linecolor\":\"white\",\"minorgridcolor\":\"white\",\"startlinecolor\":\"#2a3f5f\"},\"baxis\":{\"endlinecolor\":\"#2a3f5f\",\"gridcolor\":\"white\",\"linecolor\":\"white\",\"minorgridcolor\":\"white\",\"startlinecolor\":\"#2a3f5f\"},\"type\":\"carpet\"}],\"table\":[{\"cells\":{\"fill\":{\"color\":\"#EBF0F8\"},\"line\":{\"color\":\"white\"}},\"header\":{\"fill\":{\"color\":\"#C8D4E3\"},\"line\":{\"color\":\"white\"}},\"type\":\"table\"}],\"barpolar\":[{\"marker\":{\"line\":{\"color\":\"#E5ECF6\",\"width\":0.5},\"pattern\":{\"fillmode\":\"overlay\",\"size\":10,\"solidity\":0.2}},\"type\":\"barpolar\"}],\"pie\":[{\"automargin\":true,\"type\":\"pie\"}]},\"layout\":{\"autotypenumbers\":\"strict\",\"colorway\":[\"#636efa\",\"#EF553B\",\"#00cc96\",\"#ab63fa\",\"#FFA15A\",\"#19d3f3\",\"#FF6692\",\"#B6E880\",\"#FF97FF\",\"#FECB52\"],\"font\":{\"color\":\"#2a3f5f\"},\"hovermode\":\"closest\",\"hoverlabel\":{\"align\":\"left\"},\"paper_bgcolor\":\"white\",\"plot_bgcolor\":\"#E5ECF6\",\"polar\":{\"bgcolor\":\"#E5ECF6\",\"angularaxis\":{\"gridcolor\":\"white\",\"linecolor\":\"white\",\"ticks\":\"\"},\"radialaxis\":{\"gridcolor\":\"white\",\"linecolor\":\"white\",\"ticks\":\"\"}},\"ternary\":{\"bgcolor\":\"#E5ECF6\",\"aaxis\":{\"gridcolor\":\"white\",\"linecolor\":\"white\",\"ticks\":\"\"},\"baxis\":{\"gridcolor\":\"white\",\"linecolor\":\"white\",\"ticks\":\"\"},\"caxis\":{\"gridcolor\":\"white\",\"linecolor\":\"white\",\"ticks\":\"\"}},\"coloraxis\":{\"colorbar\":{\"outlinewidth\":0,\"ticks\":\"\"}},\"colorscale\":{\"sequential\":[[0.0,\"#0d0887\"],[0.1111111111111111,\"#46039f\"],[0.2222222222222222,\"#7201a8\"],[0.3333333333333333,\"#9c179e\"],[0.4444444444444444,\"#bd3786\"],[0.5555555555555556,\"#d8576b\"],[0.6666666666666666,\"#ed7953\"],[0.7777777777777778,\"#fb9f3a\"],[0.8888888888888888,\"#fdca26\"],[1.0,\"#f0f921\"]],\"sequentialminus\":[[0.0,\"#0d0887\"],[0.1111111111111111,\"#46039f\"],[0.2222222222222222,\"#7201a8\"],[0.3333333333333333,\"#9c179e\"],[0.4444444444444444,\"#bd3786\"],[0.5555555555555556,\"#d8576b\"],[0.6666666666666666,\"#ed7953\"],[0.7777777777777778,\"#fb9f3a\"],[0.8888888888888888,\"#fdca26\"],[1.0,\"#f0f921\"]],\"diverging\":[[0,\"#8e0152\"],[0.1,\"#c51b7d\"],[0.2,\"#de77ae\"],[0.3,\"#f1b6da\"],[0.4,\"#fde0ef\"],[0.5,\"#f7f7f7\"],[0.6,\"#e6f5d0\"],[0.7,\"#b8e186\"],[0.8,\"#7fbc41\"],[0.9,\"#4d9221\"],[1,\"#276419\"]]},\"xaxis\":{\"gridcolor\":\"white\",\"linecolor\":\"white\",\"ticks\":\"\",\"title\":{\"standoff\":15},\"zerolinecolor\":\"white\",\"automargin\":true,\"zerolinewidth\":2},\"yaxis\":{\"gridcolor\":\"white\",\"linecolor\":\"white\",\"ticks\":\"\",\"title\":{\"standoff\":15},\"zerolinecolor\":\"white\",\"automargin\":true,\"zerolinewidth\":2},\"scene\":{\"xaxis\":{\"backgroundcolor\":\"#E5ECF6\",\"gridcolor\":\"white\",\"linecolor\":\"white\",\"showbackground\":true,\"ticks\":\"\",\"zerolinecolor\":\"white\",\"gridwidth\":2},\"yaxis\":{\"backgroundcolor\":\"#E5ECF6\",\"gridcolor\":\"white\",\"linecolor\":\"white\",\"showbackground\":true,\"ticks\":\"\",\"zerolinecolor\":\"white\",\"gridwidth\":2},\"zaxis\":{\"backgroundcolor\":\"#E5ECF6\",\"gridcolor\":\"white\",\"linecolor\":\"white\",\"showbackground\":true,\"ticks\":\"\",\"zerolinecolor\":\"white\",\"gridwidth\":2}},\"shapedefaults\":{\"line\":{\"color\":\"#2a3f5f\"}},\"annotationdefaults\":{\"arrowcolor\":\"#2a3f5f\",\"arrowhead\":0,\"arrowwidth\":1},\"geo\":{\"bgcolor\":\"white\",\"landcolor\":\"#E5ECF6\",\"subunitcolor\":\"white\",\"showland\":true,\"showlakes\":true,\"lakecolor\":\"white\"},\"title\":{\"x\":0.05},\"mapbox\":{\"style\":\"light\"}}}},                        {\"responsive\": true}                    ).then(function(){\n",
              "                            \n",
              "var gd = document.getElementById('9260b4a3-3a7e-4c76-9c95-37ece1121bee');\n",
              "var x = new MutationObserver(function (mutations, observer) {{\n",
              "        var display = window.getComputedStyle(gd).display;\n",
              "        if (!display || display === 'none') {{\n",
              "            console.log([gd, 'removed!']);\n",
              "            Plotly.purge(gd);\n",
              "            observer.disconnect();\n",
              "        }}\n",
              "}});\n",
              "\n",
              "// Listen for the removal of the full notebook cells\n",
              "var notebookContainer = gd.closest('#notebook-container');\n",
              "if (notebookContainer) {{\n",
              "    x.observe(notebookContainer, {childList: true});\n",
              "}}\n",
              "\n",
              "// Listen for the clearing of the current output cell\n",
              "var outputEl = gd.closest('.output');\n",
              "if (outputEl) {{\n",
              "    x.observe(outputEl, {childList: true});\n",
              "}}\n",
              "\n",
              "                        })                };                            </script>        </div>\n",
              "</body>\n",
              "</html>"
            ]
          },
          "metadata": {}
        }
      ],
      "source": [
        "# Display the graph\n",
        "\n",
        "fig = go.Figure(data=[edge_trace, node_trace],\n",
        "             layout=go.Layout(\n",
        "                title='<br>Network graph made with Python<br>Drag a box over a region of the graph to zoom in.<br>',\n",
        "                titlefont_size=16,\n",
        "                showlegend=False,\n",
        "                hovermode='closest',\n",
        "                margin=dict(b=20,l=5,r=5,t=120),\n",
        "                annotations=[ dict(\n",
        "                    text=\"Python code: <a href='https://plotly.com/ipython-notebooks/network-graphs/'> https://plotly.com/ipython-notebooks/network-graphs/</a>\",\n",
        "                    showarrow=False,\n",
        "                    xref=\"paper\", yref=\"paper\",\n",
        "                    x=0.005, y=-0.002 ) ],\n",
        "                xaxis=dict(showgrid=False, zeroline=False, showticklabels=False),\n",
        "                yaxis=dict(showgrid=False, zeroline=False, showticklabels=False))\n",
        "                )\n",
        "fig.show()"
      ]
    },
    {
      "cell_type": "markdown",
      "metadata": {
        "id": "xIcG97DyQQvd"
      },
      "source": [
        "# Conclusion\n",
        "In this notebook, we demonstrated how to load and preprocess the MACULA Greek dataset, analyze its contents, and visualize its data using Python and popular data science libraries. We also explored the relationship between unique lemmas and semantic domains, and used cosine similarity to cluster the chapters based on semantic domain similarity."
      ]
    }
  ],
  "metadata": {
    "colab": {
      "provenance": [],
      "toc_visible": true,
      "include_colab_link": true
    },
    "kernelspec": {
      "display_name": "base",
      "language": "python",
      "name": "python3"
    },
    "language_info": {
      "codemirror_mode": {
        "name": "ipython",
        "version": 3
      },
      "file_extension": ".py",
      "mimetype": "text/x-python",
      "name": "python",
      "nbconvert_exporter": "python",
      "pygments_lexer": "ipython3",
      "version": "3.10.6"
    },
    "vscode": {
      "interpreter": {
        "hash": "261c81d9770836645c1875bc212c956f9f8ac154131031456fd81a36e7fefac3"
      }
    }
  },
  "nbformat": 4,
  "nbformat_minor": 0
}